{
 "cells": [
  {
   "cell_type": "code",
   "execution_count": 1,
   "metadata": {},
   "outputs": [],
   "source": [
    "import tensorboard\n",
    "import tensorflow as tf\n",
    "import keras \n",
    "import tensorflow_hub as hub\n",
    "import tensorflow_text\n",
    "import pandas as pd"
   ]
  },
  {
   "cell_type": "code",
   "execution_count": 2,
   "metadata": {},
   "outputs": [],
   "source": [
    "import os\n",
    "import shutil\n",
    "\n",
    "import tensorflow as tf\n",
    "import tensorflow_hub as hub\n",
    "import tensorflow_text as text\n",
    "from official.nlp import optimization  # to create AdamW optimizer\n",
    "\n",
    "import matplotlib.pyplot as plt\n",
    "import numpy as np"
   ]
  },
  {
   "cell_type": "code",
   "execution_count": 3,
   "metadata": {},
   "outputs": [],
   "source": [
    "data = pd.read_csv('./Data/Dynasent/train.csv')"
   ]
  },
  {
   "cell_type": "code",
   "execution_count": 18,
   "metadata": {},
   "outputs": [],
   "source": [
    "from sklearn.preprocessing import LabelBinarizer\n",
    "encoderNew = LabelBinarizer()\n",
    "transfomed_label = encoderNew.fit_transform(data['gold_label'])\n",
    "data['gold_label'] = transfomed_label\n",
    "\n",
    "# Save the encoder classes for later use\n",
    "np.save('./Models/encoder.npy', encoderNew.classes_)"
   ]
  },
  {
   "cell_type": "code",
   "execution_count": 5,
   "metadata": {},
   "outputs": [],
   "source": [
    "# data preprocessing\n",
    "data['sentence'] = data['sentence'].apply(lambda x: x.lower())\n",
    "data['sentence'] = data['sentence'].apply(lambda x: x.replace('\\n', ' '))\n",
    "data['sentence'] = data['sentence'].apply(lambda x: x.replace('\\t', ' '))\n",
    "data['sentence'] = data['sentence'].apply(lambda x: x.replace('\\r', ' '))\n",
    "data['sentence'] = data['sentence'].apply(lambda x: x.replace('\\xa0', ' '))\n",
    "data['sentence'] = data['sentence'].apply(lambda x: x.replace('\\u200b', ' '))\n",
    "data['sentence'] = data['sentence'].apply(lambda x: x.replace('\\ufeff', ' '))"
   ]
  },
  {
   "cell_type": "code",
   "execution_count": 6,
   "metadata": {},
   "outputs": [],
   "source": [
    "train_ds = tf.data.Dataset.from_tensor_slices((data['sentence'], data['gold_label']))"
   ]
  },
  {
   "cell_type": "code",
   "execution_count": 7,
   "metadata": {},
   "outputs": [],
   "source": [
    "val_ds = pd.read_csv('./Data/Dynasent/valid.csv')"
   ]
  },
  {
   "cell_type": "code",
   "execution_count": 8,
   "metadata": {},
   "outputs": [],
   "source": [
    "val_ds['sentence'] = val_ds['sentence'].apply(lambda x: x.lower())\n",
    "val_ds['sentence'] = val_ds['sentence'].apply(lambda x: x.replace('\\n', ' '))\n",
    "val_ds['sentence'] = val_ds['sentence'].apply(lambda x: x.replace('\\t', ' '))\n",
    "val_ds['sentence'] = val_ds['sentence'].apply(lambda x: x.replace('\\r', ' '))\n",
    "val_ds['sentence'] = val_ds['sentence'].apply(lambda x: x.replace('\\xa0', ' '))\n",
    "val_ds['sentence'] = val_ds['sentence'].apply(lambda x: x.replace('\\u200b', ' '))\n",
    "val_ds['sentence'] = val_ds['sentence'].apply(lambda x: x.replace('\\ufeff', ' '))"
   ]
  },
  {
   "cell_type": "code",
   "execution_count": 9,
   "metadata": {},
   "outputs": [],
   "source": [
    "val_ds_label = encoder.transform(val_ds['gold_label'])\n",
    "val_ds['gold_label'] = val_ds_label\n",
    "\n",
    "val_ds = tf.data.Dataset.from_tensor_slices((val_ds['sentence'], val_ds['gold_label']))"
   ]
  },
  {
   "cell_type": "code",
   "execution_count": 10,
   "metadata": {},
   "outputs": [],
   "source": [
    "AUTOTUNE = tf.data.AUTOTUNE\n",
    "batch_size = 32\n",
    "seed = 42\n",
    "\n",
    "train_ds = train_ds.shuffle(buffer_size=len(data)).batch(batch_size)\n",
    "train_ds = train_ds.cache().prefetch(buffer_size=AUTOTUNE)\n",
    "\n",
    "val_ds = val_ds.shuffle(buffer_size=len(val_ds)).batch(batch_size)\n",
    "val_ds = val_ds.cache().prefetch(buffer_size=AUTOTUNE)"
   ]
  },
  {
   "cell_type": "code",
   "execution_count": 11,
   "metadata": {},
   "outputs": [],
   "source": [
    "tfhub_encoder = \"https://tfhub.dev/tensorflow/bert_en_uncased_L-12_H-768_A-12/4\"\n",
    "tfhub_prepocess = \"https://tfhub.dev/tensorflow/bert_en_uncased_preprocess/3\"\n"
   ]
  },
  {
   "cell_type": "code",
   "execution_count": 12,
   "metadata": {},
   "outputs": [
    {
     "name": "stdout",
     "output_type": "stream",
     "text": [
      "Model: \"model\"\n",
      "__________________________________________________________________________________________________\n",
      " Layer (type)                   Output Shape         Param #     Connected to                     \n",
      "==================================================================================================\n",
      " text_input (InputLayer)        [(None,)]            0           []                               \n",
      "                                                                                                  \n",
      " Preprocessing_for_BERT (KerasL  {'input_word_ids':   0          ['text_input[0][0]']             \n",
      " ayer)                          (None, 128),                                                      \n",
      "                                 'input_mask': (Non                                               \n",
      "                                e, 128),                                                          \n",
      "                                 'input_type_ids':                                                \n",
      "                                (None, 128)}                                                      \n",
      "                                                                                                  \n",
      " BERT_encoder (KerasLayer)      {'sequence_output':  109482241   ['Preprocessing_for_BERT[0][0]', \n",
      "                                 (None, 128, 768),                'Preprocessing_for_BERT[0][1]', \n",
      "                                 'pooled_output': (               'Preprocessing_for_BERT[0][2]'] \n",
      "                                None, 768),                                                       \n",
      "                                 'default': (None,                                                \n",
      "                                768),                                                             \n",
      "                                 'encoder_outputs':                                               \n",
      "                                 [(None, 128, 768),                                               \n",
      "                                 (None, 128, 768),                                                \n",
      "                                 (None, 128, 768),                                                \n",
      "                                 (None, 128, 768),                                                \n",
      "                                 (None, 128, 768),                                                \n",
      "                                 (None, 128, 768),                                                \n",
      "                                 (None, 128, 768),                                                \n",
      "                                 (None, 128, 768),                                                \n",
      "                                 (None, 128, 768),                                                \n",
      "                                 (None, 128, 768),                                                \n",
      "                                 (None, 128, 768),                                                \n",
      "                                 (None, 128, 768)]}                                               \n",
      "                                                                                                  \n",
      " dropout (Dropout)              (None, 128, 768)     0           ['BERT_encoder[0][14]']          \n",
      "                                                                                                  \n",
      " dense (Dense)                  (None, 128, 50)      38450       ['dropout[0][0]']                \n",
      "                                                                                                  \n",
      " dropout_1 (Dropout)            (None, 128, 50)      0           ['dense[0][0]']                  \n",
      "                                                                                                  \n",
      " dense_1 (Dense)                (None, 128, 25)      1275        ['dropout_1[0][0]']              \n",
      "                                                                                                  \n",
      " dropout_2 (Dropout)            (None, 128, 25)      0           ['dense_1[0][0]']                \n",
      "                                                                                                  \n",
      " dense_2 (Dense)                (None, 128, 20)      520         ['dropout_2[0][0]']              \n",
      "                                                                                                  \n",
      " dropout_3 (Dropout)            (None, 128, 20)      0           ['dense_2[0][0]']                \n",
      "                                                                                                  \n",
      " flatten (Flatten)              (None, 2560)         0           ['dropout_3[0][0]']              \n",
      "                                                                                                  \n",
      " dense_3 (Dense)                (None, 3)            7683        ['flatten[0][0]']                \n",
      "                                                                                                  \n",
      "==================================================================================================\n",
      "Total params: 109,530,169\n",
      "Trainable params: 47,928\n",
      "Non-trainable params: 109,482,241\n",
      "__________________________________________________________________________________________________\n"
     ]
    }
   ],
   "source": [
    "# create the deep learning model to classify text into three categories\n",
    "text_input = keras.Input(shape=(), dtype='string', name='text_input')\n",
    "preprocessing_layer = hub.KerasLayer(tfhub_prepocess, name='Preprocessing_for_BERT')\n",
    "encoder_inputs = preprocessing_layer(text_input)\n",
    "encoder = hub.KerasLayer(tfhub_encoder, trainable=False, name='BERT_encoder')\n",
    "outputs = encoder(encoder_inputs)\n",
    "x = keras.layers.Dropout(0.2)(outputs['sequence_output'])\n",
    "x = keras.layers.Dense(50, activation='relu')(x)\n",
    "x = keras.layers.Dropout(0.2)(x)\n",
    "x = keras.layers.Dense(25, activation='relu')(x)\n",
    "x = keras.layers.Dropout(0.3)(x)\n",
    "x = keras.layers.Dense(20, activation='relu')(x)\n",
    "x = keras.layers.Dropout(0.35)(x)\n",
    "x = keras.layers.Flatten()(x)\n",
    "x = keras.layers.Dense(3, activation='softmax')(x)\n",
    "model = keras.Model(inputs=[text_input], outputs=x)\n",
    "model.compile(optimizer='adam',\n",
    "                loss='sparse_categorical_crossentropy',             \n",
    "                metrics=['accuracy'])\n",
    "model.summary()"
   ]
  },
  {
   "cell_type": "code",
   "execution_count": 13,
   "metadata": {},
   "outputs": [],
   "source": [
    "from tensorflow.keras.callbacks import TensorBoard\n",
    "import time\n",
    "\n",
    "# logs about the training process\n",
    "# accuracy and loss are plotted in the TensorBoard\n",
    "log_dir = \"logs/fit/\" + str(int(time.time()))\n",
    "tensorboard_callback = TensorBoard(log_dir=log_dir, histogram_freq=1)"
   ]
  },
  {
   "cell_type": "code",
   "execution_count": 14,
   "metadata": {},
   "outputs": [
    {
     "name": "stdout",
     "output_type": "stream",
     "text": [
      "Epoch 1/50\n",
      "2516/2516 [==============================] - 983s 387ms/step - loss: 0.3569 - accuracy: 0.8458 - val_loss: 0.5513 - val_accuracy: 0.7381\n",
      "Epoch 2/50\n",
      "2516/2516 [==============================] - 982s 390ms/step - loss: 0.3265 - accuracy: 0.8598 - val_loss: 0.5400 - val_accuracy: 0.7400\n",
      "Epoch 3/50\n",
      "2516/2516 [==============================] - 955s 379ms/step - loss: 0.3135 - accuracy: 0.8666 - val_loss: 0.5160 - val_accuracy: 0.7514\n",
      "Epoch 4/50\n",
      "2516/2516 [==============================] - 947s 376ms/step - loss: 0.3036 - accuracy: 0.8705 - val_loss: 0.5234 - val_accuracy: 0.7483\n",
      "Epoch 5/50\n",
      "2516/2516 [==============================] - 971s 386ms/step - loss: 0.2931 - accuracy: 0.8749 - val_loss: 0.5088 - val_accuracy: 0.7497\n",
      "Epoch 6/50\n",
      "2516/2516 [==============================] - 967s 384ms/step - loss: 0.2847 - accuracy: 0.8785 - val_loss: 0.5092 - val_accuracy: 0.7544\n",
      "Epoch 7/50\n",
      "2516/2516 [==============================] - 960s 381ms/step - loss: 0.2765 - accuracy: 0.8827 - val_loss: 0.5138 - val_accuracy: 0.7525\n",
      "Epoch 8/50\n",
      "2516/2516 [==============================] - 944s 375ms/step - loss: 0.2686 - accuracy: 0.8845 - val_loss: 0.5166 - val_accuracy: 0.7561\n",
      "Epoch 9/50\n",
      "2516/2516 [==============================] - 941s 374ms/step - loss: 0.2617 - accuracy: 0.8887 - val_loss: 0.5088 - val_accuracy: 0.7625\n",
      "Epoch 10/50\n",
      "2516/2516 [==============================] - 941s 374ms/step - loss: 0.2558 - accuracy: 0.8913 - val_loss: 0.5258 - val_accuracy: 0.7625\n"
     ]
    }
   ],
   "source": [
    "epochs = 50\n",
    "history = model.fit(train_ds,\n",
    "                    validation_data=val_ds,\n",
    "                    epochs=epochs,\n",
    "                    verbose=1,\n",
    "                    callbacks=[\n",
    "                        keras.callbacks.TensorBoard(\"logs/fit/\" + str(int(time.time())),\n",
    "                                                    histogram_freq=1,\n",
    "                                                    write_graph=True,\n",
    "                                                    write_images=True),\n",
    "                        keras.callbacks.EarlyStopping(patience=5,\n",
    "                                                      monitor='val_loss')\n",
    "\n",
    "                    ])\n"
   ]
  },
  {
   "cell_type": "code",
   "execution_count": 15,
   "metadata": {},
   "outputs": [],
   "source": [
    "# load test data\n",
    "test_ds = pd.read_csv('./Data/Dynasent/test.csv')\n",
    "\n",
    "\n",
    "test_ds['sentence'] = test_ds['sentence'].apply(lambda x: x.lower())\n",
    "test_ds['sentence'] = test_ds['sentence'].apply(lambda x: x.replace('\\n', ' '))\n",
    "test_ds['sentence'] = test_ds['sentence'].apply(lambda x: x.replace('\\t', ' '))\n",
    "test_ds['sentence'] = test_ds['sentence'].apply(lambda x: x.replace('\\r', ' '))\n",
    "test_ds['sentence'] = test_ds['sentence'].apply(lambda x: x.replace('\\xa0', ' '))\n",
    "test_ds['sentence'] = test_ds['sentence'].apply(lambda x: x.replace('\\u200b', ' '))\n",
    "test_ds['sentence'] = test_ds['sentence'].apply(lambda x: x.replace('\\ufeff', ' '))"
   ]
  },
  {
   "cell_type": "code",
   "execution_count": 19,
   "metadata": {},
   "outputs": [],
   "source": [
    "# transform the test data using the same encoder\n",
    "test_ds_label = encoderNew.transform(test_ds['gold_label'])\n",
    "test_ds['gold_label'] = test_ds_label\n",
    "\n",
    "# create the test dataset\n",
    "test_ds = tf.data.Dataset.from_tensor_slices((test_ds['sentence'], test_ds['gold_label']))"
   ]
  },
  {
   "cell_type": "code",
   "execution_count": 20,
   "metadata": {},
   "outputs": [
    {
     "name": "stdout",
     "output_type": "stream",
     "text": [
      "113/113 [==============================] - 40s 352ms/step - loss: 0.3527 - accuracy: 0.8747\n",
      "Test loss: 0.35270124673843384\n",
      "Test accuracy: 0.8747222423553467\n"
     ]
    }
   ],
   "source": [
    "# create the test dataset\n",
    "test_ds = test_ds.shuffle(buffer_size=len(test_ds)).batch(batch_size)\n",
    "test_ds = test_ds.cache().prefetch(buffer_size=AUTOTUNE)\n",
    "\n",
    "\n",
    "# evaluate the model\n",
    "results = model.evaluate(test_ds, verbose=1, callbacks=[\n",
    "    keras.callbacks.TensorBoard(log_dir='./logs',\n",
    "                                histogram_freq=1,\n",
    "                                write_graph=True,\n",
    "                                write_images=True)]\n",
    ")\n",
    "\n",
    "\n",
    "# print the results\n",
    "print('Test loss:', results[0])\n",
    "print('Test accuracy:', results[1])"
   ]
  },
  {
   "cell_type": "code",
   "execution_count": 21,
   "metadata": {},
   "outputs": [
    {
     "data": {
      "image/png": "[encoded data removed]",
      "text/plain": [
       "<Figure size 864x432 with 2 Axes>"
      ]
     },
     "metadata": {
      "needs_background": "light"
     },
     "output_type": "display_data"
    }
   ],
   "source": [
    "#draw the accuracy and loss curves\n",
    "import matplotlib.pyplot as plt\n",
    "\n",
    "plt.figure(figsize=(12, 6))\n",
    "plt.subplot(1, 2, 1)\n",
    "plt.plot(history.history['accuracy'], label='accuracy')\n",
    "plt.plot(history.history['val_accuracy'], label='val_accuracy')\n",
    "plt.xlabel('Epoch')\n",
    "plt.ylabel('Accuracy')\n",
    "plt.ylim([0.5, 1])\n",
    "plt.legend(loc='lower right')\n",
    "\n",
    "plt.subplot(1, 2, 2)\n",
    "plt.plot(history.history['loss'], label='loss')\n",
    "plt.plot(history.history['val_loss'], label='val_loss')\n",
    "plt.xlabel('Epoch')\n",
    "plt.ylabel('Loss')\n",
    "plt.legend(loc='upper right')\n",
    "plt.ylim([0, 1])\n",
    "plt.show()\n",
    "\n"
   ]
  },
  {
   "cell_type": "code",
   "execution_count": null,
   "metadata": {},
   "outputs": [],
   "source": [
    "# Test Model with Sample Test Data\n",
    "text = 'There were members who do not contribute for the projects. Actually I do not prefer to work with a team'\n",
    "\n",
    "\n",
    "# get prdiction from the model\n",
    "prediction = model.predict([text])"
   ]
  },
  {
   "cell_type": "code",
   "execution_count": null,
   "metadata": {},
   "outputs": [],
   "source": [
    "encoder.inverse_transform(prediction)"
   ]
  },
  {
   "cell_type": "code",
   "execution_count": null,
   "metadata": {},
   "outputs": [],
   "source": [
    "model.save('model.pb')"
   ]
  },
  {
   "cell_type": "code",
   "execution_count": null,
   "metadata": {},
   "outputs": [],
   "source": [
    "#save the model\n",
    "model.save('./Models/model1')"
   ]
  },
  {
   "cell_type": "code",
   "execution_count": null,
   "metadata": {},
   "outputs": [],
   "source": [
    "# load the model\n",
    "model = keras.models.load_model('./Models/model1')"
   ]
  },
  {
   "cell_type": "code",
   "execution_count": null,
   "metadata": {},
   "outputs": [],
   "source": [
    "from keras.utils.vis_utils import plot_model\n",
    "plot_model(model, to_file='./Model Output/model1_structure.png', show_shapes=True)"
   ]
  },
  {
   "cell_type": "code",
   "execution_count": null,
   "metadata": {},
   "outputs": [],
   "source": [
    "import matplotlib.pyplot as plt\n",
    "plt.plot(history.history['accuracy'])\n",
    "plt.plot(history.history['val_accuracy'])\n",
    "plt.title('Model Accuracy')\n",
    "plt.ylabel('Accuracy')\n",
    "plt.xlabel('Epoch')\n",
    "plt.legend(['Train', 'Val'], loc='upper left')\n",
    "plt.show()\n",
    "\n",
    "\n",
    "plt.plot(history.history['loss'])\n",
    "plt.plot(history.history['val_loss'])\n",
    "plt.title('Model Loss')\n",
    "plt.ylabel('Loss')\n",
    "plt.xlabel('Epoch')\n",
    "plt.legend(['Train', 'Val'], loc='upper left')\n",
    "plt.show()"
   ]
  }
 ],
 "metadata": {
  "interpreter": {
   "hash": "6dd968e44b48f26426fe23fbd93cd49fd04e6edb7e547023c0509ffaabbd7da7"
  },
  "kernelspec": {
   "display_name": "Python 3.9.12 ('research')",
   "language": "python",
   "name": "python3"
  },
  "language_info": {
   "codemirror_mode": {
    "name": "ipython",
    "version": 3
   },
   "file_extension": ".py",
   "mimetype": "text/x-python",
   "name": "python",
   "nbconvert_exporter": "python",
   "pygments_lexer": "ipython3",
   "version": "3.9.12"
  },
  "orig_nbformat": 4
 },
 "nbformat": 4,
 "nbformat_minor": 2
}
