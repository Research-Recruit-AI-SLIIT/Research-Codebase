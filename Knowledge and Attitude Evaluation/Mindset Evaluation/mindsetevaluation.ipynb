{
 "cells": [
  {
   "cell_type": "code",
   "execution_count": 1,
   "metadata": {},
   "outputs": [],
   "source": [
    "import tensorboard\n",
    "import tensorflow as tf\n",
    "import keras \n",
    "import tensorflow_hub as hub\n",
    "import tensorflow_text\n",
    "import pandas as pd"
   ]
  },
  {
   "cell_type": "code",
   "execution_count": 2,
   "metadata": {},
   "outputs": [],
   "source": [
    "import os\n",
    "import shutil\n",
    "\n",
    "import tensorflow as tf\n",
    "import tensorflow_hub as hub\n",
    "import tensorflow_text as text\n",
    "from official.nlp import optimization  # to create AdamW optimizer\n",
    "\n",
    "import matplotlib.pyplot as plt\n"
   ]
  },
  {
   "cell_type": "code",
   "execution_count": 3,
   "metadata": {},
   "outputs": [],
   "source": [
    "data = pd.read_csv('./Data/Dynasent/train.csv')"
   ]
  },
  {
   "cell_type": "code",
   "execution_count": 17,
   "metadata": {},
   "outputs": [],
   "source": [
    "from sklearn.preprocessing import LabelBinarizer\n",
    "encoder = LabelBinarizer()\n",
    "transfomed_label = encoder.fit_transform(data['gold_label'])\n",
    "data['gold_label'] = transfomed_label"
   ]
  },
  {
   "cell_type": "code",
   "execution_count": 5,
   "metadata": {},
   "outputs": [],
   "source": [
    "# data preprocessing\n",
    "data['sentence'] = data['sentence'].apply(lambda x: x.lower())\n",
    "data['sentence'] = data['sentence'].apply(lambda x: x.replace('\\n', ' '))\n",
    "data['sentence'] = data['sentence'].apply(lambda x: x.replace('\\t', ' '))\n",
    "data['sentence'] = data['sentence'].apply(lambda x: x.replace('\\r', ' '))\n",
    "data['sentence'] = data['sentence'].apply(lambda x: x.replace('\\xa0', ' '))\n",
    "data['sentence'] = data['sentence'].apply(lambda x: x.replace('\\u200b', ' '))\n",
    "data['sentence'] = data['sentence'].apply(lambda x: x.replace('\\ufeff', ' '))"
   ]
  },
  {
   "cell_type": "code",
   "execution_count": 6,
   "metadata": {},
   "outputs": [],
   "source": [
    "train_ds = tf.data.Dataset.from_tensor_slices((data['sentence'], data['gold_label']))"
   ]
  },
  {
   "cell_type": "code",
   "execution_count": 7,
   "metadata": {},
   "outputs": [],
   "source": [
    "val_ds = pd.read_csv('./Data/Dynasent/valid.csv')"
   ]
  },
  {
   "cell_type": "code",
   "execution_count": 8,
   "metadata": {},
   "outputs": [],
   "source": [
    "val_ds['sentence'] = val_ds['sentence'].apply(lambda x: x.lower())\n",
    "val_ds['sentence'] = val_ds['sentence'].apply(lambda x: x.replace('\\n', ' '))\n",
    "val_ds['sentence'] = val_ds['sentence'].apply(lambda x: x.replace('\\t', ' '))\n",
    "val_ds['sentence'] = val_ds['sentence'].apply(lambda x: x.replace('\\r', ' '))\n",
    "val_ds['sentence'] = val_ds['sentence'].apply(lambda x: x.replace('\\xa0', ' '))\n",
    "val_ds['sentence'] = val_ds['sentence'].apply(lambda x: x.replace('\\u200b', ' '))\n",
    "val_ds['sentence'] = val_ds['sentence'].apply(lambda x: x.replace('\\ufeff', ' '))"
   ]
  },
  {
   "cell_type": "code",
   "execution_count": 9,
   "metadata": {},
   "outputs": [],
   "source": [
    "val_ds_label = encoder.transform(val_ds['gold_label'])\n",
    "val_ds['gold_label'] = val_ds_label\n",
    "\n",
    "val_ds = tf.data.Dataset.from_tensor_slices((val_ds['sentence'], val_ds['gold_label']))"
   ]
  },
  {
   "cell_type": "code",
   "execution_count": 10,
   "metadata": {},
   "outputs": [],
   "source": [
    "AUTOTUNE = tf.data.AUTOTUNE\n",
    "batch_size = 32\n",
    "seed = 42\n",
    "\n",
    "train_ds = train_ds.shuffle(buffer_size=len(data)).batch(batch_size)\n",
    "train_ds = train_ds.cache().prefetch(buffer_size=AUTOTUNE)\n",
    "\n",
    "val_ds = val_ds.shuffle(buffer_size=len(val_ds)).batch(batch_size)\n",
    "val_ds = val_ds.cache().prefetch(buffer_size=AUTOTUNE)"
   ]
  },
  {
   "cell_type": "code",
   "execution_count": 11,
   "metadata": {},
   "outputs": [],
   "source": [
    "tfhub_encoder = \"https://tfhub.dev/tensorflow/bert_en_uncased_L-12_H-768_A-12/4\"\n",
    "tfhub_prepocess = \"https://tfhub.dev/tensorflow/bert_en_uncased_preprocess/3\"\n"
   ]
  },
  {
   "cell_type": "code",
   "execution_count": 12,
   "metadata": {},
   "outputs": [
    {
     "name": "stdout",
     "output_type": "stream",
     "text": [
      "Model: \"model\"\n",
      "__________________________________________________________________________________________________\n",
      " Layer (type)                   Output Shape         Param #     Connected to                     \n",
      "==================================================================================================\n",
      " text_input (InputLayer)        [(None,)]            0           []                               \n",
      "                                                                                                  \n",
      " Preprocessing_for_BERT (KerasL  {'input_mask': (Non  0          ['text_input[0][0]']             \n",
      " ayer)                          e, 128),                                                          \n",
      "                                 'input_word_ids':                                                \n",
      "                                (None, 128),                                                      \n",
      "                                 'input_type_ids':                                                \n",
      "                                (None, 128)}                                                      \n",
      "                                                                                                  \n",
      " BERT_encoder (KerasLayer)      {'encoder_outputs':  109482241   ['Preprocessing_for_BERT[0][0]', \n",
      "                                 [(None, 128, 768),               'Preprocessing_for_BERT[0][1]', \n",
      "                                 (None, 128, 768),                'Preprocessing_for_BERT[0][2]'] \n",
      "                                 (None, 128, 768),                                                \n",
      "                                 (None, 128, 768),                                                \n",
      "                                 (None, 128, 768),                                                \n",
      "                                 (None, 128, 768),                                                \n",
      "                                 (None, 128, 768),                                                \n",
      "                                 (None, 128, 768),                                                \n",
      "                                 (None, 128, 768),                                                \n",
      "                                 (None, 128, 768),                                                \n",
      "                                 (None, 128, 768),                                                \n",
      "                                 (None, 128, 768)],                                               \n",
      "                                 'pooled_output': (                                               \n",
      "                                None, 768),                                                       \n",
      "                                 'sequence_output':                                               \n",
      "                                 (None, 128, 768),                                                \n",
      "                                 'default': (None,                                                \n",
      "                                768)}                                                             \n",
      "                                                                                                  \n",
      " dropout (Dropout)              (None, 128, 768)     0           ['BERT_encoder[0][14]']          \n",
      "                                                                                                  \n",
      " dense (Dense)                  (None, 128, 100)     76900       ['dropout[0][0]']                \n",
      "                                                                                                  \n",
      " dropout_1 (Dropout)            (None, 128, 100)     0           ['dense[0][0]']                  \n",
      "                                                                                                  \n",
      " dense_1 (Dense)                (None, 128, 100)     10100       ['dropout_1[0][0]']              \n",
      "                                                                                                  \n",
      " dropout_2 (Dropout)            (None, 128, 100)     0           ['dense_1[0][0]']                \n",
      "                                                                                                  \n",
      " dense_2 (Dense)                (None, 128, 50)      5050        ['dropout_2[0][0]']              \n",
      "                                                                                                  \n",
      " dropout_3 (Dropout)            (None, 128, 50)      0           ['dense_2[0][0]']                \n",
      "                                                                                                  \n",
      " flatten (Flatten)              (None, 6400)         0           ['dropout_3[0][0]']              \n",
      "                                                                                                  \n",
      " dense_3 (Dense)                (None, 3)            19203       ['flatten[0][0]']                \n",
      "                                                                                                  \n",
      "==================================================================================================\n",
      "Total params: 109,593,494\n",
      "Trainable params: 111,253\n",
      "Non-trainable params: 109,482,241\n",
      "__________________________________________________________________________________________________\n"
     ]
    }
   ],
   "source": [
    "# create the deep learning model to classify text into three categories\n",
    "text_input = keras.Input(shape=(), dtype='string', name='text_input')\n",
    "preprocessing_layer = hub.KerasLayer(tfhub_prepocess, name='Preprocessing_for_BERT')\n",
    "encoder_inputs = preprocessing_layer(text_input)\n",
    "encoder = hub.KerasLayer(tfhub_encoder, trainable=False, name='BERT_encoder')\n",
    "outputs = encoder(encoder_inputs)\n",
    "x = keras.layers.Dropout(0.2)(outputs['sequence_output'])\n",
    "x = keras.layers.Dense(100, activation='relu')(x)\n",
    "x = keras.layers.Dropout(0.2)(x)\n",
    "x = keras.layers.Dense(100, activation='relu')(x)\n",
    "x = keras.layers.Dropout(0.3)(x)\n",
    "x = keras.layers.Dense(50, activation='relu')(x)\n",
    "x = keras.layers.Dropout(0.35)(x)\n",
    "x = keras.layers.Flatten()(x)\n",
    "x = keras.layers.Dense(3, activation='softmax')(x)\n",
    "model = keras.Model(inputs=[text_input], outputs=x)\n",
    "model.compile(optimizer='adam',\n",
    "                loss='sparse_categorical_crossentropy',             \n",
    "                metrics=['accuracy'])\n",
    "model.summary()"
   ]
  },
  {
   "cell_type": "code",
   "execution_count": 13,
   "metadata": {},
   "outputs": [
    {
     "name": "stdout",
     "output_type": "stream",
     "text": [
      "Epoch 1/50\n",
      "2516/2516 [==============================] - 1448s 571ms/step - loss: 0.3556 - accuracy: 0.8459 - val_loss: 0.5002 - val_accuracy: 0.7486\n",
      "Epoch 2/50\n",
      "2516/2516 [==============================] - 1434s 570ms/step - loss: 0.3256 - accuracy: 0.8596 - val_loss: 0.4858 - val_accuracy: 0.7550\n",
      "Epoch 3/50\n",
      "2516/2516 [==============================] - 1432s 569ms/step - loss: 0.3126 - accuracy: 0.8656 - val_loss: 0.5070 - val_accuracy: 0.7439\n",
      "Epoch 4/50\n",
      "2516/2516 [==============================] - 1433s 569ms/step - loss: 0.3016 - accuracy: 0.8713 - val_loss: 0.4660 - val_accuracy: 0.7656\n",
      "Epoch 5/50\n",
      "2516/2516 [==============================] - 1443s 573ms/step - loss: 0.2912 - accuracy: 0.8764 - val_loss: 0.5068 - val_accuracy: 0.7503\n",
      "Epoch 6/50\n",
      "2516/2516 [==============================] - 1424s 566ms/step - loss: 0.2803 - accuracy: 0.8800 - val_loss: 0.4954 - val_accuracy: 0.7547\n",
      "Epoch 7/50\n",
      "2516/2516 [==============================] - 5499s 2s/step - loss: 0.2722 - accuracy: 0.8820 - val_loss: 0.5066 - val_accuracy: 0.7539\n",
      "Epoch 8/50\n",
      "2516/2516 [==============================] - 1423s 565ms/step - loss: 0.2641 - accuracy: 0.8871 - val_loss: 0.4974 - val_accuracy: 0.7600\n",
      "Epoch 9/50\n",
      "2516/2516 [==============================] - 1422s 565ms/step - loss: 0.2556 - accuracy: 0.8904 - val_loss: 0.5309 - val_accuracy: 0.7556\n"
     ]
    }
   ],
   "source": [
    "epochs = 50\n",
    "history = model.fit(train_ds,\n",
    "                    validation_data=val_ds,\n",
    "                    epochs=epochs,\n",
    "                    verbose=1,\n",
    "                    callbacks=[\n",
    "                        keras.callbacks.TensorBoard(log_dir='./logs',\n",
    "                                                    histogram_freq=1,\n",
    "                                                    write_graph=True,\n",
    "                                                    write_images=True),\n",
    "                        keras.callbacks.EarlyStopping(patience=5,\n",
    "                                                      monitor='val_loss')\n",
    "\n",
    "                    ])\n"
   ]
  },
  {
   "cell_type": "code",
   "execution_count": 22,
   "metadata": {},
   "outputs": [],
   "source": [
    "# load test data\n",
    "test_ds = pd.read_csv('./Data/Dynasent/test.csv')\n",
    "\n",
    "\n",
    "test_ds['sentence'] = test_ds['sentence'].apply(lambda x: x.lower())\n",
    "test_ds['sentence'] = test_ds['sentence'].apply(lambda x: x.replace('\\n', ' '))\n",
    "test_ds['sentence'] = test_ds['sentence'].apply(lambda x: x.replace('\\t', ' '))\n",
    "test_ds['sentence'] = test_ds['sentence'].apply(lambda x: x.replace('\\r', ' '))\n",
    "test_ds['sentence'] = test_ds['sentence'].apply(lambda x: x.replace('\\xa0', ' '))\n",
    "test_ds['sentence'] = test_ds['sentence'].apply(lambda x: x.replace('\\u200b', ' '))\n",
    "test_ds['sentence'] = test_ds['sentence'].apply(lambda x: x.replace('\\ufeff', ' '))"
   ]
  },
  {
   "cell_type": "code",
   "execution_count": 23,
   "metadata": {},
   "outputs": [],
   "source": [
    "# transform the test data using the same encoder\n",
    "test_ds_label = encoder.transform(test_ds['gold_label'])\n",
    "test_ds['gold_label'] = test_ds_label\n",
    "\n",
    "# create the test dataset\n",
    "test_ds = tf.data.Dataset.from_tensor_slices((test_ds['sentence'], test_ds['gold_label']))"
   ]
  },
  {
   "cell_type": "code",
   "execution_count": 24,
   "metadata": {},
   "outputs": [
    {
     "name": "stdout",
     "output_type": "stream",
     "text": [
      "113/113 [==============================] - 47s 418ms/step - loss: 0.3371 - accuracy: 0.8906\n",
      "Test loss: 0.3371028006076813\n",
      "Test accuracy: 0.8905555605888367\n"
     ]
    }
   ],
   "source": [
    "# create the test dataset\n",
    "test_ds = test_ds.shuffle(buffer_size=len(test_ds)).batch(batch_size)\n",
    "test_ds = test_ds.cache().prefetch(buffer_size=AUTOTUNE)\n",
    "\n",
    "\n",
    "# evaluate the model\n",
    "results = model.evaluate(test_ds, verbose=1, callbacks=[\n",
    "    keras.callbacks.TensorBoard(log_dir='./logs',\n",
    "                                histogram_freq=1,\n",
    "                                write_graph=True,\n",
    "                                write_images=True)]\n",
    ")\n",
    "\n",
    "\n",
    "# print the results\n",
    "print('Test loss:', results[0])\n",
    "print('Test accuracy:', results[1])"
   ]
  },
  {
   "cell_type": "code",
   "execution_count": 26,
   "metadata": {},
   "outputs": [],
   "source": [
    "#save the model\n",
    "model.save('E:\\SLIIT\\Year 4\\Research\\Models\\MindsetEvaluation\\model.h5')"
   ]
  }
 ],
 "metadata": {
  "interpreter": {
   "hash": "6dd968e44b48f26426fe23fbd93cd49fd04e6edb7e547023c0509ffaabbd7da7"
  },
  "kernelspec": {
   "display_name": "Python 3.9.12 ('research')",
   "language": "python",
   "name": "python3"
  },
  "language_info": {
   "codemirror_mode": {
    "name": "ipython",
    "version": 3
   },
   "file_extension": ".py",
   "mimetype": "text/x-python",
   "name": "python",
   "nbconvert_exporter": "python",
   "pygments_lexer": "ipython3",
   "version": "3.9.12"
  },
  "orig_nbformat": 4
 },
 "nbformat": 4,
 "nbformat_minor": 2
}
