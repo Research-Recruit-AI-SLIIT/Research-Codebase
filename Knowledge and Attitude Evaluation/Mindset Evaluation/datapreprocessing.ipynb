{
 "cells": [
  {
   "cell_type": "code",
   "execution_count": 1,
   "metadata": {},
   "outputs": [],
   "source": [
    "import pandas as pd\n",
    "import numpy as np\n",
    "import matplotlib.pyplot as plt\n",
    "import seaborn as sns\n",
    "import os\n",
    "import glob\n",
    "import re\n",
    "import json"
   ]
  },
  {
   "cell_type": "code",
   "execution_count": null,
   "metadata": {},
   "outputs": [],
   "source": [
    "from datasets import load_dataset\n",
    "\n",
    "r1_dataset = load_dataset(\"dynabench/dynasent\", \"dynabench.dynasent.r1.all\")\n",
    "\n",
    "r2_dataset = load_dataset(\"dynabench/dynasent\", \"dynabench.dynasent.r2.all\")"
   ]
  },
  {
   "cell_type": "code",
   "execution_count": 11,
   "metadata": {},
   "outputs": [],
   "source": [
    "# Take train, test, and validation sets from DatasetDictionary\n",
    "train_set = r1_dataset[\"train\"]\n",
    "test_set = r1_dataset[\"test\"]\n",
    "valid_set = r1_dataset[\"validation\"]"
   ]
  },
  {
   "cell_type": "code",
   "execution_count": 14,
   "metadata": {},
   "outputs": [],
   "source": [
    "train_df = pd.DataFrame(train_set)\n",
    "test_df = pd.DataFrame(test_set)\n",
    "valid_df = pd.DataFrame(valid_set)"
   ]
  },
  {
   "cell_type": "code",
   "execution_count": 15,
   "metadata": {},
   "outputs": [],
   "source": [
    "# keep only the sentence and the gold_label\n",
    "train_df = train_df[[\"sentence\", \"gold_label\"]]\n",
    "test_df = test_df[[\"sentence\", \"gold_label\"]]\n",
    "valid_df = valid_df[[\"sentence\", \"gold_label\"]]"
   ]
  },
  {
   "cell_type": "code",
   "execution_count": 20,
   "metadata": {},
   "outputs": [],
   "source": [
    "# preprocess the sentences\n",
    "train_df[\"sentence\"] = train_df[\"sentence\"].apply(lambda x: x.lower())\n",
    "test_df[\"sentence\"] = test_df[\"sentence\"].apply(lambda x: x.lower())\n",
    "valid_df[\"sentence\"] = valid_df[\"sentence\"].apply(lambda x: x.lower())\n",
    "\n",
    "\n",
    "# save the datasets\n",
    "train_df.to_csv(\"./Data/Dynasent/train.csv\", index=False)\n",
    "test_df.to_csv(\"./Data/Dynasent/test.csv\", index=False)\n",
    "valid_df.to_csv(\"./Data/Dynasent/valid.csv\", index=False)"
   ]
  }
 ],
 "metadata": {
  "interpreter": {
   "hash": "6dd968e44b48f26426fe23fbd93cd49fd04e6edb7e547023c0509ffaabbd7da7"
  },
  "kernelspec": {
   "display_name": "Python 3.9.12 ('research')",
   "language": "python",
   "name": "python3"
  },
  "language_info": {
   "codemirror_mode": {
    "name": "ipython",
    "version": 3
   },
   "file_extension": ".py",
   "mimetype": "text/x-python",
   "name": "python",
   "nbconvert_exporter": "python",
   "pygments_lexer": "ipython3",
   "version": "3.9.12"
  },
  "orig_nbformat": 4
 },
 "nbformat": 4,
 "nbformat_minor": 2
}
