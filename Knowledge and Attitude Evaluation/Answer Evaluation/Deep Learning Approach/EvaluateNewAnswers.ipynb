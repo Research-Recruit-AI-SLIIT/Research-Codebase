{
 "cells": [
  {
   "cell_type": "code",
   "execution_count": 1,
   "metadata": {},
   "outputs": [],
   "source": [
    "import AnswerEvaluation as ans_eval"
   ]
  },
  {
   "cell_type": "code",
   "execution_count": 2,
   "metadata": {},
   "outputs": [
    {
     "name": "stdout",
     "output_type": "stream",
     "text": [
      "Loading Model\n",
      "Model Loading Completed\n"
     ]
    }
   ],
   "source": [
    "Answer_Evaluation = ans_eval.AnswerEvaluation(model_path = \"./Models/model0522.h5\")"
   ]
  },
  {
   "cell_type": "code",
   "execution_count": 3,
   "metadata": {},
   "outputs": [
    {
     "name": "stdout",
     "output_type": "stream",
     "text": [
      "\n",
      "------------------------------------------------------------------------\n",
      "model_ans:  global variables have filescope the variable is know to all functions throught the file\n",
      "ans:  global variables can only use in a single function\n",
      "Length Ratio:  1.74\n",
      "Cosine Similarity:  [0.9328765]\n",
      "Prediction:  0\n",
      "\n",
      "------------------------------------------------------------------------\n",
      "Final Evaluation : Answer is  Not Acceptable\n",
      "------------------------------------------------------------------------\n"
     ]
    }
   ],
   "source": [
    "sample_answers = [\"Global variables have file-scope. The variable is know to all functions throught the file\"]\n",
    "candidate_answer = \"Global Variables can only use in a single function\"\n",
    "\n",
    "Answer_Evaluation.predict(sample_answers, candidate_answer)"
   ]
  },
  {
   "cell_type": "code",
   "execution_count": 4,
   "metadata": {},
   "outputs": [
    {
     "name": "stdout",
     "output_type": "stream",
     "text": [
      "\n",
      "------------------------------------------------------------------------\n",
      "model_ans:  global variables have filescope the variable is know to all functions throught the file\n",
      "ans:  global variables can be used by any function in the file scope where the variable is declared\n",
      "Length Ratio:  0.9354838709677419\n",
      "Cosine Similarity:  [0.92749715]\n",
      "Prediction:  2\n",
      "\n",
      "------------------------------------------------------------------------\n",
      "Final Evaluation : Answer is  Good\n",
      "------------------------------------------------------------------------\n"
     ]
    }
   ],
   "source": [
    "sample_answers = [\"Global variables have file-scope. The variable is know to all functions throught the file\"]\n",
    "candidate_answer = \"Global variables can be used by any function in the file scope where the variable is declared\"\n",
    "Answer_Evaluation.predict(sample_answers, candidate_answer)"
   ]
  },
  {
   "cell_type": "code",
   "execution_count": 5,
   "metadata": {},
   "outputs": [
    {
     "name": "stdout",
     "output_type": "stream",
     "text": [
      "\n",
      "------------------------------------------------------------------------\n",
      "model_ans:  function points are the features which are provided by the software product it is considered as a most important measurement for software size\n",
      "ans:  function points are the places where the code is broken due to errors the errors can be due to many reasons\n",
      "Length Ratio:  1.3271028037383177\n",
      "Cosine Similarity:  [0.9854916]\n",
      "Prediction:  0\n",
      "\n",
      "------------------------------------------------------------------------\n",
      "Final Evaluation : Answer is  Not Acceptable\n",
      "------------------------------------------------------------------------\n"
     ]
    }
   ],
   "source": [
    "sample_answers = [\"Function points are the features which are provided by the software product. It is considered as a most important measurement for software size.\"]\n",
    "candidate_answer = \"Function points are the places where the code is broken due to errors. The errors can be due to many reasons\"\n",
    "Answer_Evaluation.predict(sample_answers, candidate_answer)"
   ]
  },
  {
   "cell_type": "code",
   "execution_count": 6,
   "metadata": {},
   "outputs": [
    {
     "name": "stdout",
     "output_type": "stream",
     "text": [
      "\n",
      "------------------------------------------------------------------------\n",
      "model_ans:  function points are the features which are provided by the software product it is considered as a most important measurement for software size\n",
      "ans:  the features provided by the software product are the function points\n",
      "Length Ratio:  2.0579710144927534\n",
      "Cosine Similarity:  [0.93692774]\n",
      "Prediction:  1\n",
      "\n",
      "------------------------------------------------------------------------\n",
      "Final Evaluation : Answer is  Need Improvement\n",
      "------------------------------------------------------------------------\n"
     ]
    }
   ],
   "source": [
    "sample_answers = [\"Function points are the features which are provided by the software product. It is considered as a most important measurement for software size.\"]\n",
    "candidate_answer = \"The features provided by the software product are the function points\"\n",
    "Answer_Evaluation.predict(sample_answers, candidate_answer)"
   ]
  }
 ],
 "metadata": {
  "interpreter": {
   "hash": "6dd968e44b48f26426fe23fbd93cd49fd04e6edb7e547023c0509ffaabbd7da7"
  },
  "kernelspec": {
   "display_name": "Python 3.9.12 ('research')",
   "language": "python",
   "name": "python3"
  },
  "language_info": {
   "codemirror_mode": {
    "name": "ipython",
    "version": 3
   },
   "file_extension": ".py",
   "mimetype": "text/x-python",
   "name": "python",
   "nbconvert_exporter": "python",
   "pygments_lexer": "ipython3",
   "version": "3.9.12"
  },
  "orig_nbformat": 4
 },
 "nbformat": 4,
 "nbformat_minor": 2
}
