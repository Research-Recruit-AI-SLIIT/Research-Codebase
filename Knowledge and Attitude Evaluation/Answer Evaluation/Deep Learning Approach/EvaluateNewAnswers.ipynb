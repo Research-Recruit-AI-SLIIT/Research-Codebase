{
 "cells": [
  {
   "cell_type": "code",
   "execution_count": 1,
   "metadata": {},
   "outputs": [],
   "source": [
    "import AnswerEvaluation as ans_eval"
   ]
  },
  {
   "cell_type": "code",
   "execution_count": 2,
   "metadata": {},
   "outputs": [
    {
     "name": "stdout",
     "output_type": "stream",
     "text": [
      "Loading Model\n",
      "Model Loading Completed\n"
     ]
    }
   ],
   "source": [
    "Answer_Evaluation = ans_eval.AnswerEvaluation()"
   ]
  },
  {
   "cell_type": "code",
   "execution_count": 3,
   "metadata": {},
   "outputs": [
    {
     "name": "stdout",
     "output_type": "stream",
     "text": [
      "\n",
      "------------------------------------------------------------------------\n",
      "model_ans:  object oriented cocepts is comes in software development\n",
      "ans:  object oriented concepts is comes in software engineering\n",
      "Length Ratio:  0.9824561403508771\n",
      "Cosine Similarity:  [0.98620784]\n",
      "Prediction:  0\n",
      "\n",
      "------------------------------------------------------------------------\n",
      "model_ans:  object oriented cocepts is comes in software development\n",
      "ans:  object oriented concepts is comes in software engineering\n",
      "Length Ratio:  0.9824561403508771\n",
      "Cosine Similarity:  [0.98620784]\n",
      "Prediction:  0\n",
      "\n",
      "------------------------------------------------------------------------\n",
      "Final Evaluation : Answer is  Not Acceptable\n",
      "------------------------------------------------------------------------\n"
     ]
    }
   ],
   "source": [
    "sample_answers = [\"Object Oriented Cocepts is comes in Software Development\", \"Object Oriented Cocepts is comes in Software Development\"]\n",
    "candidate_answer = \"Object Oriented Concepts is comes in Software Engineering\"\n",
    "\n",
    "Answer_Evaluation.predict(sample_answers, candidate_answer)"
   ]
  }
 ],
 "metadata": {
  "interpreter": {
   "hash": "6dd968e44b48f26426fe23fbd93cd49fd04e6edb7e547023c0509ffaabbd7da7"
  },
  "kernelspec": {
   "display_name": "Python 3.9.12 ('research')",
   "language": "python",
   "name": "python3"
  },
  "language_info": {
   "codemirror_mode": {
    "name": "ipython",
    "version": 3
   },
   "file_extension": ".py",
   "mimetype": "text/x-python",
   "name": "python",
   "nbconvert_exporter": "python",
   "pygments_lexer": "ipython3",
   "version": "3.9.12"
  },
  "orig_nbformat": 4
 },
 "nbformat": 4,
 "nbformat_minor": 2
}
