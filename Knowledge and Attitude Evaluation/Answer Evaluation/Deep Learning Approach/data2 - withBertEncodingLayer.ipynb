{
 "cells": [
  {
   "cell_type": "code",
   "execution_count": 1,
   "metadata": {},
   "outputs": [],
   "source": [
    "import tensorboard"
   ]
  },
  {
   "cell_type": "code",
   "execution_count": 2,
   "metadata": {},
   "outputs": [
    {
     "name": "stderr",
     "output_type": "stream",
     "text": [
      "c:\\Users\\USER\\anaconda3\\envs\\research\\lib\\site-packages\\tqdm\\auto.py:22: TqdmWarning: IProgress not found. Please update jupyter and ipywidgets. See https://ipywidgets.readthedocs.io/en/stable/user_install.html\n",
      "  from .autonotebook import tqdm as notebook_tqdm\n"
     ]
    }
   ],
   "source": [
    "from tensorflow.keras.preprocessing.text import Tokenizer\n",
    "from tensorflow.keras.preprocessing.sequence import pad_sequences\n",
    "from tensorflow.keras.models import Sequential\n",
    "from tensorflow.keras.layers import Dense, LSTM, Dropout, Embedding, Bidirectional, Flatten, Input, Lambda, concatenate\n",
    "from tensorflow.keras.models import Model\n",
    "from tensorflow.keras.optimizers import Adam\n",
    "from tensorflow.keras.losses import sparse_categorical_crossentropy\n",
    "from tensorflow.keras.metrics import sparse_categorical_accuracy\n",
    "from tensorflow.keras.callbacks import EarlyStopping\n",
    "from tensorflow.keras.utils import to_categorical\n",
    "import tensorflow as tf\n",
    "import tensorflow_hub as hub\n",
    "import tensorflow_text as text \n",
    "from sklearn.model_selection import train_test_split\n",
    "from transformers import BertTokenizer, TFBertModel, BertConfig\n",
    "import numpy as np\n",
    "import string\n",
    "import pandas as pd\n",
    "import os"
   ]
  },
  {
   "cell_type": "code",
   "execution_count": 3,
   "metadata": {},
   "outputs": [],
   "source": [
    "data = pd.read_csv('../Data/improvedds_v3.csv')"
   ]
  },
  {
   "cell_type": "code",
   "execution_count": 4,
   "metadata": {},
   "outputs": [],
   "source": [
    "model_ans_col = 'Model_Answer'\n",
    "ans_col = 'Answer'\n",
    "label_col = 'Category'"
   ]
  },
  {
   "cell_type": "code",
   "execution_count": 5,
   "metadata": {},
   "outputs": [],
   "source": [
    "def preprocess_data_for_model_training(df, model_ans_col='Model_Answer', ans_col='Answer'):\n",
    "    \"\"\"\n",
    "    Preprocess data\n",
    "    \"\"\"\n",
    "    print(\"Preprocessing data...\")\n",
    "    df[model_ans_col] = data[model_ans_col].apply(lambda x: str(x).lower())\n",
    "    df[ans_col] = data[ans_col].apply(lambda x: str(x).lower())\n",
    "\n",
    "    df[model_ans_col] = df[model_ans_col].apply(lambda x: x.strip())\n",
    "    df[ans_col] = df[ans_col].apply(lambda x: x.strip())\n",
    "\n",
    "    df[model_ans_col] = df[model_ans_col].apply(lambda x: x.translate(str.maketrans('', '', string.punctuation)))\n",
    "    df[ans_col] = df[ans_col].apply(lambda x: x.translate(str.maketrans('', '', string.punctuation)))\n",
    "\n",
    "    #remove br tags\n",
    "    df[model_ans_col] = df[model_ans_col].apply(lambda x: x.replace('<br>', ' '))\n",
    "    df[ans_col] = df[ans_col].apply(lambda x: x.replace('<br>', ' '))\n",
    "    df[model_ans_col] = df[model_ans_col].apply(lambda x: x.replace('<br/>', ' '))\n",
    "    df[ans_col] = df[ans_col].apply(lambda x: x.replace('<br/>', ' '))\n",
    "\n",
    "    #remove multiple spaces\n",
    "    df[model_ans_col] = df[model_ans_col].apply(lambda x: x.replace('  ', ' '))\n",
    "    df[ans_col] = df[ans_col].apply(lambda x: x.replace('  ', ' '))\n",
    "\n",
    "    #remove newlines\n",
    "    df[model_ans_col] = df[model_ans_col].apply(lambda x: x.replace('\\n', ' '))\n",
    "    df[ans_col] = df[ans_col].apply(lambda x: x.replace('\\n', ' '))\n",
    "\n",
    "    print(\"Data preprocessing is done\")\n",
    "    return df\n"
   ]
  },
  {
   "cell_type": "code",
   "execution_count": 6,
   "metadata": {},
   "outputs": [],
   "source": [
    "#shuffle data\n",
    "data = data.sample(frac=1).reset_index(drop=True)"
   ]
  },
  {
   "cell_type": "code",
   "execution_count": 7,
   "metadata": {},
   "outputs": [],
   "source": [
    "# split data for deep learning model training and testing\n",
    "X_train, X_test, y_train, y_test = train_test_split(\n",
    "    data[[model_ans_col, ans_col, 'LengthRatio', 'Cosine_Similarity']], data[label_col], test_size=0.2, random_state=156)"
   ]
  },
  {
   "cell_type": "code",
   "execution_count": 8,
   "metadata": {},
   "outputs": [],
   "source": [
    "y_train = to_categorical(y_train, num_classes=3)\n",
    "y_test = to_categorical(y_test, num_classes=3)"
   ]
  },
  {
   "cell_type": "code",
   "execution_count": 9,
   "metadata": {},
   "outputs": [],
   "source": [
    "text_input = tf.keras.layers.Input(shape=(), dtype=tf.string)\n",
    "preprocessor = hub.KerasLayer(\n",
    "    \"https://tfhub.dev/tensorflow/bert_en_uncased_preprocess/3\")\n",
    "encoder_inputs = preprocessor(text_input)\n",
    "encoder = hub.KerasLayer(\n",
    "    \"https://tfhub.dev/tensorflow/bert_en_uncased_L-12_H-768_A-12/4\",\n",
    "    trainable=False)\n",
    "outputs = encoder(encoder_inputs)\n",
    "pooled_output = outputs[\"pooled_output\"]      # [batch_size, 768].\n",
    "sequence_output = outputs[\"sequence_output\"]  # [batch_size, seq_length, 768]."
   ]
  },
  {
   "cell_type": "code",
   "execution_count": 10,
   "metadata": {},
   "outputs": [],
   "source": [
    "embedding_model = tf.keras.Model(text_input, sequence_output)"
   ]
  },
  {
   "cell_type": "code",
   "execution_count": 11,
   "metadata": {},
   "outputs": [],
   "source": [
    "# Define Input Layers\n",
    "input_model_answer = Input(shape=(1,), dtype=tf.string)\n",
    "input_answer = Input(shape=(1,), dtype=tf.string)\n",
    "input_text_features = Input(shape=(2,) , dtype=tf.float32)"
   ]
  },
  {
   "cell_type": "code",
   "execution_count": 12,
   "metadata": {},
   "outputs": [],
   "source": [
    "embedding_model_answer = embedding_model(input_model_answer)\n",
    "embedding_answer = embedding_model(input_answer)"
   ]
  },
  {
   "cell_type": "code",
   "execution_count": 13,
   "metadata": {},
   "outputs": [],
   "source": [
    "# get the differnce of the embedding vectors\n",
    "diff_model_ans = Lambda(\n",
    "        lambda x: x[0] - x[1])([embedding_model_answer, embedding_answer])"
   ]
  },
  {
   "cell_type": "code",
   "execution_count": 14,
   "metadata": {},
   "outputs": [],
   "source": [
    "# apply the LSTM layer\n",
    "lstm_model_answer = Bidirectional(\n",
    "    LSTM(10, return_sequences=True))(diff_model_ans)\n",
    "\n",
    "lstm_answer = Bidirectional(\n",
    "    LSTM(10, return_sequences=True))(embedding_answer)\n"
   ]
  },
  {
   "cell_type": "code",
   "execution_count": 15,
   "metadata": {},
   "outputs": [],
   "source": [
    "# apply dropout\n",
    "dropout_model_answer = Dropout(0.2)(lstm_model_answer)\n",
    "dropout_answer = Dropout(0.2)(lstm_answer)"
   ]
  },
  {
   "cell_type": "code",
   "execution_count": 16,
   "metadata": {},
   "outputs": [],
   "source": [
    "# apply the Dense layer\n",
    "dense_model_answer = Dense(10, activation='relu')(dropout_model_answer)\n",
    "dense_answer = Dense(10, activation='relu')(dropout_answer)"
   ]
  },
  {
   "cell_type": "code",
   "execution_count": 17,
   "metadata": {},
   "outputs": [],
   "source": [
    "feature_layer = Dense(60, activation='relu')(input_text_features)"
   ]
  },
  {
   "cell_type": "code",
   "execution_count": 18,
   "metadata": {},
   "outputs": [],
   "source": [
    "# concatenate the outputs\n",
    "concatenate_model_answer = concatenate([dense_model_answer, dense_answer])"
   ]
  },
  {
   "cell_type": "code",
   "execution_count": 19,
   "metadata": {},
   "outputs": [],
   "source": [
    "# apply Dense layer\n",
    "dense_model1 = Dense(40, activation='relu')(concatenate_model_answer)\n",
    "\n",
    "# apply dropout\n",
    "dropout_model1 = Dropout(0.2)(dense_model1)"
   ]
  },
  {
   "cell_type": "code",
   "execution_count": 20,
   "metadata": {},
   "outputs": [],
   "source": [
    "# reduce the dimensionality\n",
    "dense_model2 = Dense(20, activation='relu')(dropout_model1)"
   ]
  },
  {
   "cell_type": "code",
   "execution_count": 21,
   "metadata": {},
   "outputs": [],
   "source": [
    "# include Flatten layer\n",
    "flatten_model_answer = Flatten()(dense_model2)"
   ]
  },
  {
   "cell_type": "code",
   "execution_count": 22,
   "metadata": {},
   "outputs": [],
   "source": [
    "concat_layer = concatenate([flatten_model_answer, feature_layer])"
   ]
  },
  {
   "cell_type": "code",
   "execution_count": 23,
   "metadata": {},
   "outputs": [],
   "source": [
    "final_layer = Dense(5, activation='relu')(concat_layer)"
   ]
  },
  {
   "cell_type": "code",
   "execution_count": 24,
   "metadata": {},
   "outputs": [],
   "source": [
    "# apply Dense layer - output layer\n",
    "output_model_answer = Dense(3, activation='softmax')(final_layer)"
   ]
  },
  {
   "cell_type": "code",
   "execution_count": 25,
   "metadata": {},
   "outputs": [],
   "source": [
    "# create the model\n",
    "model = Model(inputs=[input_model_answer, input_answer, input_text_features], outputs=output_model_answer)"
   ]
  },
  {
   "cell_type": "code",
   "execution_count": 26,
   "metadata": {},
   "outputs": [
    {
     "name": "stderr",
     "output_type": "stream",
     "text": [
      "c:\\Users\\USER\\anaconda3\\envs\\research\\lib\\site-packages\\keras\\optimizer_v2\\adam.py:105: UserWarning: The `lr` argument is deprecated, use `learning_rate` instead.\n",
      "  super(Adam, self).__init__(name, **kwargs)\n"
     ]
    }
   ],
   "source": [
    "# compile the model\n",
    "model.compile(loss='categorical_crossentropy',\n",
    "                  optimizer=Adam(lr=0.0001), metrics=['accuracy'])"
   ]
  },
  {
   "cell_type": "code",
   "execution_count": 27,
   "metadata": {},
   "outputs": [],
   "source": [
    "from tensorflow.keras.callbacks import TensorBoard\n",
    "import time\n",
    "\n",
    "# logs about the training process\n",
    "# accuracy and loss are plotted in the TensorBoard\n",
    "log_dir = \"logs/fit/\" + str(int(time.time()))\n",
    "tensorboard_callback = TensorBoard(log_dir=log_dir, histogram_freq=1)"
   ]
  },
  {
   "cell_type": "code",
   "execution_count": 28,
   "metadata": {},
   "outputs": [],
   "source": [
    "# define class weights according to the number of samples in each class\n",
    "num_samples_class_0 = len(X_train[y_train[:, 0] == 1.0])\n",
    "num_samples_class_1 = len(X_train[y_train[:, 1] == 1.0])\n",
    "num_samples_class_2 = len(X_train[y_train[:, 2] == 1.0])\n",
    "\n",
    "\n",
    "class_weights = {0: num_samples_class_0 / (num_samples_class_0 + num_samples_class_1 + num_samples_class_2),\n",
    "                    1: num_samples_class_1 / (num_samples_class_0 + num_samples_class_1 + num_samples_class_2),                                                     \n",
    "                    2: num_samples_class_2 / (num_samples_class_0 + num_samples_class_1 + num_samples_class_2)}     "
   ]
  },
  {
   "cell_type": "code",
   "execution_count": 29,
   "metadata": {},
   "outputs": [
    {
     "name": "stdout",
     "output_type": "stream",
     "text": [
      "Epoch 1/50\n",
      "674/674 [==============================] - 652s 934ms/step - loss: 0.7472 - accuracy: 0.7016 - val_loss: 0.5963 - val_accuracy: 0.7722\n",
      "Epoch 2/50\n",
      "674/674 [==============================] - 631s 937ms/step - loss: 0.5318 - accuracy: 0.7978 - val_loss: 0.4573 - val_accuracy: 0.8206\n",
      "Epoch 3/50\n",
      "674/674 [==============================] - 652s 967ms/step - loss: 0.4042 - accuracy: 0.8358 - val_loss: 0.4120 - val_accuracy: 0.8295\n",
      "Epoch 4/50\n",
      "674/674 [==============================] - 667s 989ms/step - loss: 0.3216 - accuracy: 0.8520 - val_loss: 0.3150 - val_accuracy: 0.8529\n",
      "Epoch 5/50\n",
      "674/674 [==============================] - 653s 968ms/step - loss: 0.2443 - accuracy: 0.9040 - val_loss: 0.2993 - val_accuracy: 0.8772\n",
      "Epoch 6/50\n",
      "674/674 [==============================] - 656s 973ms/step - loss: 0.1851 - accuracy: 0.9360 - val_loss: 0.2243 - val_accuracy: 0.9204\n",
      "Epoch 7/50\n",
      "674/674 [==============================] - 647s 960ms/step - loss: 0.1326 - accuracy: 0.9580 - val_loss: 0.1991 - val_accuracy: 0.9328\n",
      "Epoch 8/50\n",
      "674/674 [==============================] - 638s 947ms/step - loss: 0.0999 - accuracy: 0.9697 - val_loss: 0.1798 - val_accuracy: 0.9419\n",
      "Epoch 9/50\n",
      "674/674 [==============================] - 737s 1s/step - loss: 0.0835 - accuracy: 0.9733 - val_loss: 0.1502 - val_accuracy: 0.9549\n",
      "Epoch 10/50\n",
      "674/674 [==============================] - 662s 982ms/step - loss: 0.0621 - accuracy: 0.9819 - val_loss: 0.1305 - val_accuracy: 0.9635\n",
      "Epoch 11/50\n",
      "674/674 [==============================] - 664s 985ms/step - loss: 0.0581 - accuracy: 0.9832 - val_loss: 0.2701 - val_accuracy: 0.9223\n",
      "Epoch 12/50\n",
      "674/674 [==============================] - 663s 984ms/step - loss: 0.0440 - accuracy: 0.9873 - val_loss: 0.1306 - val_accuracy: 0.9623\n",
      "Epoch 13/50\n",
      "674/674 [==============================] - 653s 969ms/step - loss: 0.0474 - accuracy: 0.9867 - val_loss: 0.2240 - val_accuracy: 0.9436\n",
      "Epoch 14/50\n",
      "674/674 [==============================] - 12250s 18s/step - loss: 0.0442 - accuracy: 0.9878 - val_loss: 0.1215 - val_accuracy: 0.9657\n",
      "Epoch 15/50\n",
      "674/674 [==============================] - 621s 921ms/step - loss: 0.0288 - accuracy: 0.9915 - val_loss: 0.0943 - val_accuracy: 0.9744\n",
      "Epoch 16/50\n",
      "674/674 [==============================] - 620s 920ms/step - loss: 0.0210 - accuracy: 0.9948 - val_loss: 0.2240 - val_accuracy: 0.9423\n",
      "Epoch 17/50\n",
      "674/674 [==============================] - 625s 928ms/step - loss: 0.0324 - accuracy: 0.9899 - val_loss: 0.1054 - val_accuracy: 0.9714\n",
      "Epoch 18/50\n",
      "674/674 [==============================] - 630s 934ms/step - loss: 0.0223 - accuracy: 0.9942 - val_loss: 0.1351 - val_accuracy: 0.9640\n",
      "Epoch 19/50\n",
      "674/674 [==============================] - 628s 932ms/step - loss: 0.0338 - accuracy: 0.9905 - val_loss: 0.0871 - val_accuracy: 0.9759\n",
      "Epoch 20/50\n",
      "674/674 [==============================] - 625s 927ms/step - loss: 0.0125 - accuracy: 0.9968 - val_loss: 0.2609 - val_accuracy: 0.9482\n",
      "Epoch 21/50\n",
      "674/674 [==============================] - 625s 928ms/step - loss: 0.0253 - accuracy: 0.9927 - val_loss: 0.0984 - val_accuracy: 0.9718\n",
      "Epoch 22/50\n",
      "674/674 [==============================] - 3853s 6s/step - loss: 0.0197 - accuracy: 0.9944 - val_loss: 0.1260 - val_accuracy: 0.9677\n",
      "Epoch 23/50\n",
      "674/674 [==============================] - 633s 938ms/step - loss: 0.0293 - accuracy: 0.9910 - val_loss: 0.1108 - val_accuracy: 0.9738\n",
      "Epoch 24/50\n",
      "674/674 [==============================] - 625s 927ms/step - loss: 0.0111 - accuracy: 0.9971 - val_loss: 0.0968 - val_accuracy: 0.9759\n"
     ]
    }
   ],
   "source": [
    "# fit the model\n",
    "history = model.fit([X_train[model_ans_col], X_train[ans_col], X_train[['LengthRatio', 'Cosine_Similarity']]], y_train, epochs=50, batch_size=32,\n",
    "              validation_split=0.2, callbacks=[EarlyStopping(monitor='val_loss', patience=5), tensorboard_callback])"
   ]
  },
  {
   "cell_type": "code",
   "execution_count": 30,
   "metadata": {},
   "outputs": [
    {
     "name": "stdout",
     "output_type": "stream",
     "text": [
      "Accuracy: 98.90%\n",
      "Loss: 0.04\n"
     ]
    }
   ],
   "source": [
    "# evaluate the model\n",
    "scores = model.evaluate(\n",
    "        [X_train[model_ans_col], X_train[ans_col], X_train[['LengthRatio', 'Cosine_Similarity']]], y_train, verbose=0)\n",
    "\n",
    "print(\"Accuracy: %.2f%%\" % (scores[1]*100))\n",
    "print(\"Loss: %.2f\" % scores[0])\n"
   ]
  },
  {
   "cell_type": "code",
   "execution_count": 31,
   "metadata": {},
   "outputs": [
    {
     "name": "stdout",
     "output_type": "stream",
     "text": [
      "211/211 [==============================] - 159s 741ms/step - loss: 0.0905 - accuracy: 0.9779\n",
      "Test Accuracy: 97.79%\n"
     ]
    }
   ],
   "source": [
    "print(\"Test Accuracy: %.2f%%\" % (model.evaluate(\n",
    "        [X_test[model_ans_col], X_test[ans_col], np.asarray(X_test[['LengthRatio', 'Cosine_Similarity']]).astype(np.float32)], y_test, verbose=1)[1]*100))"
   ]
  },
  {
   "cell_type": "code",
   "execution_count": 36,
   "metadata": {},
   "outputs": [
    {
     "name": "stdout",
     "output_type": "stream",
     "text": [
      "Category: 0\n"
     ]
    }
   ],
   "source": [
    "model_ans_p = \"When the array is not sorted\"\n",
    "ans_p = \"When the array is ordered in ascending order\"\n",
    "\n",
    "def get_length_ration(model_ans, ans):\n",
    "    return len(ans)/len(model_ans)\n",
    "\n",
    "cosine_similarity_p = 0.912\n",
    "length_ration_p = get_length_ration(model_ans_p, ans_p)\n",
    "\n",
    "testdf = pd.DataFrame(columns=['Model_Answer', 'Answer', 'LengthRatio', 'Cosine_Similarity'])\n",
    "testdf.loc[0] = [model_ans_p, ans_p, length_ration_p, cosine_similarity_p]\n",
    "\n",
    "prediction = model.predict([testdf[model_ans_col].iloc[0:1], testdf[ans_col].iloc[0:1], np.asarray(testdf[['LengthRatio', 'Cosine_Similarity']].iloc[0:1]).astype(np.float32)])\n",
    "print(\"Category:\", np.argmax(prediction))"
   ]
  },
  {
   "cell_type": "code",
   "execution_count": 33,
   "metadata": {},
   "outputs": [
    {
     "data": {
      "text/plain": [
       "array([[1.6862913e-08, 2.3399766e-04, 9.9976593e-01]], dtype=float32)"
      ]
     },
     "execution_count": 33,
     "metadata": {},
     "output_type": "execute_result"
    }
   ],
   "source": [
    "prediction"
   ]
  },
  {
   "cell_type": "code",
   "execution_count": 34,
   "metadata": {},
   "outputs": [
    {
     "name": "stdout",
     "output_type": "stream",
     "text": [
      "Model saved\n"
     ]
    }
   ],
   "source": [
    "# save the model\n",
    "import datetime\n",
    "isSave = 'y'\n",
    "\n",
    "if isSave == 'y':\n",
    "    model.save('./Models/model' + str(datetime.datetime.now().timestamp().__round__()) + '.h5')\n",
    "    print(\"Model saved\")"
   ]
  }
 ],
 "metadata": {
  "interpreter": {
   "hash": "6dd968e44b48f26426fe23fbd93cd49fd04e6edb7e547023c0509ffaabbd7da7"
  },
  "kernelspec": {
   "display_name": "Python 3.9.12 ('research')",
   "language": "python",
   "name": "python3"
  },
  "language_info": {
   "codemirror_mode": {
    "name": "ipython",
    "version": 3
   },
   "file_extension": ".py",
   "mimetype": "text/x-python",
   "name": "python",
   "nbconvert_exporter": "python",
   "pygments_lexer": "ipython3",
   "version": "3.9.12"
  },
  "orig_nbformat": 4
 },
 "nbformat": 4,
 "nbformat_minor": 2
}
