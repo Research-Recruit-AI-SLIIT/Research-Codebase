{
 "cells": [
  {
   "cell_type": "code",
   "execution_count": 1,
   "metadata": {},
   "outputs": [],
   "source": [
    "from tensorflow.keras.preprocessing.text import Tokenizer\n",
    "from tensorflow.keras.preprocessing.sequence import pad_sequences\n",
    "from tensorflow.keras.models import Sequential\n",
    "from tensorflow.keras.layers import Dense, LSTM, Dropout, Embedding, Bidirectional, Flatten, Input, Lambda, concatenate\n",
    "from tensorflow.keras.models import Model\n",
    "from tensorflow.keras.optimizers import Adam\n",
    "from tensorflow.keras.losses import sparse_categorical_crossentropy\n",
    "from tensorflow.keras.metrics import sparse_categorical_accuracy\n",
    "from tensorflow.keras.callbacks import EarlyStopping\n",
    "from tensorflow.keras.utils import to_categorical\n",
    "from sklearn.model_selection import train_test_split\n",
    "import numpy as np\n",
    "import string\n",
    "import pandas as pd"
   ]
  },
  {
   "cell_type": "code",
   "execution_count": 2,
   "metadata": {},
   "outputs": [],
   "source": [
    "data = pd.read_csv('../Data/merged.csv')"
   ]
  },
  {
   "cell_type": "code",
   "execution_count": 3,
   "metadata": {},
   "outputs": [],
   "source": [
    "model_ans_col = 'Model_Answer'\n",
    "ans_col = 'Answer'\n",
    "label_col = 'Category'"
   ]
  },
  {
   "cell_type": "code",
   "execution_count": 4,
   "metadata": {},
   "outputs": [],
   "source": [
    "def preprocess_data_for_model_training(df, model_ans_col='Model_Answer', ans_col='Answer'):\n",
    "    \"\"\"\n",
    "    Preprocess data\n",
    "    \"\"\"\n",
    "    print(\"Preprocessing data...\")\n",
    "    df[model_ans_col] = data[model_ans_col].apply(lambda x: str(x).lower())\n",
    "    df[ans_col] = data[ans_col].apply(lambda x: str(x).lower())\n",
    "\n",
    "    df[model_ans_col] = df[model_ans_col].apply(lambda x: x.strip())\n",
    "    df[ans_col] = df[ans_col].apply(lambda x: x.strip())\n",
    "\n",
    "    df[model_ans_col] = df[model_ans_col].apply(lambda x: x.translate(str.maketrans('', '', string.punctuation)))\n",
    "    df[ans_col] = df[ans_col].apply(lambda x: x.translate(str.maketrans('', '', string.punctuation)))\n",
    "\n",
    "    print(\"Data preprocessing is done\")\n",
    "    return df\n"
   ]
  },
  {
   "cell_type": "code",
   "execution_count": 5,
   "metadata": {},
   "outputs": [
    {
     "name": "stdout",
     "output_type": "stream",
     "text": [
      "Preprocessing data...\n",
      "Data preprocessing is done\n"
     ]
    }
   ],
   "source": [
    "data = preprocess_data_for_model_training(data, model_ans_col, ans_col)"
   ]
  },
  {
   "cell_type": "code",
   "execution_count": 6,
   "metadata": {},
   "outputs": [
    {
     "name": "stdout",
     "output_type": "stream",
     "text": [
      "<class 'pandas.core.frame.DataFrame'>\n",
      "RangeIndex: 2442 entries, 0 to 2441\n",
      "Data columns (total 10 columns):\n",
      " #   Column                  Non-Null Count  Dtype  \n",
      "---  ------                  --------------  -----  \n",
      " 0   Question_ID             2442 non-null   float64\n",
      " 1   Question                2442 non-null   object \n",
      " 2   Model_Answer            2442 non-null   object \n",
      " 3   Answer                  2442 non-null   object \n",
      " 4   Score                   2442 non-null   float64\n",
      " 5   LengthRatio             2442 non-null   float64\n",
      " 6   Cosine_Similarity       2442 non-null   float64\n",
      " 7   Category                2442 non-null   int64  \n",
      " 8   Answer_Embedding        2442 non-null   object \n",
      " 9   Model_Answer_Embedding  2442 non-null   object \n",
      "dtypes: float64(4), int64(1), object(5)\n",
      "memory usage: 190.9+ KB\n"
     ]
    }
   ],
   "source": [
    "data.info()"
   ]
  },
  {
   "cell_type": "code",
   "execution_count": 7,
   "metadata": {},
   "outputs": [
    {
     "name": "stdout",
     "output_type": "stream",
     "text": [
      "Found 2972 unique tokens.\n"
     ]
    }
   ],
   "source": [
    "tokenizer = Tokenizer(oov_token=\"<OOV>\")\n",
    "tokenizer.fit_on_texts(data[model_ans_col])\n",
    "tokenizer.fit_on_texts(data[ans_col])\n",
    "word_index = tokenizer.word_index\n",
    "print(\"Found %s unique tokens.\" % len(word_index))\n"
   ]
  },
  {
   "cell_type": "code",
   "execution_count": 8,
   "metadata": {},
   "outputs": [],
   "source": [
    "# split data for deep learning model training and testing\n",
    "X_train, X_test, y_train, y_test = train_test_split(\n",
    "    data[[model_ans_col, ans_col, 'LengthRatio', 'Cosine_Similarity']], data[label_col], test_size=0.2, random_state=176)\n",
    "\n",
    "# convert to one-hot encoding\n",
    "y_train = to_categorical(y_train, num_classes=None)\n",
    "y_test = to_categorical(y_test, num_classes=None)\n"
   ]
  },
  {
   "cell_type": "code",
   "execution_count": 9,
   "metadata": {},
   "outputs": [],
   "source": [
    "model_ans_seq = tokenizer.texts_to_sequences(\n",
    "    X_train[model_ans_col])\n",
    "ans_seq = tokenizer.texts_to_sequences(X_train[ans_col])\n",
    "\n",
    "model_ans_pad_seq = pad_sequences(model_ans_seq, maxlen=100)\n",
    "ans_pad_seq = pad_sequences(ans_seq, maxlen=100)"
   ]
  },
  {
   "cell_type": "code",
   "execution_count": 10,
   "metadata": {},
   "outputs": [],
   "source": [
    "embeddings_index = {}\n",
    "f = open('../Data/glove.6B.100d.txt', encoding='utf-8')\n",
    "for line in f:\n",
    "    values = line.split()\n",
    "    word = values[0]\n",
    "    coefs = np.asarray(values[1:], dtype='float32')\n",
    "    embeddings_index[word] = coefs\n",
    "f.close()"
   ]
  },
  {
   "cell_type": "code",
   "execution_count": 11,
   "metadata": {},
   "outputs": [],
   "source": [
    "# create the embedding matrix\n",
    "embedding_matrix = np.zeros((len(tokenizer.word_index) + 1, 100))\n",
    "for word, i in tokenizer.word_index.items():\n",
    "    embedding_vector = embeddings_index.get(word)\n",
    "    if embedding_vector is not None:\n",
    "        embedding_matrix[i] = embedding_vector"
   ]
  },
  {
   "cell_type": "code",
   "execution_count": 12,
   "metadata": {},
   "outputs": [],
   "source": [
    "# create the embedding layer\n",
    "embedding_layer = Embedding(len(tokenizer.word_index) + 1,\n",
    "                            100,\n",
    "                            weights=[embedding_matrix],\n",
    "                            trainable=True)\n"
   ]
  },
  {
   "cell_type": "code",
   "execution_count": 13,
   "metadata": {},
   "outputs": [],
   "source": [
    "# create the model\n",
    "\n",
    "# Define Input Layers\n",
    "input_model_answer = Input(shape=(100,))\n",
    "input_answer = Input(shape=(100,))\n",
    "input_text_features = Input(shape=(2,))"
   ]
  },
  {
   "cell_type": "code",
   "execution_count": 14,
   "metadata": {},
   "outputs": [],
   "source": [
    "# Shared Embedding Layer\n",
    "embedding_model_answer = embedding_layer(input_model_answer)\n",
    "embedding_answer = embedding_layer(input_answer)"
   ]
  },
  {
   "cell_type": "code",
   "execution_count": 15,
   "metadata": {},
   "outputs": [],
   "source": [
    "# get the differnce of the embedding vectors\n",
    "diff_model_ans = Lambda(\n",
    "        lambda x: x[0] - x[1])([embedding_model_answer, embedding_answer])"
   ]
  },
  {
   "cell_type": "code",
   "execution_count": 16,
   "metadata": {},
   "outputs": [],
   "source": [
    "# apply the LSTM layer\n",
    "lstm_model_answer = Bidirectional(\n",
    "    LSTM(1000, return_sequences=True))(diff_model_ans)\n",
    "\n",
    "lstm_answer = Bidirectional(\n",
    "    LSTM(1000, return_sequences=True))(embedding_answer)\n"
   ]
  },
  {
   "cell_type": "code",
   "execution_count": 17,
   "metadata": {},
   "outputs": [],
   "source": [
    "# apply dropout\n",
    "dropout_model_answer = Dropout(0.2)(lstm_model_answer)\n",
    "dropout_answer = Dropout(0.2)(lstm_answer)"
   ]
  },
  {
   "cell_type": "code",
   "execution_count": 18,
   "metadata": {},
   "outputs": [],
   "source": [
    "# apply the Dense layer\n",
    "dense_model_answer = Dense(1000, activation='relu')(dropout_model_answer)\n",
    "dense_answer = Dense(1000, activation='relu')(dropout_answer)"
   ]
  },
  {
   "cell_type": "code",
   "execution_count": 19,
   "metadata": {},
   "outputs": [],
   "source": [
    "feature_layer = Dense(100, activation='relu')(input_text_features)"
   ]
  },
  {
   "cell_type": "code",
   "execution_count": 20,
   "metadata": {},
   "outputs": [],
   "source": [
    "# concatenate the outputs\n",
    "concatenate_model_answer = concatenate([dense_model_answer, dense_answer])"
   ]
  },
  {
   "cell_type": "code",
   "execution_count": 21,
   "metadata": {},
   "outputs": [],
   "source": [
    "# apply Dense layer\n",
    "dense_model1 = Dense(500, activation='relu')(concatenate_model_answer)\n",
    "\n",
    "# apply dropout\n",
    "dropout_model1 = Dropout(0.2)(dense_model1)"
   ]
  },
  {
   "cell_type": "code",
   "execution_count": 22,
   "metadata": {},
   "outputs": [],
   "source": [
    "# reduce the dimensionality\n",
    "dense_model2 = Dense(250, activation='relu')(dropout_model1)"
   ]
  },
  {
   "cell_type": "code",
   "execution_count": 23,
   "metadata": {},
   "outputs": [],
   "source": [
    "# include Flatten layer\n",
    "flatten_model_answer = Flatten()(dense_model2)"
   ]
  },
  {
   "cell_type": "code",
   "execution_count": 24,
   "metadata": {},
   "outputs": [],
   "source": [
    "concat_layer = concatenate([flatten_model_answer, feature_layer])"
   ]
  },
  {
   "cell_type": "code",
   "execution_count": 25,
   "metadata": {},
   "outputs": [],
   "source": [
    "final_layer = Dense(50, activation='relu')(concat_layer)"
   ]
  },
  {
   "cell_type": "code",
   "execution_count": 26,
   "metadata": {},
   "outputs": [],
   "source": [
    "# apply Dense layer - output layer\n",
    "output_model_answer = Dense(3, activation='softmax')(final_layer)"
   ]
  },
  {
   "cell_type": "code",
   "execution_count": 27,
   "metadata": {},
   "outputs": [],
   "source": [
    "# create the model\n",
    "model = Model(inputs=[input_model_answer, input_answer, input_text_features], outputs=output_model_answer)"
   ]
  },
  {
   "cell_type": "code",
   "execution_count": 28,
   "metadata": {},
   "outputs": [
    {
     "name": "stderr",
     "output_type": "stream",
     "text": [
      "C:\\Users\\USER\\anaconda3\\envs\\research\\lib\\site-packages\\keras\\optimizer_v2\\adam.py:105: UserWarning: The `lr` argument is deprecated, use `learning_rate` instead.\n",
      "  super(Adam, self).__init__(name, **kwargs)\n"
     ]
    }
   ],
   "source": [
    "# compile the model\n",
    "model.compile(loss='categorical_crossentropy',\n",
    "                  optimizer=Adam(lr=0.0001), metrics=['accuracy'])"
   ]
  },
  {
   "cell_type": "code",
   "execution_count": 29,
   "metadata": {},
   "outputs": [
    {
     "name": "stdout",
     "output_type": "stream",
     "text": [
      "Epoch 1/100\n",
      "43/43 [==============================] - 22s 246ms/step - loss: 0.8312 - accuracy: 0.7059 - val_loss: 0.7547 - val_accuracy: 0.7133\n",
      "Epoch 2/100\n",
      "43/43 [==============================] - 10s 225ms/step - loss: 0.7303 - accuracy: 0.7257 - val_loss: 0.7321 - val_accuracy: 0.7116\n",
      "Epoch 3/100\n",
      "43/43 [==============================] - 10s 226ms/step - loss: 0.6946 - accuracy: 0.7264 - val_loss: 0.7139 - val_accuracy: 0.7014\n",
      "Epoch 4/100\n",
      "43/43 [==============================] - 10s 226ms/step - loss: 0.6668 - accuracy: 0.7374 - val_loss: 0.7057 - val_accuracy: 0.7184\n",
      "Epoch 5/100\n",
      "43/43 [==============================] - 10s 227ms/step - loss: 0.6420 - accuracy: 0.7366 - val_loss: 0.6960 - val_accuracy: 0.7201\n",
      "Epoch 6/100\n",
      "43/43 [==============================] - 10s 227ms/step - loss: 0.5819 - accuracy: 0.7469 - val_loss: 0.7223 - val_accuracy: 0.6945\n",
      "Epoch 7/100\n",
      "43/43 [==============================] - 10s 227ms/step - loss: 0.5402 - accuracy: 0.7747 - val_loss: 0.6829 - val_accuracy: 0.7287\n",
      "Epoch 8/100\n",
      "43/43 [==============================] - 10s 228ms/step - loss: 0.5053 - accuracy: 0.7813 - val_loss: 0.7156 - val_accuracy: 0.6826\n",
      "Epoch 9/100\n",
      "43/43 [==============================] - 10s 228ms/step - loss: 0.4387 - accuracy: 0.8244 - val_loss: 0.7150 - val_accuracy: 0.7253\n",
      "Epoch 10/100\n",
      "43/43 [==============================] - 10s 228ms/step - loss: 0.3643 - accuracy: 0.8508 - val_loss: 0.7743 - val_accuracy: 0.7372\n",
      "Epoch 11/100\n",
      "43/43 [==============================] - 10s 228ms/step - loss: 0.3036 - accuracy: 0.8808 - val_loss: 0.7669 - val_accuracy: 0.7235\n",
      "Epoch 12/100\n",
      "43/43 [==============================] - 10s 230ms/step - loss: 0.2863 - accuracy: 0.8925 - val_loss: 0.7762 - val_accuracy: 0.6877\n"
     ]
    },
    {
     "data": {
      "text/plain": [
       "<keras.callbacks.History at 0x1ca1a564fd0>"
      ]
     },
     "execution_count": 29,
     "metadata": {},
     "output_type": "execute_result"
    }
   ],
   "source": [
    "# fit the model\n",
    "model.fit([model_ans_pad_seq, ans_pad_seq,X_train[['LengthRatio', 'Cosine_Similarity']]], y_train, epochs=100, batch_size=32,\n",
    "              validation_split=0.3, callbacks=[EarlyStopping(monitor='val_loss', patience=5)])"
   ]
  },
  {
   "cell_type": "code",
   "execution_count": 30,
   "metadata": {},
   "outputs": [
    {
     "name": "stdout",
     "output_type": "stream",
     "text": [
      "Accuracy: 84.38%\n",
      "Loss: 0.42\n"
     ]
    }
   ],
   "source": [
    "# evaluate the model\n",
    "scores = model.evaluate(\n",
    "        [model_ans_pad_seq, ans_pad_seq, X_train[['LengthRatio', 'Cosine_Similarity']]], y_train, verbose=0)\n",
    "\n",
    "print(\"Accuracy: %.2f%%\" % (scores[1]*100))\n",
    "print(\"Loss: %.2f\" % scores[0])\n"
   ]
  },
  {
   "cell_type": "code",
   "execution_count": 31,
   "metadata": {},
   "outputs": [],
   "source": [
    "model_ans_seq_test = tokenizer.texts_to_sequences(\n",
    "    X_test[model_ans_col])\n",
    "ans_seq_test = tokenizer.texts_to_sequences(X_test[ans_col])\n",
    "\n",
    "model_ans_pad_seq_test = pad_sequences(model_ans_seq_test, maxlen=100)\n",
    "ans_pad_seq_test = pad_sequences(ans_seq_test, maxlen=100)"
   ]
  },
  {
   "cell_type": "code",
   "execution_count": 32,
   "metadata": {},
   "outputs": [
    {
     "name": "stdout",
     "output_type": "stream",
     "text": [
      "Test Accuracy: 70.96%\n"
     ]
    }
   ],
   "source": [
    "print(\"Test Accuracy: %.2f%%\" % (model.evaluate(\n",
    "        [model_ans_pad_seq_test, ans_pad_seq_test, X_test[['LengthRatio', 'Cosine_Similarity']]], y_test, verbose=0)[1]*100))"
   ]
  },
  {
   "cell_type": "code",
   "execution_count": 33,
   "metadata": {},
   "outputs": [],
   "source": [
    "import re\n",
    "\n",
    "def preprocess_text_for_inferencing(model_ans, ans):\n",
    "    model_ans = str(model_ans).lower()\n",
    "    ans = str(ans).lower()\n",
    "\n",
    "    #remove punctuation\n",
    "    model_ans = re.sub('[^a-zA-Z0-9]', ' ', model_ans)\n",
    "    ans = re.sub('[^a-zA-Z0-9]', ' ', ans)\n",
    "\n",
    "    #strip whitespace\n",
    "    model_ans = model_ans.strip()\n",
    "    ans = ans.strip()\n",
    "\n",
    "    #Tokenize\n",
    "    tokenizer_p = Tokenizer()\n",
    "    tokenizer_p.fit_on_texts([model_ans, ans])\n",
    "\n",
    "    model_ans = tokenizer_p.texts_to_sequences([model_ans])\n",
    "    ans = tokenizer_p.texts_to_sequences([ans])\n",
    "\n",
    "    #Pad\n",
    "    model_ans = pad_sequences(model_ans, maxlen=100)\n",
    "    ans = pad_sequences(ans, maxlen=100)\n",
    "\n",
    "    return model_ans, ans\n"
   ]
  },
  {
   "cell_type": "code",
   "execution_count": 34,
   "metadata": {},
   "outputs": [],
   "source": [
    "def get_length_ration(model_ans, ans):\n",
    "    return len(ans)/len(model_ans)"
   ]
  },
  {
   "cell_type": "code",
   "execution_count": 35,
   "metadata": {},
   "outputs": [
    {
     "name": "stderr",
     "output_type": "stream",
     "text": [
      "C:\\Users\\USER\\anaconda3\\envs\\research\\lib\\site-packages\\tqdm\\auto.py:22: TqdmWarning: IProgress not found. Please update jupyter and ipywidgets. See https://ipywidgets.readthedocs.io/en/stable/user_install.html\n",
      "  from .autonotebook import tqdm as notebook_tqdm\n"
     ]
    }
   ],
   "source": [
    "from sklearn.metrics.pairwise import cosine_similarity\n",
    "from nltk import sent_tokenize\n",
    "\n",
    "from sentence_transformers import SentenceTransformer\n",
    "def process_bert_similarity(base_answer, sample_answer):\n",
    "    model = SentenceTransformer('bert-base-nli-mean-tokens')\n",
    "\n",
    "    tokenize_base_answer = sent_tokenize(base_answer)\n",
    "    base_answer_embedding = model.encode(tokenize_base_answer)\n",
    "    base_answer_embedding_mean = np.mean(np.array(base_answer_embedding), axis=0)\n",
    "\n",
    "    tokenize_sample_answer = sent_tokenize(sample_answer)\n",
    "    sample_answer_embedding = model.encode(tokenize_sample_answer)\n",
    "    sample_answer_embedding_mean = np.mean(np.array(sample_answer_embedding), axis=0)\n",
    "\n",
    "    cosine_similarity_score = cosine_similarity([base_answer_embedding_mean], [sample_answer_embedding_mean]).flatten()\n",
    "\n",
    "    return cosine_similarity_score[0]"
   ]
  },
  {
   "cell_type": "code",
   "execution_count": 36,
   "metadata": {},
   "outputs": [
    {
     "name": "stdout",
     "output_type": "stream",
     "text": [
      "Category: 1\n"
     ]
    }
   ],
   "source": [
    "model_ans_p = \"A primary key is a special relational database table column (or combination of columns) designated to uniquely identify each table record.\"\n",
    "ans_p = \"A primary key is a key that is used to identify the column names correctly\"\n",
    "\n",
    "cosine_similarity_p = process_bert_similarity(model_ans_p, ans_p)\n",
    "length_ration_p = get_length_ration(model_ans_p, ans_p)\n",
    "model_ans_p, ans_p = preprocess_text_for_inferencing(model_ans_p, ans_p)\n",
    "\n",
    "prediction = model.predict([model_ans_p, ans_p, np.array([[length_ration_p, cosine_similarity_p]])])\n",
    "print(\"Category:\", np.argmax(prediction))"
   ]
  },
  {
   "cell_type": "code",
   "execution_count": 37,
   "metadata": {},
   "outputs": [
    {
     "data": {
      "text/plain": [
       "0.78207314"
      ]
     },
     "execution_count": 37,
     "metadata": {},
     "output_type": "execute_result"
    }
   ],
   "source": [
    "cosine_similarity_p"
   ]
  },
  {
   "cell_type": "code",
   "execution_count": 41,
   "metadata": {},
   "outputs": [
    {
     "data": {
      "text/plain": [
       "1651170305"
      ]
     },
     "execution_count": 41,
     "metadata": {},
     "output_type": "execute_result"
    }
   ],
   "source": [
    "datetime.datetime.now().timestamp().__round__()"
   ]
  },
  {
   "cell_type": "code",
   "execution_count": 44,
   "metadata": {},
   "outputs": [
    {
     "name": "stdout",
     "output_type": "stream",
     "text": [
      "Model saved\n"
     ]
    }
   ],
   "source": [
    "# save the model\n",
    "import datetime\n",
    "isSave = 'y'\n",
    "\n",
    "if isSave == 'y':\n",
    "    model.save('./Models/model' + str(datetime.datetime.now().timestamp().__round__()) + '.h5')\n",
    "    print(\"Model saved\")"
   ]
  }
 ],
 "metadata": {
  "interpreter": {
   "hash": "2a8875a9de9d7ae50992e4bd370660b778ec8ba762c63430b991b7684d493a6c"
  },
  "kernelspec": {
   "display_name": "Python 3.9.12 ('research')",
   "language": "python",
   "name": "python3"
  },
  "language_info": {
   "codemirror_mode": {
    "name": "ipython",
    "version": 3
   },
   "file_extension": ".py",
   "mimetype": "text/x-python",
   "name": "python",
   "nbconvert_exporter": "python",
   "pygments_lexer": "ipython3",
   "version": "3.9.12"
  },
  "orig_nbformat": 4
 },
 "nbformat": 4,
 "nbformat_minor": 2
}
