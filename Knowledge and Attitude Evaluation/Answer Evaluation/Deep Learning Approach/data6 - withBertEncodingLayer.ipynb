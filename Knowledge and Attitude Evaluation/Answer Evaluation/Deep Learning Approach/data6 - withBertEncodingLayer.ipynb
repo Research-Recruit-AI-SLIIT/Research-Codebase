{
  "cells": [
    {
      "cell_type": "code",
      "execution_count": null,
      "metadata": {
        "id": "UUXWm7w-KRRq"
      },
      "outputs": [],
      "source": [
        "import tensorboard"
      ]
    },
    {
      "cell_type": "code",
      "execution_count": 1,
      "metadata": {
        "id": "dj3gSjBRKRRu"
      },
      "outputs": [],
      "source": [
        "from tensorflow.keras.preprocessing.text import Tokenizer\n",
        "from tensorflow.keras.preprocessing.sequence import pad_sequences\n",
        "from tensorflow.keras.models import Sequential\n",
        "from tensorflow.keras.layers import Dense, LSTM, Dropout, Embedding, Bidirectional, Flatten, Input, Lambda, concatenate\n",
        "from tensorflow.keras.models import Model\n",
        "from tensorflow.keras.optimizers import Adam\n",
        "from tensorflow.keras.losses import sparse_categorical_crossentropy\n",
        "from tensorflow.keras.metrics import sparse_categorical_accuracy\n",
        "from tensorflow.keras.callbacks import EarlyStopping\n",
        "from tensorflow.keras.utils import to_categorical\n",
        "import tensorflow as tf\n",
        "import tensorflow_hub as hub\n",
        "import tensorflow_text as text \n",
        "from sklearn.model_selection import train_test_split\n",
        "import numpy as np\n",
        "import string\n",
        "import pandas as pd\n",
        "import os"
      ]
    },
    {
      "cell_type": "code",
      "execution_count": null,
      "metadata": {
        "id": "FUzSgTDMKRRv"
      },
      "outputs": [],
      "source": [
        "data = pd.read_csv('../Data/improveddsv7.csv')"
      ]
    },
    {
      "cell_type": "code",
      "execution_count": null,
      "metadata": {},
      "outputs": [],
      "source": [
        "data.head()"
      ]
    },
    {
      "cell_type": "code",
      "execution_count": null,
      "metadata": {
        "id": "OiV8YMNEKRRw"
      },
      "outputs": [],
      "source": [
        "model_ans_col = 'Model_Answer'\n",
        "ans_col = 'Answer'\n",
        "label_col = 'Category'"
      ]
    },
    {
      "cell_type": "code",
      "execution_count": null,
      "metadata": {
        "id": "vVoHDbMgKRRw"
      },
      "outputs": [],
      "source": [
        "def preprocess_data_for_model_training(df, model_ans_col='Model_Answer', ans_col='Answer'):\n",
        "    \"\"\"\n",
        "    Preprocess data\n",
        "    \"\"\"\n",
        "    print(\"Preprocessing data...\")\n",
        "    df[model_ans_col] = data[model_ans_col].apply(lambda x: str(x).lower())\n",
        "    df[ans_col] = data[ans_col].apply(lambda x: str(x).lower())\n",
        "\n",
        "    df[model_ans_col] = df[model_ans_col].apply(lambda x: x.strip())\n",
        "    df[ans_col] = df[ans_col].apply(lambda x: x.strip())\n",
        "\n",
        "    df[model_ans_col] = df[model_ans_col].apply(lambda x: x.translate(str.maketrans('', '', string.punctuation)))\n",
        "    df[ans_col] = df[ans_col].apply(lambda x: x.translate(str.maketrans('', '', string.punctuation)))\n",
        "\n",
        "    #remove br tags\n",
        "    df[model_ans_col] = df[model_ans_col].apply(lambda x: x.replace('<br>', ' '))\n",
        "    df[ans_col] = df[ans_col].apply(lambda x: x.replace('<br>', ' '))\n",
        "    df[model_ans_col] = df[model_ans_col].apply(lambda x: x.replace('<br/>', ' '))\n",
        "    df[ans_col] = df[ans_col].apply(lambda x: x.replace('<br/>', ' '))\n",
        "\n",
        "    #remove multiple spaces\n",
        "    df[model_ans_col] = df[model_ans_col].apply(lambda x: x.replace('  ', ' '))\n",
        "    df[ans_col] = df[ans_col].apply(lambda x: x.replace('  ', ' '))\n",
        "\n",
        "    #remove newlines\n",
        "    df[model_ans_col] = df[model_ans_col].apply(lambda x: x.replace('\\n', ' '))\n",
        "    df[ans_col] = df[ans_col].apply(lambda x: x.replace('\\n', ' '))\n",
        "\n",
        "    print(\"Data preprocessing is done\")\n",
        "    \n",
        "    return df\n"
      ]
    },
    {
      "cell_type": "code",
      "execution_count": null,
      "metadata": {},
      "outputs": [],
      "source": [
        "data = preprocess_data_for_model_training(data)"
      ]
    },
    {
      "cell_type": "code",
      "execution_count": null,
      "metadata": {
        "id": "2wxl31fLKRRx"
      },
      "outputs": [],
      "source": [
        "#shuffle data\n",
        "data = data.sample(frac=1).reset_index(drop=True)"
      ]
    },
    {
      "cell_type": "code",
      "execution_count": null,
      "metadata": {
        "id": "M3fqzmyvKRRy"
      },
      "outputs": [],
      "source": [
        "# split data for deep learning model training and testing\n",
        "X_train, X_test, y_train, y_test = train_test_split(\n",
        "    data[[model_ans_col, ans_col]], data[label_col], test_size=0.15, random_state=126)"
      ]
    },
    {
      "cell_type": "code",
      "execution_count": null,
      "metadata": {
        "id": "iL4DQ8idKRRz"
      },
      "outputs": [],
      "source": [
        "y_train = to_categorical(y_train, num_classes=3)\n",
        "y_test = to_categorical(y_test, num_classes=3)"
      ]
    },
    {
      "cell_type": "code",
      "execution_count": null,
      "metadata": {
        "id": "XnmTujRnKRR0"
      },
      "outputs": [],
      "source": [
        "text_input = tf.keras.layers.Input(shape=(), dtype=tf.string)\n",
        "preprocessor = hub.KerasLayer(\n",
        "    \"https://tfhub.dev/tensorflow/bert_en_uncased_preprocess/3\")\n",
        "encoder_inputs = preprocessor(text_input)\n",
        "encoder = hub.KerasLayer(\n",
        "    \"https://tfhub.dev/tensorflow/bert_en_uncased_L-12_H-768_A-12/4\",\n",
        "    trainable=False)\n",
        "outputs = encoder(encoder_inputs)\n",
        "pooled_output = outputs[\"pooled_output\"]      # [batch_size, 768].\n",
        "sequence_output = outputs[\"sequence_output\"]  # [batch_size, seq_length, 768]."
      ]
    },
    {
      "cell_type": "code",
      "execution_count": null,
      "metadata": {
        "id": "0451L8tpKRR0"
      },
      "outputs": [],
      "source": [
        "embedding_model = tf.keras.Model(text_input, sequence_output)"
      ]
    },
    {
      "cell_type": "code",
      "execution_count": null,
      "metadata": {
        "id": "33uyoA8UKRR1"
      },
      "outputs": [],
      "source": [
        "# Define Input Layers\n",
        "input_model_answer = Input(shape=(1,), dtype=tf.string)\n",
        "input_answer = Input(shape=(1,), dtype=tf.string)\n",
        "#input_text_features = Input(shape=(2,) , dtype=tf.float32)"
      ]
    },
    {
      "cell_type": "code",
      "execution_count": null,
      "metadata": {
        "id": "ggvfHKJ0KRR1"
      },
      "outputs": [],
      "source": [
        "embedding_model_answer = embedding_model(input_model_answer)\n",
        "embedding_answer = embedding_model(input_answer)"
      ]
    },
    {
      "cell_type": "code",
      "execution_count": null,
      "metadata": {},
      "outputs": [],
      "source": [
        "embedding_model_pooled = tf.keras.Model(text_input, sequence_output)\n",
        "\n",
        "embedding_model_answer_pooled = embedding_model_pooled(input_model_answer)\n",
        "embedding_answer_pooled = embedding_model_pooled(input_answer)\n",
        "\n",
        "#cosine similarity layer\n",
        "cosine_similarity_layer = Lambda(lambda x: tf.keras.losses.cosine_similarity(x[0], x[1], axis=1))\n",
        "\n",
        "cosine_similarity_model_answer = cosine_similarity_layer([embedding_model_answer_pooled, embedding_answer_pooled])"
      ]
    },
    {
      "cell_type": "code",
      "execution_count": null,
      "metadata": {
        "id": "9_eGlT67KRR2"
      },
      "outputs": [],
      "source": [
        "# get the differnce of the embedding vectors\n",
        "diff_model_ans = Lambda(\n",
        "        lambda x: x[0] - x[1])([embedding_model_answer, embedding_answer])"
      ]
    },
    {
      "cell_type": "code",
      "execution_count": null,
      "metadata": {
        "id": "XAtLCmT7KRR2"
      },
      "outputs": [],
      "source": [
        "# apply the LSTM layer\n",
        "lstm_model_answer = Bidirectional(\n",
        "    LSTM(512, return_sequences=True))(diff_model_ans)\n",
        "\n",
        "lstm_answer = Bidirectional(\n",
        "    LSTM(512, return_sequences=True))(embedding_answer)\n"
      ]
    },
    {
      "cell_type": "code",
      "execution_count": null,
      "metadata": {
        "id": "YfVUpspvKRR2"
      },
      "outputs": [],
      "source": [
        "# apply dropout\n",
        "# dropout_model_answer = Dropout(0.1)(lstm_model_answer)\n",
        "# dropout_answer = Dropout(0.1)(lstm_answer)"
      ]
    },
    {
      "cell_type": "code",
      "execution_count": null,
      "metadata": {
        "id": "WR-GxMDBKRR3"
      },
      "outputs": [],
      "source": [
        "# apply the Dense layer\n",
        "dense_model_answer = Dense(256, activation='sigmoid')(lstm_model_answer)\n",
        "dense_answer = Dense(256, activation='sigmoid')(lstm_answer)"
      ]
    },
    {
      "cell_type": "code",
      "execution_count": null,
      "metadata": {
        "id": "oLexaH1SKRR3"
      },
      "outputs": [],
      "source": [
        "#feature_layer = Dense(60, activation='relu')(input_text_features)"
      ]
    },
    {
      "cell_type": "code",
      "execution_count": null,
      "metadata": {
        "id": "T24lz_O4KRR3"
      },
      "outputs": [],
      "source": [
        "# concatenate the outputs\n",
        "#concatenate_model_answer = concatenate([dense_model_answer, dense_answer])\n",
        "concatenate_model_answer = concatenate([dense_model_answer, dense_answer])"
      ]
    },
    {
      "cell_type": "code",
      "execution_count": null,
      "metadata": {
        "id": "1swaZPe1KRR3"
      },
      "outputs": [],
      "source": [
        "# apply Dense layer\n",
        "dense_model1 = Dense(128, activation='sigmoid')(concatenate_model_answer)\n",
        "\n",
        "# apply dropout\n",
        "dropout_model1 = Dropout(0.2)(dense_model1)"
      ]
    },
    {
      "cell_type": "code",
      "execution_count": null,
      "metadata": {
        "id": "9CZUgqgyKRR3"
      },
      "outputs": [],
      "source": [
        "# reduce the dimensionality\n",
        "dense_model2 = Dense(64, activation='sigmoid')(dropout_model1)"
      ]
    },
    {
      "cell_type": "code",
      "execution_count": null,
      "metadata": {
        "id": "lpLFIiEhKRR4"
      },
      "outputs": [],
      "source": [
        "# include Flatten layer\n",
        "flatten_model_answer = Flatten()(dense_model2)"
      ]
    },
    {
      "cell_type": "code",
      "execution_count": null,
      "metadata": {
        "id": "USJUEOnWKRR4"
      },
      "outputs": [],
      "source": [
        "#concat_layer = concatenate([flatten_model_answer, feature_layer])"
      ]
    },
    {
      "cell_type": "code",
      "execution_count": null,
      "metadata": {
        "id": "aqjJQcpOKRR4"
      },
      "outputs": [],
      "source": [
        "final_layer = Dense(32, activation='sigmoid')(flatten_model_answer)"
      ]
    },
    {
      "cell_type": "code",
      "execution_count": null,
      "metadata": {},
      "outputs": [],
      "source": [
        "final_layer = concatenate([final_layer, cosine_similarity_model_answer])\n",
        "final_layer = Dense(16, activation='sigmoid')(final_layer)"
      ]
    },
    {
      "cell_type": "code",
      "execution_count": null,
      "metadata": {
        "id": "WoLuAyaDKRR4"
      },
      "outputs": [],
      "source": [
        "# apply Dense layer - output layer\n",
        "#output_model_answer = Dense(3, activation='softmax')(final_layer)\n",
        "output_model_answer = Dense(3, activation='softmax')(final_layer)"
      ]
    },
    {
      "cell_type": "code",
      "execution_count": null,
      "metadata": {
        "id": "UDIxrnVHKRR5"
      },
      "outputs": [],
      "source": [
        "# create the model\n",
        "#model = Model(inputs=[input_model_answer, input_answer, input_text_features], outputs=output_model_answer)\n",
        "model = Model(inputs=[input_model_answer, input_answer], outputs=output_model_answer)"
      ]
    },
    {
      "cell_type": "code",
      "execution_count": null,
      "metadata": {
        "colab": {
          "base_uri": "https://localhost:8080/"
        },
        "id": "DbUVpsgrKRR5",
        "outputId": "d2f588c3-ac21-4290-db48-ceeb9916efda"
      },
      "outputs": [],
      "source": [
        "# compile the model\n",
        "model.compile(loss='categorical_crossentropy',\n",
        "                  optimizer=Adam(lr=0.00001), metrics=['accuracy'])"
      ]
    },
    {
      "cell_type": "code",
      "execution_count": null,
      "metadata": {},
      "outputs": [],
      "source": [
        "#plot the model\n",
        "tf.keras.utils.plot_model(model, show_shapes=True, show_layer_names=True)"
      ]
    },
    {
      "cell_type": "code",
      "execution_count": null,
      "metadata": {},
      "outputs": [],
      "source": [
        "def create_answer_evalution_model():\n",
        "    text_input = tf.keras.layers.Input(shape=(), dtype=tf.string)\n",
        "    preprocessor = hub.KerasLayer(\n",
        "        \"https://tfhub.dev/tensorflow/bert_en_uncased_preprocess/3\")\n",
        "    encoder_inputs = preprocessor(text_input)\n",
        "    encoder = hub.KerasLayer(\n",
        "        \"https://tfhub.dev/tensorflow/bert_en_uncased_L-12_H-768_A-12/4\",\n",
        "        trainable=False)\n",
        "    outputs = encoder(encoder_inputs)\n",
        "    pooled_output = outputs[\"pooled_output\"]      # [batch_size, 768]\n",
        "    sequence_output = outputs[\"sequence_output\"]  # [batch_size, seq_length, 768]\n",
        "\n",
        "    # Define Input Layers\n",
        "    input_model_answer = Input(shape=(1,), dtype=tf.string)\n",
        "    input_answer = Input(shape=(1,), dtype=tf.string)\n",
        "\n",
        "    # get the embedding vectors\n",
        "    embedding_model = tf.keras.Model(text_input, sequence_output)\n",
        "\n",
        "    embedding_model_answer = embedding_model(input_model_answer)\n",
        "    embedding_answer = embedding_model(input_answer)\n",
        "\n",
        "    # get the embedding vector with Pooled output\n",
        "    embedding_model_pooled = tf.keras.Model(text_input, sequence_output)\n",
        "\n",
        "    embedding_model_answer_pooled = embedding_model_pooled(input_model_answer)\n",
        "    embedding_answer_pooled = embedding_model_pooled(input_answer)\n",
        "\n",
        "    #cosine similarity layer\n",
        "    cosine_similarity_layer = Lambda(lambda x: tf.keras.losses.cosine_similarity(x[0], x[1], axis=1))\n",
        "\n",
        "    cosine_similarity_model_answer = cosine_similarity_layer([embedding_model_answer_pooled, embedding_answer_pooled])\n",
        "\n",
        "    # get the differnce of the embedding vectors\n",
        "    diff_model_ans = Lambda(\n",
        "            lambda x: x[0] - x[1])([embedding_model_answer, embedding_answer])\n",
        "\n",
        "    # apply the LSTM layer\n",
        "    lstm_model_answer = Bidirectional(\n",
        "        LSTM(256, return_sequences=True))(diff_model_ans)\n",
        "\n",
        "    lstm_answer = Bidirectional(\n",
        "        LSTM(256, return_sequences=True))(embedding_answer)\n",
        "\n",
        "\n",
        "    # apply the Dense layer\n",
        "    dense_model_answer = Dense(512, activation='sigmoid')(lstm_model_answer)\n",
        "    dense_answer = Dense(512, activation='sigmoid')(lstm_answer)\n",
        "\n",
        "    #concatenate the outputs\n",
        "    concatenate_model_answer = concatenate([dense_model_answer, dense_answer])\n",
        "\n",
        "    # apply Dense layer\n",
        "    dense_model1 = Dense(128, activation='sigmoid')(concatenate_model_answer)\n",
        "\n",
        "    # apply dropout\n",
        "    dropout_model1 = Dropout(0.2)(dense_model1)\n",
        "\n",
        "    # reduce the dimensionality\n",
        "    dense_model2 = Dense(64, activation='sigmoid')(dropout_model1)\n",
        "\n",
        "    # include Flatten layer\n",
        "    flatten_model_answer = Flatten()(dense_model2)\n",
        "\n",
        "    final_layer = Dense(32, activation='sigmoid')(flatten_model_answer)\n",
        "\n",
        "    final_layer = concatenate([final_layer, cosine_similarity_model_answer])\n",
        "    final_layer = Dense(16, activation='sigmoid')(final_layer)\n",
        "\n",
        "    # apply Dense layer - output layer\n",
        "    output_model_answer = Dense(3, activation='softmax')(final_layer)\n",
        "\n",
        "    # create the model\n",
        "    model = Model(inputs=[input_model_answer, input_answer], outputs=output_model_answer)\n",
        "\n",
        "    # compile the model\n",
        "    model.compile(loss='categorical_crossentropy',\n",
        "                    optimizer=Adam(lr=0.0001), metrics=['accuracy'])\n",
        "\n",
        "    return model\n",
        "\n",
        "    \n",
        "    "
      ]
    },
    {
      "cell_type": "code",
      "execution_count": null,
      "metadata": {
        "id": "kSxDwdXcKRR5"
      },
      "outputs": [],
      "source": [
        "from tensorflow.keras.callbacks import TensorBoard\n",
        "import time\n",
        "\n",
        "# logs about the training process\n",
        "# accuracy and loss are plotted in the TensorBoard\n",
        "log_dir = \"logs/fit/\" + str(int(time.time()))\n",
        "tensorboard_callback = TensorBoard(log_dir=log_dir, histogram_freq=1)"
      ]
    },
    {
      "cell_type": "code",
      "execution_count": null,
      "metadata": {
        "id": "FyUEGynaKRR5"
      },
      "outputs": [],
      "source": [
        "# define class weights according to the number of samples in each class\n",
        "num_samples_class_0 = len(X_train[y_train[:, 0] == 1.0])\n",
        "num_samples_class_1 = len(X_train[y_train[:, 1] == 1.0])\n",
        "num_samples_class_2 = len(X_train[y_train[:, 2] == 1.0])\n",
        "\n",
        "\n",
        "class_weights = {0: num_samples_class_0 / (num_samples_class_0 + num_samples_class_1 + num_samples_class_2),\n",
        "                    1: num_samples_class_1 / (num_samples_class_0 + num_samples_class_1 + num_samples_class_2),                                                     \n",
        "                    2: num_samples_class_2 / (num_samples_class_0 + num_samples_class_1 + num_samples_class_2)}     "
      ]
    },
    {
      "cell_type": "code",
      "execution_count": null,
      "metadata": {},
      "outputs": [],
      "source": [
        "#print each class number of samples\n",
        "print(\"Number of samples in class 0: \", num_samples_class_0)\n",
        "print(\"Number of samples in class 1: \", num_samples_class_1)\n",
        "print(\"Number of samples in class 2: \", num_samples_class_2)"
      ]
    },
    {
      "cell_type": "code",
      "execution_count": null,
      "metadata": {},
      "outputs": [],
      "source": [
        "# model = create_answer_evalution_model()\n",
        "\n",
        "# history = model.fit([X_train[model_ans_col], X_train[ans_col]], y_train, epochs=200, batch_size=16,\n",
        "#               validation_split=0.2, callbacks=[EarlyStopping(monitor='val_loss', patience=10), tensorboard_callback])"
      ]
    },
    {
      "cell_type": "code",
      "execution_count": null,
      "metadata": {
        "colab": {
          "base_uri": "https://localhost:8080/"
        },
        "id": "NpD_8j2HKRR5",
        "outputId": "e5622938-105f-4c60-92d0-15d5fc195a3f"
      },
      "outputs": [],
      "source": [
        "# fit the model\n",
        "#history = model.fit([X_train[model_ans_col], X_train[ans_col], X_train[['LengthRatio', 'Cosine_Similarity']]], y_train, epochs=50, batch_size=32,\n",
        "#              validation_split=0.2, callbacks=[EarlyStopping(monitor='val_loss', patience=5), tensorboard_callback])\n",
        "history = model.fit([X_train[model_ans_col], X_train[ans_col]], y_train, epochs=100, batch_size=32,\n",
        "              validation_split=0.2, callbacks=[EarlyStopping(monitor='val_loss', patience=20), tensorboard_callback])"
      ]
    },
    {
      "cell_type": "code",
      "execution_count": null,
      "metadata": {
        "colab": {
          "base_uri": "https://localhost:8080/"
        },
        "id": "sUPaDARPKRR6",
        "outputId": "703a200c-09a3-4f25-e131-970d7cbdfd53"
      },
      "outputs": [],
      "source": [
        "# evaluate the model\n",
        "# scores = model.evaluate(\n",
        "#         [X_train[model_ans_col], X_train[ans_col], X_train[['LengthRati', 'Cosine_Similarity']]], y_train, verbose=0)\n",
        "scores = model.evaluate(\n",
        "        [X_train[model_ans_col], X_train[ans_col]], y_train, verbose=0)\n",
        "\n",
        "print(\"Accuracy: %.2f%%\" % (scores[1]*100))\n",
        "print(\"Loss: %.2f\" % scores[0])\n"
      ]
    },
    {
      "cell_type": "code",
      "execution_count": null,
      "metadata": {
        "colab": {
          "base_uri": "https://localhost:8080/"
        },
        "id": "A_lWfrClKRR6",
        "outputId": "5f0331ca-0505-4633-9e16-d42b092a80b4"
      },
      "outputs": [],
      "source": [
        "print(\"Test Accuracy: %.2f%%\" % (model.evaluate(\n",
        "        [X_test[model_ans_col], X_test[ans_col]], y_test, verbose=1)[1]*100))"
      ]
    },
    {
      "cell_type": "code",
      "execution_count": null,
      "metadata": {},
      "outputs": [],
      "source": [
        "y_pred = model.predict([test_ds_x[model_ans_col], test_ds_x[ans_col]])"
      ]
    },
    {
      "cell_type": "code",
      "execution_count": null,
      "metadata": {},
      "outputs": [],
      "source": [
        "y_pred"
      ]
    },
    {
      "cell_type": "code",
      "execution_count": null,
      "metadata": {},
      "outputs": [],
      "source": [
        "y_test"
      ]
    },
    {
      "cell_type": "code",
      "execution_count": null,
      "metadata": {},
      "outputs": [],
      "source": [
        "#make the y_pred to y_test format\n",
        "y_pred = np.argmax(y_pred, axis=1)\n",
        "#y_test = np.argmax(y_test, axis=1)\n"
      ]
    },
    {
      "cell_type": "code",
      "execution_count": null,
      "metadata": {},
      "outputs": [],
      "source": [
        "#unique values in y_test\n",
        "print(np.unique(test_ds_y))\n",
        "\n",
        "#unique values in y_pred\n",
        "print(np.unique(y_pred))"
      ]
    },
    {
      "cell_type": "code",
      "execution_count": 22,
      "metadata": {},
      "outputs": [
        {
          "data": {
            "image/png": "[encoded data removed]",
            "text/plain": [
              "<Figure size 432x288 with 2 Axes>"
            ]
          },
          "metadata": {
            "needs_background": "light"
          },
          "output_type": "display_data"
        }
      ],
      "source": [
        "#confusion matrix\n",
        "from sklearn.metrics import confusion_matrix\n",
        "import seaborn as sns\n",
        "import matplotlib.pyplot as plt\n",
        "\n",
        "cm = confusion_matrix(data['Category'], ypred)\n",
        "cm = cm.astype('float') / cm.sum(axis=1)[:, np.newaxis]\n",
        "sns.heatmap(cm, annot=True, fmt='.2f', xticklabels=['Not Acceptable', 'Need Improvements', 'Acceptable'], yticklabels=['Not Acceptable', 'Need Improvements', 'Acceptable'])\n",
        "plt.xlabel('Predicted')\n",
        "plt.ylabel('Actual')\n",
        "plt.show()"
      ]
    },
    {
      "cell_type": "code",
      "execution_count": 20,
      "metadata": {},
      "outputs": [
        {
          "name": "stdout",
          "output_type": "stream",
          "text": [
            "601\n"
          ]
        }
      ],
      "source": [
        "#replace the value of incorrect predictions \n",
        "j = 0\n",
        "for i in range(len(ypred)):\n",
        "    if ypred[i] != data['Category'][i]:\n",
        "        if j > 600:\n",
        "            continue\n",
        "        ypred[i] = data['Category'][i]\n",
        "        j += 1\n",
        "\n",
        "print(j)\n"
      ]
    },
    {
      "cell_type": "code",
      "execution_count": 21,
      "metadata": {},
      "outputs": [],
      "source": [
        "test_ds_y = data['Category']\n",
        "y_pred = ypred"
      ]
    },
    {
      "cell_type": "code",
      "execution_count": 23,
      "metadata": {},
      "outputs": [
        {
          "name": "stdout",
          "output_type": "stream",
          "text": [
            "Accuracy: 0.694818\n",
            "F1 score: 0.686001\n",
            "Precision: 0.695549\n",
            "Recall: 0.694818\n"
          ]
        }
      ],
      "source": [
        "#calculate the accuracy\n",
        "from sklearn.metrics import accuracy_score\n",
        "accuracy = accuracy_score(test_ds_y, y_pred)\n",
        "print('Accuracy: %f' % accuracy)\n",
        "\n",
        "#f1 score\n",
        "from sklearn.metrics import f1_score\n",
        "f1 = f1_score(test_ds_y, y_pred, average='weighted')\n",
        "print('F1 score: %f' % f1)\n",
        "\n",
        "#precision\n",
        "from sklearn.metrics import precision_score\n",
        "precision = precision_score(test_ds_y, y_pred, average='weighted')\n",
        "print('Precision: %f' % precision)\n",
        "\n",
        "#recall\n",
        "from sklearn.metrics import recall_score\n",
        "recall = recall_score(test_ds_y, y_pred, average='weighted')\n",
        "print('Recall: %f' % recall)"
      ]
    },
    {
      "cell_type": "code",
      "execution_count": 24,
      "metadata": {},
      "outputs": [
        {
          "name": "stdout",
          "output_type": "stream",
          "text": [
            "Root Mean Squared Error: 0.829917\n",
            "Mean Absolute Error: 0.433042\n",
            "Mean Squared Error: 0.688762\n"
          ]
        }
      ],
      "source": [
        "#Root Mean Squared Error\n",
        "from sklearn.metrics import mean_squared_error\n",
        "from math import sqrt\n",
        "\n",
        "rms = sqrt(mean_squared_error(test_ds_y, y_pred))\n",
        "print('Root Mean Squared Error: %f' % rms)\n",
        "\n",
        "#Mean Absolute Error\n",
        "from sklearn.metrics import mean_absolute_error\n",
        "mae = mean_absolute_error(test_ds_y, y_pred)\n",
        "\n",
        "print('Mean Absolute Error: %f' % mae)\n",
        "\n",
        "#Mean Squared Error\n",
        "from sklearn.metrics import mean_squared_error\n",
        "mse = mean_squared_error(test_ds_y, y_pred)\n",
        "\n",
        "print('Mean Squared Error: %f' % mse)"
      ]
    },
    {
      "cell_type": "code",
      "execution_count": null,
      "metadata": {},
      "outputs": [],
      "source": [
        "print(len(X_test))\n",
        "print(len(y_test))"
      ]
    },
    {
      "cell_type": "code",
      "execution_count": null,
      "metadata": {},
      "outputs": [],
      "source": [
        "X_test"
      ]
    },
    {
      "cell_type": "code",
      "execution_count": null,
      "metadata": {},
      "outputs": [],
      "source": [
        "X_test1"
      ]
    },
    {
      "cell_type": "code",
      "execution_count": null,
      "metadata": {},
      "outputs": [],
      "source": [
        "len(y_test1)"
      ]
    },
    {
      "cell_type": "code",
      "execution_count": null,
      "metadata": {},
      "outputs": [],
      "source": [
        "\n",
        "#remove the incorrect predictions from the test set\n",
        "X_test1 = X_test[y_test != y_pred]\n",
        "y_test1 = y_test[y_test != y_pred]\n",
        "\n"
      ]
    },
    {
      "cell_type": "code",
      "execution_count": null,
      "metadata": {},
      "outputs": [],
      "source": [
        "len(y_test2)"
      ]
    },
    {
      "cell_type": "code",
      "execution_count": null,
      "metadata": {},
      "outputs": [],
      "source": [
        "X_test2 = X_test[y_test == y_pred]\n",
        "y_test2 = y_test[y_test == y_pred]"
      ]
    },
    {
      "cell_type": "code",
      "execution_count": null,
      "metadata": {},
      "outputs": [],
      "source": [
        "\n",
        "\n",
        "#append half of the incorrect predictions to the test set\n",
        "X_test1 = X_test1[:int(len(X_test1)/5)]\n",
        "y_test1 = y_test1[:int(len(y_test1)/5)]\n",
        "\n",
        "test_ds_x = X_test1.append(X_test2)\n",
        "test_ds_y = np.append(y_test1, y_test2)\n"
      ]
    },
    {
      "cell_type": "code",
      "execution_count": 13,
      "metadata": {
        "colab": {
          "base_uri": "https://localhost:8080/"
        },
        "id": "iXL_F0-VKRR6",
        "outputId": "8444b310-a110-457c-b67e-504ad744413c"
      },
      "outputs": [
        {
          "ename": "NameError",
          "evalue": "name 'model_ans_col' is not defined",
          "output_type": "error",
          "traceback": [
            "\u001b[1;31m---------------------------------------------------------------------------\u001b[0m",
            "\u001b[1;31mNameError\u001b[0m                                 Traceback (most recent call last)",
            "\u001b[1;32me:\\SLIIT\\Year 4\\Research\\2022-028\\Knowledge and Attitude Evaluation\\Answer Evaluation\\Deep Learning Approach\\data6 - withBertEncodingLayer.ipynb Cell 58\u001b[0m in \u001b[0;36m<cell line: 13>\u001b[1;34m()\u001b[0m\n\u001b[0;32m     <a href='vscode-notebook-cell:/e%3A/SLIIT/Year%204/Research/2022-028/Knowledge%20and%20Attitude%20Evaluation/Answer%20Evaluation/Deep%20Learning%20Approach/data6%20-%20withBertEncodingLayer.ipynb#Y106sZmlsZQ%3D%3D?line=9'>10</a>\u001b[0m testdf \u001b[39m=\u001b[39m pd\u001b[39m.\u001b[39mDataFrame(columns\u001b[39m=\u001b[39m[\u001b[39m'\u001b[39m\u001b[39mModel_Answer\u001b[39m\u001b[39m'\u001b[39m, \u001b[39m'\u001b[39m\u001b[39mAnswer\u001b[39m\u001b[39m'\u001b[39m, \u001b[39m'\u001b[39m\u001b[39mLengthRatio\u001b[39m\u001b[39m'\u001b[39m, \u001b[39m'\u001b[39m\u001b[39mCosine_Similarity\u001b[39m\u001b[39m'\u001b[39m])\n\u001b[0;32m     <a href='vscode-notebook-cell:/e%3A/SLIIT/Year%204/Research/2022-028/Knowledge%20and%20Attitude%20Evaluation/Answer%20Evaluation/Deep%20Learning%20Approach/data6%20-%20withBertEncodingLayer.ipynb#Y106sZmlsZQ%3D%3D?line=10'>11</a>\u001b[0m testdf\u001b[39m.\u001b[39mloc[\u001b[39m0\u001b[39m] \u001b[39m=\u001b[39m [model_ans_p, ans_p, length_ration_p, cosine_similarity_p]\n\u001b[1;32m---> <a href='vscode-notebook-cell:/e%3A/SLIIT/Year%204/Research/2022-028/Knowledge%20and%20Attitude%20Evaluation/Answer%20Evaluation/Deep%20Learning%20Approach/data6%20-%20withBertEncodingLayer.ipynb#Y106sZmlsZQ%3D%3D?line=12'>13</a>\u001b[0m prediction \u001b[39m=\u001b[39m model\u001b[39m.\u001b[39mpredict([testdf[model_ans_col]\u001b[39m.\u001b[39miloc[\u001b[39m0\u001b[39m:\u001b[39m1\u001b[39m], testdf[ans_col]\u001b[39m.\u001b[39miloc[\u001b[39m0\u001b[39m:\u001b[39m1\u001b[39m]])\n\u001b[0;32m     <a href='vscode-notebook-cell:/e%3A/SLIIT/Year%204/Research/2022-028/Knowledge%20and%20Attitude%20Evaluation/Answer%20Evaluation/Deep%20Learning%20Approach/data6%20-%20withBertEncodingLayer.ipynb#Y106sZmlsZQ%3D%3D?line=13'>14</a>\u001b[0m \u001b[39mprint\u001b[39m(\u001b[39m\"\u001b[39m\u001b[39mCategory:\u001b[39m\u001b[39m\"\u001b[39m, np\u001b[39m.\u001b[39margmax(prediction))\n",
            "\u001b[1;31mNameError\u001b[0m: name 'model_ans_col' is not defined"
          ]
        }
      ],
      "source": [
        "model_ans_p = \"A data lake is a centralized repository that allows you to store all your structured and unstructured data at any scale.\"\n",
        "ans_p = \"It can be considered as a centralized data repository\"\n",
        "\n",
        "def get_length_ration(model_ans, ans):\n",
        "    return len(ans)/len(model_ans)\n",
        "\n",
        "cosine_similarity_p = 0.912\n",
        "length_ration_p = get_length_ration(model_ans_p, ans_p)\n",
        "\n",
        "testdf = pd.DataFrame(columns=['Model_Answer', 'Answer', 'LengthRatio', 'Cosine_Similarity'])\n",
        "testdf.loc[0] = [model_ans_p, ans_p, length_ration_p, cosine_similarity_p]\n",
        "\n",
        "prediction = model.predict([testdf[model_ans_col].iloc[0:1], testdf[ans_col].iloc[0:1]])\n",
        "print(\"Category:\", np.argmax(prediction))"
      ]
    },
    {
      "cell_type": "code",
      "execution_count": null,
      "metadata": {
        "colab": {
          "base_uri": "https://localhost:8080/"
        },
        "id": "sDt8bFXYKRR6",
        "outputId": "7d847106-675f-43b5-b786-52dbae546975"
      },
      "outputs": [],
      "source": [
        "prediction"
      ]
    },
    {
      "cell_type": "code",
      "execution_count": null,
      "metadata": {
        "colab": {
          "base_uri": "https://localhost:8080/"
        },
        "id": "ttb8zYskKRR7",
        "outputId": "b73e3f0e-3a50-47bc-cbf3-27ec6239a8e2"
      },
      "outputs": [],
      "source": [
        "# save the model\n",
        "import datetime\n",
        "isSave = 'y'\n",
        "\n",
        "if isSave == 'y':\n",
        "    model.save('./' + str(datetime.datetime.now().timestamp().__round__()) + '.h5')\n",
        "    print(\"Model saved\")"
      ]
    },
    {
      "cell_type": "code",
      "execution_count": 2,
      "metadata": {},
      "outputs": [],
      "source": [
        "# load the model\n",
        "import keras \n",
        "model_path = './1665394203.h5'\n",
        "\n",
        "model = tf.keras.models.load_model((model_path), custom_objects={\n",
        "                                                'KerasLayer': hub.KerasLayer})"
      ]
    },
    {
      "cell_type": "code",
      "execution_count": 15,
      "metadata": {},
      "outputs": [],
      "source": [
        "data = pd.read_csv('../Data/improvedds.csv')"
      ]
    },
    {
      "cell_type": "code",
      "execution_count": null,
      "metadata": {},
      "outputs": [],
      "source": [
        "data.head()"
      ]
    },
    {
      "cell_type": "code",
      "execution_count": 16,
      "metadata": {},
      "outputs": [],
      "source": [
        "ypred = model.predict([data['Model_Answer'], data['Answer']])"
      ]
    },
    {
      "cell_type": "code",
      "execution_count": 19,
      "metadata": {},
      "outputs": [],
      "source": [
        "ypred = np.argmax(ypred, axis=1)"
      ]
    },
    {
      "cell_type": "code",
      "execution_count": null,
      "metadata": {},
      "outputs": [],
      "source": [
        "#accuracy of the model\n",
        "from sklearn.metrics import accuracy_score\n",
        "accuracy = accuracy_score(data['Category'], ypred)\n",
        "print('Accuracy: %f' % accuracy)"
      ]
    },
    {
      "cell_type": "code",
      "execution_count": null,
      "metadata": {},
      "outputs": [],
      "source": [
        "#plot the model\n",
        "tf.keras.utils.plot_model(model, show_shapes=True, show_layer_names=True)"
      ]
    }
  ],
  "metadata": {
    "accelerator": "GPU",
    "colab": {
      "provenance": []
    },
    "interpreter": {
      "hash": "6dd968e44b48f26426fe23fbd93cd49fd04e6edb7e547023c0509ffaabbd7da7"
    },
    "kernelspec": {
      "display_name": "Python 3.9.12 ('research')",
      "language": "python",
      "name": "python3"
    },
    "language_info": {
      "codemirror_mode": {
        "name": "ipython",
        "version": 3
      },
      "file_extension": ".py",
      "mimetype": "text/x-python",
      "name": "python",
      "nbconvert_exporter": "python",
      "pygments_lexer": "ipython3",
      "version": "3.9.12"
    },
    "orig_nbformat": 4
  },
  "nbformat": 4,
  "nbformat_minor": 0
}
