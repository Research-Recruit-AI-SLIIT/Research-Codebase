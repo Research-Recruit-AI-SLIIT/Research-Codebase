{
 "cells": [
  {
   "cell_type": "code",
   "execution_count": 1,
   "metadata": {},
   "outputs": [],
   "source": [
    "import numpy as np # linear algebra\n",
    "import pandas as pd # data processing, CSV file I/O (e.g. pd.read_csv)\n",
    "\n",
    "import tensorflow as tf\n",
    "import tensorflow_hub as hub\n",
    "import keras\n",
    "import keras.backend as K\n",
    "from keras.layers import *\n",
    "from keras.callbacks import *\n",
    "from keras.optimizers import *\n",
    "from keras import Model"
   ]
  },
  {
   "cell_type": "code",
   "execution_count": 2,
   "metadata": {},
   "outputs": [],
   "source": [
    "#load csv data merged.csv\n",
    "df = pd.read_csv('../Data/merged.csv')"
   ]
  },
  {
   "cell_type": "code",
   "execution_count": 3,
   "metadata": {},
   "outputs": [],
   "source": [
    "x = df['Answer']\n",
    "y = df['Score']"
   ]
  },
  {
   "cell_type": "code",
   "execution_count": 4,
   "metadata": {},
   "outputs": [],
   "source": [
    "bert_path = \"https://tfhub.dev/google/bert_uncased_L-12_H-768_A-12/1\""
   ]
  },
  {
   "cell_type": "code",
   "execution_count": null,
   "metadata": {},
   "outputs": [],
   "source": [
    "model = keras.Sequential()\n",
    "model.add(hub.KerasLayer(bert_path, input_shape=(None, None, 768), signature=\"tokens\", trainable=False))\n",
    "model.add(keras.layers.Dense(1, activation='sigmoid'))\n",
    "\n",
    "\n",
    "model.compile(loss='binary_crossentropy',\n",
    "                optimizer='adam',\n",
    "                metrics=['accuracy'])"
   ]
  },
  {
   "cell_type": "code",
   "execution_count": 1,
   "metadata": {},
   "outputs": [
    {
     "name": "stdout",
     "output_type": "stream",
     "text": [
      "\n",
      "Sentences:\n",
      "[\"Here We Go Then, You And I is a 1999 album by Norwegian pop artist Morten Abel. It was Abel's second CD as a solo artist.\", 'The album went straight to number one on the Norwegian album chart, and sold to double platinum.', 'Ceylon spinach is a common name for several plants and may refer to: Basella alba Talinum fruticosum', 'A solar eclipse occurs when the Moon passes between Earth and the Sun, thereby totally or partly obscuring the image of the Sun for a viewer on Earth.', \"A partial solar eclipse occurs in the polar regions of the Earth when the center of the Moon's shadow misses the Earth.\"]\n",
      "\n",
      "Pooled output:\n",
      "tf.Tensor(\n",
      "[[ 0.79824275 -0.4859632   0.49743986 ... -0.3444482   0.39645314\n",
      "  -0.20564346]\n",
      " [ 0.5709464  -0.41217822  0.70488966 ... -0.3521709   0.19027929\n",
      "  -0.40444764]\n",
      " [-0.35686696  0.77086705  0.15761067 ...  0.44230893 -0.86441374\n",
      "   0.04455666]\n",
      " [ 0.91080487  0.41581953  0.5606558  ... -0.4926478   0.39604154\n",
      "  -0.05092027]\n",
      " [ 0.9049716  -0.15463327  0.72701347 ... -0.34767175  0.50475323\n",
      "  -0.19697641]], shape=(5, 768), dtype=float32)\n",
      "\n",
      "Sequence output:\n",
      "tf.Tensor(\n",
      "[[[ 1.0935687e+00 -5.3058964e-01  5.4595101e-01 ... -3.5917801e-01\n",
      "    4.1936475e-01 -2.0857295e-01]\n",
      "  [ 1.0146790e+00  7.8037339e-01  8.5348892e-01 ...  5.5388093e-01\n",
      "   -1.1248741e+00  5.5933785e-01]\n",
      "  [ 7.8755844e-01  7.6515004e-02  9.5152551e-01 ... -1.9142759e-01\n",
      "    5.9245968e-01  6.1896086e-01]\n",
      "  ...\n",
      "  [-3.2233825e-01 -4.2620325e-01 -1.2877184e-01 ... -3.9105284e-01\n",
      "   -7.8994179e-01  4.2165935e-01]\n",
      "  [-3.1640053e-02  2.3865026e-01 -2.2079991e-01 ... -1.1557329e-01\n",
      "   -1.2682325e+00 -1.6183886e-01]\n",
      "  [-4.2125735e-01  5.4986703e-01 -3.2528627e-01 ... -1.8536770e-01\n",
      "   -1.1337574e+00 -5.9535701e-02]]\n",
      "\n",
      " [[ 6.4872444e-01 -4.3828595e-01  8.7694603e-01 ... -3.6803600e-01\n",
      "    1.9263414e-01 -4.2886445e-01]\n",
      "  [-1.1243025e+00  3.0101219e-01  1.1808895e+00 ...  4.8734337e-01\n",
      "    5.3568459e-01  2.2764654e-01]\n",
      "  [-2.7232876e-01  3.2441735e-02  1.0420345e+00 ...  5.8874059e-01\n",
      "    1.5369538e+00  5.8410686e-01]\n",
      "  ...\n",
      "  [-1.4778112e+00  1.8201159e-01  5.5262506e-02 ... -1.6723411e+00\n",
      "   -6.7345482e-01 -7.2453421e-01]\n",
      "  [-1.5135176e+00  5.8036846e-01  1.6115305e-01 ... -1.2638141e+00\n",
      "   -4.0285152e-01 -9.7209996e-01]\n",
      "  [-4.7106612e-01  2.2786246e-01  5.2682418e-01 ... -7.5516242e-01\n",
      "   -9.0935069e-01 -1.7010969e-01]]\n",
      "\n",
      " [[-3.7336943e-01  1.0228652e+00  1.5891902e-01 ...  4.7509012e-01\n",
      "   -1.3103517e+00  4.4601191e-02]\n",
      "  [-4.1698292e-01  5.0171506e-01 -4.5930085e-01 ...  4.1536072e-01\n",
      "   -6.2129164e-01 -7.1519077e-01]\n",
      "  [-1.2488136e+00  5.0935245e-01 -5.7097971e-01 ...  3.5516670e-01\n",
      "    2.4417204e-01 -2.0567091e+00]\n",
      "  ...\n",
      "  [ 1.3447687e-01  1.1852033e+00 -2.2202785e-01 ... -8.1867158e-01\n",
      "   -1.6736208e+00 -3.9596641e-01]\n",
      "  [-3.3677837e-01  1.6549814e+00 -3.7755075e-01 ... -9.6627820e-01\n",
      "   -1.4801965e+00 -8.3305907e-01]\n",
      "  [-2.2669271e-01  1.6177025e+00 -6.7110312e-01 ... -4.9025330e-01\n",
      "   -1.4543530e+00 -7.1603382e-01]]\n",
      "\n",
      " [[ 1.5325983e+00  4.4253182e-01  6.3402390e-01 ... -5.3959942e-01\n",
      "    4.1897100e-01 -5.0966524e-02]\n",
      "  [ 8.9444894e-01  8.9453757e-01  3.0514538e-02 ...  5.9914567e-02\n",
      "   -2.0595488e-01 -8.4756833e-01]\n",
      "  [-1.7852724e-02  1.0478841e+00 -1.3326173e+00 ... -1.3991258e-01\n",
      "   -3.7943181e-01 -4.9143627e-01]\n",
      "  ...\n",
      "  [ 1.4283229e+00  1.0639123e-01 -3.9546087e-02 ... -3.0426601e-02\n",
      "   -4.1452450e-01  7.0109582e-01]\n",
      "  [ 1.1299703e+00  1.4557928e-01 -6.1367393e-01 ...  4.7631422e-01\n",
      "   -3.9818469e-01  4.3139377e-01]\n",
      "  [ 1.4404747e+00  1.7955759e-01 -4.2805570e-01 ... -2.4830872e-01\n",
      "   -9.9966437e-01  3.6007562e-01]]\n",
      "\n",
      " [[ 1.4988441e+00 -1.5583512e-01  9.2226464e-01 ... -3.6282474e-01\n",
      "    5.5581743e-01 -1.9955009e-01]\n",
      "  [ 1.1112610e+00  3.6662155e-01  3.5588968e-01 ... -5.4362136e-01\n",
      "    1.4489910e-01 -3.1717226e-01]\n",
      "  [ 2.3990357e-01  3.8066682e-01 -5.9132326e-01 ...  3.7329417e-01\n",
      "   -5.9813541e-01 -1.0175916e+00]\n",
      "  ...\n",
      "  [ 1.0169157e+00  5.0210279e-01  1.0704428e-01 ... -9.5650935e-01\n",
      "   -4.1005772e-01 -2.6945713e-01]\n",
      "  [ 1.1855160e+00  6.5405643e-01  3.7606061e-04 ... -8.6171353e-01\n",
      "   -8.8677526e-02 -3.0708191e-01]\n",
      "  [ 1.2666413e+00  4.7781104e-01  5.9215724e-03 ... -1.1601195e+00\n",
      "   -7.2034329e-02 -1.8840635e-01]]], shape=(5, 128, 768), dtype=float32)\n"
     ]
    }
   ],
   "source": [
    "import numpy as np\n",
    "import tensorflow as tf\n",
    "import tensorflow_hub as hub\n",
    "import tensorflow_text as text  # Imports TF ops for preprocessing.\n",
    "\n",
    "# Define some sentences to feed into the model\n",
    "sentences = [\n",
    "  \"Here We Go Then, You And I is a 1999 album by Norwegian pop artist Morten Abel. It was Abel's second CD as a solo artist.\",\n",
    "  \"The album went straight to number one on the Norwegian album chart, and sold to double platinum.\",\n",
    "  \"Ceylon spinach is a common name for several plants and may refer to: Basella alba Talinum fruticosum\",\n",
    "  \"A solar eclipse occurs when the Moon passes between Earth and the Sun, thereby totally or partly obscuring the image of the Sun for a viewer on Earth.\",\n",
    "  \"A partial solar eclipse occurs in the polar regions of the Earth when the center of the Moon's shadow misses the Earth.\",\n",
    "]\n",
    "\n",
    "# Load the BERT encoder and preprocessing models\n",
    "preprocess = hub.load('https://tfhub.dev/tensorflow/bert_en_uncased_preprocess/3')\n",
    "bert = hub.load('https://tfhub.dev/google/experts/bert/wiki_books/2')\n",
    "\n",
    "# Convert the sentences to bert inputs\n",
    "bert_inputs = preprocess(sentences)\n",
    "\n",
    "# Feed the inputs to the model to get the pooled and sequence outputs\n",
    "bert_outputs = bert(bert_inputs, training=False)\n",
    "pooled_output = bert_outputs['pooled_output']\n",
    "sequence_output = bert_outputs['sequence_output']\n",
    "\n",
    "print('\\nSentences:')\n",
    "print(sentences)\n",
    "print('\\nPooled output:')\n",
    "print(pooled_output)\n",
    "print('\\nSequence output:')\n",
    "print(sequence_output)"
   ]
  }
 ],
 "metadata": {
  "interpreter": {
   "hash": "6dd968e44b48f26426fe23fbd93cd49fd04e6edb7e547023c0509ffaabbd7da7"
  },
  "kernelspec": {
   "display_name": "Python 3.9.12 ('research')",
   "language": "python",
   "name": "python3"
  },
  "language_info": {
   "codemirror_mode": {
    "name": "ipython",
    "version": 3
   },
   "file_extension": ".py",
   "mimetype": "text/x-python",
   "name": "python",
   "nbconvert_exporter": "python",
   "pygments_lexer": "ipython3",
   "version": "3.9.12"
  },
  "orig_nbformat": 4
 },
 "nbformat": 4,
 "nbformat_minor": 2
}
