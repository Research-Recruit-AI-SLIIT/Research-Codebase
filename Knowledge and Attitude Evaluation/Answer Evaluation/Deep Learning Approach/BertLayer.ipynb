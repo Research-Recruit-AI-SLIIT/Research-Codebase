{
 "cells": [
  {
   "cell_type": "code",
   "execution_count": 1,
   "metadata": {},
   "outputs": [],
   "source": [
    "import numpy as np # linear algebra\n",
    "import pandas as pd # data processing, CSV file I/O (e.g. pd.read_csv)\n",
    "\n",
    "import tensorflow as tf\n",
    "import tensorflow_hub as hub\n",
    "import keras\n",
    "import keras.backend as K\n",
    "from keras.layers import *\n",
    "from keras.callbacks import *\n",
    "from keras.optimizers import *\n",
    "from keras import Model"
   ]
  },
  {
   "cell_type": "code",
   "execution_count": 2,
   "metadata": {},
   "outputs": [],
   "source": [
    "#load csv data merged.csv\n",
    "df = pd.read_csv('../Data/merged.csv')"
   ]
  },
  {
   "cell_type": "code",
   "execution_count": 3,
   "metadata": {},
   "outputs": [],
   "source": [
    "x = df['Answer']\n",
    "y = df['Score']"
   ]
  },
  {
   "cell_type": "code",
   "execution_count": 4,
   "metadata": {},
   "outputs": [],
   "source": [
    "bert_path = \"https://tfhub.dev/google/bert_uncased_L-12_H-768_A-12/1\""
   ]
  },
  {
   "cell_type": "code",
   "execution_count": 8,
   "metadata": {},
   "outputs": [
    {
     "ename": "TypeError",
     "evalue": "Exception encountered when calling layer \"keras_layer_2\" (type KerasLayer).\n\nin user code:\n\n    File \"C:\\Users\\USER\\anaconda3\\envs\\research\\lib\\site-packages\\tensorflow_hub\\keras_layer.py\", line 229, in call  *\n        result = f()\n\n    TypeError: pruned(input_ids, input_mask, segment_ids) takes 0 positional arguments, got 1.\n\n\nCall arguments received:\n  • inputs=tf.Tensor(shape=(None, None, None, 768), dtype=float32)\n  • training=None",
     "output_type": "error",
     "traceback": [
      "\u001b[1;31m---------------------------------------------------------------------------\u001b[0m",
      "\u001b[1;31mTypeError\u001b[0m                                 Traceback (most recent call last)",
      "\u001b[1;32me:\\SLIIT\\Year 4\\Research\\2022-028\\Knowledge and Attitude Evaluation\\Answer Evaluation\\Deep Learning Approach\\BertLayer.ipynb Cell 5'\u001b[0m in \u001b[0;36m<cell line: 2>\u001b[1;34m()\u001b[0m\n\u001b[0;32m      <a href='vscode-notebook-cell:/e%3A/SLIIT/Year%204/Research/2022-028/Knowledge%20and%20Attitude%20Evaluation/Answer%20Evaluation/Deep%20Learning%20Approach/BertLayer.ipynb#ch0000018?line=0'>1</a>\u001b[0m model \u001b[39m=\u001b[39m keras\u001b[39m.\u001b[39mSequential()\n\u001b[1;32m----> <a href='vscode-notebook-cell:/e%3A/SLIIT/Year%204/Research/2022-028/Knowledge%20and%20Attitude%20Evaluation/Answer%20Evaluation/Deep%20Learning%20Approach/BertLayer.ipynb#ch0000018?line=1'>2</a>\u001b[0m model\u001b[39m.\u001b[39;49madd(hub\u001b[39m.\u001b[39;49mKerasLayer(bert_path, input_shape\u001b[39m=\u001b[39;49m(\u001b[39mNone\u001b[39;49;00m, \u001b[39mNone\u001b[39;49;00m, \u001b[39m768\u001b[39;49m), signature\u001b[39m=\u001b[39;49m\u001b[39m\"\u001b[39;49m\u001b[39mtokens\u001b[39;49m\u001b[39m\"\u001b[39;49m, trainable\u001b[39m=\u001b[39;49m\u001b[39mFalse\u001b[39;49;00m))\n\u001b[0;32m      <a href='vscode-notebook-cell:/e%3A/SLIIT/Year%204/Research/2022-028/Knowledge%20and%20Attitude%20Evaluation/Answer%20Evaluation/Deep%20Learning%20Approach/BertLayer.ipynb#ch0000018?line=2'>3</a>\u001b[0m model\u001b[39m.\u001b[39madd(keras\u001b[39m.\u001b[39mlayers\u001b[39m.\u001b[39mDense(\u001b[39m1\u001b[39m, activation\u001b[39m=\u001b[39m\u001b[39m'\u001b[39m\u001b[39msigmoid\u001b[39m\u001b[39m'\u001b[39m))\n\u001b[0;32m      <a href='vscode-notebook-cell:/e%3A/SLIIT/Year%204/Research/2022-028/Knowledge%20and%20Attitude%20Evaluation/Answer%20Evaluation/Deep%20Learning%20Approach/BertLayer.ipynb#ch0000018?line=5'>6</a>\u001b[0m model\u001b[39m.\u001b[39mcompile(loss\u001b[39m=\u001b[39m\u001b[39m'\u001b[39m\u001b[39mbinary_crossentropy\u001b[39m\u001b[39m'\u001b[39m,\n\u001b[0;32m      <a href='vscode-notebook-cell:/e%3A/SLIIT/Year%204/Research/2022-028/Knowledge%20and%20Attitude%20Evaluation/Answer%20Evaluation/Deep%20Learning%20Approach/BertLayer.ipynb#ch0000018?line=6'>7</a>\u001b[0m                 optimizer\u001b[39m=\u001b[39m\u001b[39m'\u001b[39m\u001b[39madam\u001b[39m\u001b[39m'\u001b[39m,\n\u001b[0;32m      <a href='vscode-notebook-cell:/e%3A/SLIIT/Year%204/Research/2022-028/Knowledge%20and%20Attitude%20Evaluation/Answer%20Evaluation/Deep%20Learning%20Approach/BertLayer.ipynb#ch0000018?line=7'>8</a>\u001b[0m                 metrics\u001b[39m=\u001b[39m[\u001b[39m'\u001b[39m\u001b[39maccuracy\u001b[39m\u001b[39m'\u001b[39m])\n",
      "File \u001b[1;32m~\\anaconda3\\envs\\research\\lib\\site-packages\\tensorflow\\python\\training\\tracking\\base.py:629\u001b[0m, in \u001b[0;36mno_automatic_dependency_tracking.<locals>._method_wrapper\u001b[1;34m(self, *args, **kwargs)\u001b[0m\n\u001b[0;32m    <a href='file:///c%3A/Users/USER/anaconda3/envs/research/lib/site-packages/tensorflow/python/training/tracking/base.py?line=626'>627</a>\u001b[0m \u001b[39mself\u001b[39m\u001b[39m.\u001b[39m_self_setattr_tracking \u001b[39m=\u001b[39m \u001b[39mFalse\u001b[39;00m  \u001b[39m# pylint: disable=protected-access\u001b[39;00m\n\u001b[0;32m    <a href='file:///c%3A/Users/USER/anaconda3/envs/research/lib/site-packages/tensorflow/python/training/tracking/base.py?line=627'>628</a>\u001b[0m \u001b[39mtry\u001b[39;00m:\n\u001b[1;32m--> <a href='file:///c%3A/Users/USER/anaconda3/envs/research/lib/site-packages/tensorflow/python/training/tracking/base.py?line=628'>629</a>\u001b[0m   result \u001b[39m=\u001b[39m method(\u001b[39mself\u001b[39m, \u001b[39m*\u001b[39margs, \u001b[39m*\u001b[39m\u001b[39m*\u001b[39mkwargs)\n\u001b[0;32m    <a href='file:///c%3A/Users/USER/anaconda3/envs/research/lib/site-packages/tensorflow/python/training/tracking/base.py?line=629'>630</a>\u001b[0m \u001b[39mfinally\u001b[39;00m:\n\u001b[0;32m    <a href='file:///c%3A/Users/USER/anaconda3/envs/research/lib/site-packages/tensorflow/python/training/tracking/base.py?line=630'>631</a>\u001b[0m   \u001b[39mself\u001b[39m\u001b[39m.\u001b[39m_self_setattr_tracking \u001b[39m=\u001b[39m previous_value  \u001b[39m# pylint: disable=protected-access\u001b[39;00m\n",
      "File \u001b[1;32m~\\anaconda3\\envs\\research\\lib\\site-packages\\keras\\utils\\traceback_utils.py:67\u001b[0m, in \u001b[0;36mfilter_traceback.<locals>.error_handler\u001b[1;34m(*args, **kwargs)\u001b[0m\n\u001b[0;32m     <a href='file:///c%3A/Users/USER/anaconda3/envs/research/lib/site-packages/keras/utils/traceback_utils.py?line=64'>65</a>\u001b[0m \u001b[39mexcept\u001b[39;00m \u001b[39mException\u001b[39;00m \u001b[39mas\u001b[39;00m e:  \u001b[39m# pylint: disable=broad-except\u001b[39;00m\n\u001b[0;32m     <a href='file:///c%3A/Users/USER/anaconda3/envs/research/lib/site-packages/keras/utils/traceback_utils.py?line=65'>66</a>\u001b[0m   filtered_tb \u001b[39m=\u001b[39m _process_traceback_frames(e\u001b[39m.\u001b[39m__traceback__)\n\u001b[1;32m---> <a href='file:///c%3A/Users/USER/anaconda3/envs/research/lib/site-packages/keras/utils/traceback_utils.py?line=66'>67</a>\u001b[0m   \u001b[39mraise\u001b[39;00m e\u001b[39m.\u001b[39mwith_traceback(filtered_tb) \u001b[39mfrom\u001b[39;00m \u001b[39mNone\u001b[39m\n\u001b[0;32m     <a href='file:///c%3A/Users/USER/anaconda3/envs/research/lib/site-packages/keras/utils/traceback_utils.py?line=67'>68</a>\u001b[0m \u001b[39mfinally\u001b[39;00m:\n\u001b[0;32m     <a href='file:///c%3A/Users/USER/anaconda3/envs/research/lib/site-packages/keras/utils/traceback_utils.py?line=68'>69</a>\u001b[0m   \u001b[39mdel\u001b[39;00m filtered_tb\n",
      "File \u001b[1;32m~\\anaconda3\\envs\\research\\lib\\site-packages\\tensorflow\\python\\autograph\\impl\\api.py:692\u001b[0m, in \u001b[0;36mconvert.<locals>.decorator.<locals>.wrapper\u001b[1;34m(*args, **kwargs)\u001b[0m\n\u001b[0;32m    <a href='file:///c%3A/Users/USER/anaconda3/envs/research/lib/site-packages/tensorflow/python/autograph/impl/api.py?line=689'>690</a>\u001b[0m \u001b[39mexcept\u001b[39;00m \u001b[39mException\u001b[39;00m \u001b[39mas\u001b[39;00m e:  \u001b[39m# pylint:disable=broad-except\u001b[39;00m\n\u001b[0;32m    <a href='file:///c%3A/Users/USER/anaconda3/envs/research/lib/site-packages/tensorflow/python/autograph/impl/api.py?line=690'>691</a>\u001b[0m   \u001b[39mif\u001b[39;00m \u001b[39mhasattr\u001b[39m(e, \u001b[39m'\u001b[39m\u001b[39mag_error_metadata\u001b[39m\u001b[39m'\u001b[39m):\n\u001b[1;32m--> <a href='file:///c%3A/Users/USER/anaconda3/envs/research/lib/site-packages/tensorflow/python/autograph/impl/api.py?line=691'>692</a>\u001b[0m     \u001b[39mraise\u001b[39;00m e\u001b[39m.\u001b[39mag_error_metadata\u001b[39m.\u001b[39mto_exception(e)\n\u001b[0;32m    <a href='file:///c%3A/Users/USER/anaconda3/envs/research/lib/site-packages/tensorflow/python/autograph/impl/api.py?line=692'>693</a>\u001b[0m   \u001b[39melse\u001b[39;00m:\n\u001b[0;32m    <a href='file:///c%3A/Users/USER/anaconda3/envs/research/lib/site-packages/tensorflow/python/autograph/impl/api.py?line=693'>694</a>\u001b[0m     \u001b[39mraise\u001b[39;00m\n",
      "\u001b[1;31mTypeError\u001b[0m: Exception encountered when calling layer \"keras_layer_2\" (type KerasLayer).\n\nin user code:\n\n    File \"C:\\Users\\USER\\anaconda3\\envs\\research\\lib\\site-packages\\tensorflow_hub\\keras_layer.py\", line 229, in call  *\n        result = f()\n\n    TypeError: pruned(input_ids, input_mask, segment_ids) takes 0 positional arguments, got 1.\n\n\nCall arguments received:\n  • inputs=tf.Tensor(shape=(None, None, None, 768), dtype=float32)\n  • training=None"
     ]
    }
   ],
   "source": [
    "model = keras.Sequential()\n",
    "model.add(hub.KerasLayer(bert_path, input_shape=(None, None, 768), signature=\"tokens\", trainable=False))\n",
    "model.add(keras.layers.Dense(1, activation='sigmoid'))\n",
    "\n",
    "\n",
    "model.compile(loss='binary_crossentropy',\n",
    "                optimizer='adam',\n",
    "                metrics=['accuracy'])"
   ]
  }
 ],
 "metadata": {
  "interpreter": {
   "hash": "2a8875a9de9d7ae50992e4bd370660b778ec8ba762c63430b991b7684d493a6c"
  },
  "kernelspec": {
   "display_name": "Python 3.9.12 ('research')",
   "language": "python",
   "name": "python3"
  },
  "language_info": {
   "codemirror_mode": {
    "name": "ipython",
    "version": 3
   },
   "file_extension": ".py",
   "mimetype": "text/x-python",
   "name": "python",
   "nbconvert_exporter": "python",
   "pygments_lexer": "ipython3",
   "version": "3.9.12"
  },
  "orig_nbformat": 4
 },
 "nbformat": 4,
 "nbformat_minor": 2
}
