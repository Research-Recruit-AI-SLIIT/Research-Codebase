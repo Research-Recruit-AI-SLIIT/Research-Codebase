{
 "cells": [
  {
   "cell_type": "code",
   "execution_count": 1,
   "metadata": {},
   "outputs": [
    {
     "name": "stderr",
     "output_type": "stream",
     "text": [
      "C:\\Users\\USER\\anaconda3\\envs\\research\\lib\\site-packages\\tqdm\\auto.py:22: TqdmWarning: IProgress not found. Please update jupyter and ipywidgets. See https://ipywidgets.readthedocs.io/en/stable/user_install.html\n",
      "  from .autonotebook import tqdm as notebook_tqdm\n"
     ]
    }
   ],
   "source": [
    "from tensorflow.keras.preprocessing.text import Tokenizer\n",
    "from tensorflow.keras.preprocessing.sequence import pad_sequences\n",
    "from tensorflow.keras.models import Sequential\n",
    "from tensorflow.keras.layers import Dense, LSTM, Dropout, Embedding, Bidirectional, Flatten, Input, Lambda, concatenate\n",
    "from tensorflow.keras.models import Model\n",
    "from tensorflow.keras.optimizers import Adam\n",
    "from tensorflow.keras.losses import sparse_categorical_crossentropy\n",
    "from tensorflow.keras.metrics import sparse_categorical_accuracy\n",
    "from tensorflow.keras.callbacks import EarlyStopping\n",
    "from tensorflow.keras.utils import to_categorical\n",
    "import tensorflow as tf\n",
    "import tensorflow_hub as hub\n",
    "import tensorflow_text as text \n",
    "from sklearn.model_selection import train_test_split\n",
    "from transformers import BertTokenizer, TFBertModel, BertConfig\n",
    "import numpy as np\n",
    "import string\n",
    "import pandas as pd\n",
    "import os"
   ]
  },
  {
   "cell_type": "code",
   "execution_count": 2,
   "metadata": {},
   "outputs": [],
   "source": [
    "data = pd.read_csv('../Data/merged.csv')"
   ]
  },
  {
   "cell_type": "code",
   "execution_count": 3,
   "metadata": {},
   "outputs": [],
   "source": [
    "model_ans_col = 'Model_Answer'\n",
    "ans_col = 'Answer'\n",
    "label_col = 'Category'"
   ]
  },
  {
   "cell_type": "code",
   "execution_count": 4,
   "metadata": {},
   "outputs": [],
   "source": [
    "def preprocess_data_for_model_training(df, model_ans_col='Model_Answer', ans_col='Answer'):\n",
    "    \"\"\"\n",
    "    Preprocess data\n",
    "    \"\"\"\n",
    "    print(\"Preprocessing data...\")\n",
    "    df[model_ans_col] = data[model_ans_col].apply(lambda x: str(x).lower())\n",
    "    df[ans_col] = data[ans_col].apply(lambda x: str(x).lower())\n",
    "\n",
    "    df[model_ans_col] = df[model_ans_col].apply(lambda x: x.strip())\n",
    "    df[ans_col] = df[ans_col].apply(lambda x: x.strip())\n",
    "\n",
    "    df[model_ans_col] = df[model_ans_col].apply(lambda x: x.translate(str.maketrans('', '', string.punctuation)))\n",
    "    df[ans_col] = df[ans_col].apply(lambda x: x.translate(str.maketrans('', '', string.punctuation)))\n",
    "\n",
    "    print(\"Data preprocessing is done\")\n",
    "    return df\n"
   ]
  },
  {
   "cell_type": "code",
   "execution_count": 5,
   "metadata": {},
   "outputs": [],
   "source": [
    "# split data for deep learning model training and testing\n",
    "X_train, X_test, y_train, y_test = train_test_split(\n",
    "    data[[model_ans_col, ans_col, 'LengthRatio', 'Cosine_Similarity']], data[label_col], test_size=0.2, random_state=176)\n",
    "\n",
    "# convert to one-hot encoding\n",
    "y_train = to_categorical(y_train, num_classes=None)\n",
    "y_test = to_categorical(y_test, num_classes=None)\n"
   ]
  },
  {
   "cell_type": "code",
   "execution_count": 6,
   "metadata": {},
   "outputs": [],
   "source": [
    "text_input = tf.keras.layers.Input(shape=(), dtype=tf.string)\n",
    "preprocessor = hub.KerasLayer(\n",
    "    \"https://tfhub.dev/tensorflow/bert_en_uncased_preprocess/3\")\n",
    "encoder_inputs = preprocessor(text_input)\n",
    "encoder = hub.KerasLayer(\n",
    "    \"https://tfhub.dev/tensorflow/bert_en_uncased_L-12_H-768_A-12/4\",\n",
    "    trainable=False)\n",
    "outputs = encoder(encoder_inputs)\n",
    "pooled_output = outputs[\"pooled_output\"]      # [batch_size, 768].\n",
    "sequence_output = outputs[\"sequence_output\"]  # [batch_size, seq_length, 768]."
   ]
  },
  {
   "cell_type": "code",
   "execution_count": 7,
   "metadata": {},
   "outputs": [],
   "source": [
    "embedding_model = tf.keras.Model(text_input, sequence_output)"
   ]
  },
  {
   "cell_type": "code",
   "execution_count": 131,
   "metadata": {},
   "outputs": [],
   "source": [
    "# Define Input Layers\n",
    "input_model_answer = Input(shape=(1,), dtype=tf.string)\n",
    "input_answer = Input(shape=(1,), dtype=tf.string)\n",
    "input_text_features = Input(shape=(1,) , dtype=tf.float32)"
   ]
  },
  {
   "cell_type": "code",
   "execution_count": 132,
   "metadata": {},
   "outputs": [],
   "source": [
    "embedding_model_answer = embedding_model(input_model_answer)\n",
    "embedding_answer = embedding_model(input_answer)"
   ]
  },
  {
   "cell_type": "code",
   "execution_count": 133,
   "metadata": {},
   "outputs": [],
   "source": [
    "# get the differnce of the embedding vectors\n",
    "diff_model_ans = Lambda(\n",
    "        lambda x: x[0] - x[1])([embedding_model_answer, embedding_answer])"
   ]
  },
  {
   "cell_type": "code",
   "execution_count": 134,
   "metadata": {},
   "outputs": [],
   "source": [
    "# apply the LSTM layer\n",
    "lstm_model_answer = Bidirectional(\n",
    "    LSTM(100, return_sequences=True))(diff_model_ans)\n",
    "\n",
    "lstm_answer = Bidirectional(\n",
    "    LSTM(100, return_sequences=True))(embedding_answer)\n"
   ]
  },
  {
   "cell_type": "code",
   "execution_count": 135,
   "metadata": {},
   "outputs": [],
   "source": [
    "# apply dropout\n",
    "dropout_model_answer = Dropout(0.2)(lstm_model_answer)\n",
    "dropout_answer = Dropout(0.2)(lstm_answer)"
   ]
  },
  {
   "cell_type": "code",
   "execution_count": 136,
   "metadata": {},
   "outputs": [],
   "source": [
    "# apply the Dense layer\n",
    "dense_model_answer = Dense(100, activation='relu')(dropout_model_answer)\n",
    "dense_answer = Dense(100, activation='relu')(dropout_answer)"
   ]
  },
  {
   "cell_type": "code",
   "execution_count": 137,
   "metadata": {},
   "outputs": [],
   "source": [
    "feature_layer = Dense(100, activation='relu')(input_text_features)"
   ]
  },
  {
   "cell_type": "code",
   "execution_count": 138,
   "metadata": {},
   "outputs": [],
   "source": [
    "# concatenate the outputs\n",
    "concatenate_model_answer = concatenate([dense_model_answer, dense_answer])"
   ]
  },
  {
   "cell_type": "code",
   "execution_count": 139,
   "metadata": {},
   "outputs": [],
   "source": [
    "# apply Dense layer\n",
    "dense_model1 = Dense(500, activation='relu')(concatenate_model_answer)\n",
    "\n",
    "# apply dropout\n",
    "dropout_model1 = Dropout(0.2)(dense_model1)"
   ]
  },
  {
   "cell_type": "code",
   "execution_count": 140,
   "metadata": {},
   "outputs": [],
   "source": [
    "# reduce the dimensionality\n",
    "dense_model2 = Dense(250, activation='relu')(dropout_model1)"
   ]
  },
  {
   "cell_type": "code",
   "execution_count": 141,
   "metadata": {},
   "outputs": [],
   "source": [
    "# include Flatten layer\n",
    "flatten_model_answer = Flatten()(dense_model2)"
   ]
  },
  {
   "cell_type": "code",
   "execution_count": 142,
   "metadata": {},
   "outputs": [],
   "source": [
    "concat_layer = concatenate([flatten_model_answer, feature_layer])"
   ]
  },
  {
   "cell_type": "code",
   "execution_count": 143,
   "metadata": {},
   "outputs": [],
   "source": [
    "final_layer = Dense(50, activation='relu')(concat_layer)"
   ]
  },
  {
   "cell_type": "code",
   "execution_count": 144,
   "metadata": {},
   "outputs": [],
   "source": [
    "# apply Dense layer - output layer\n",
    "output_model_answer = Dense(3, activation='softmax')(final_layer)"
   ]
  },
  {
   "cell_type": "code",
   "execution_count": 145,
   "metadata": {},
   "outputs": [],
   "source": [
    "# create the model\n",
    "model = Model(inputs=[input_model_answer, input_answer, input_text_features], outputs=output_model_answer)"
   ]
  },
  {
   "cell_type": "code",
   "execution_count": 146,
   "metadata": {},
   "outputs": [],
   "source": [
    "# compile the model\n",
    "model.compile(loss='categorical_crossentropy',\n",
    "                  optimizer=Adam(lr=0.0001), metrics=['accuracy'])"
   ]
  },
  {
   "cell_type": "code",
   "execution_count": 147,
   "metadata": {},
   "outputs": [
    {
     "name": "stdout",
     "output_type": "stream",
     "text": [
      "Epoch 1/100\n",
      "43/43 [==============================] - 52s 1s/step - loss: 0.7700 - accuracy: 0.7176 - val_loss: 0.7473 - val_accuracy: 0.7133\n",
      "Epoch 2/100\n",
      "43/43 [==============================] - 44s 1s/step - loss: 0.6843 - accuracy: 0.7249 - val_loss: 0.6948 - val_accuracy: 0.7270\n",
      "Epoch 3/100\n",
      "43/43 [==============================] - 44s 1s/step - loss: 0.5971 - accuracy: 0.7440 - val_loss: 0.6544 - val_accuracy: 0.7201\n",
      "Epoch 4/100\n",
      "43/43 [==============================] - 44s 1s/step - loss: 0.5103 - accuracy: 0.7842 - val_loss: 0.6549 - val_accuracy: 0.7338\n",
      "Epoch 5/100\n",
      "43/43 [==============================] - 44s 1s/step - loss: 0.4444 - accuracy: 0.8215 - val_loss: 0.6672 - val_accuracy: 0.7423\n",
      "Epoch 6/100\n",
      "43/43 [==============================] - 44s 1s/step - loss: 0.3506 - accuracy: 0.8683 - val_loss: 0.7273 - val_accuracy: 0.7491\n",
      "Epoch 7/100\n",
      "43/43 [==============================] - 44s 1s/step - loss: 0.2990 - accuracy: 0.8925 - val_loss: 0.7410 - val_accuracy: 0.7372\n",
      "Epoch 8/100\n",
      "43/43 [==============================] - 45s 1s/step - loss: 0.2168 - accuracy: 0.9232 - val_loss: 0.8140 - val_accuracy: 0.7509\n"
     ]
    },
    {
     "data": {
      "text/plain": [
       "<keras.callbacks.History at 0x11bca2bbdc0>"
      ]
     },
     "execution_count": 147,
     "metadata": {},
     "output_type": "execute_result"
    }
   ],
   "source": [
    "# fit the model\n",
    "model.fit([X_train[model_ans_col], X_train[ans_col], X_train['LengthRatio']], y_train, epochs=100, batch_size=32,\n",
    "              validation_split=0.3, callbacks=[EarlyStopping(monitor='val_loss', patience=5)])"
   ]
  },
  {
   "cell_type": "code",
   "execution_count": 149,
   "metadata": {},
   "outputs": [
    {
     "name": "stdout",
     "output_type": "stream",
     "text": [
      "Accuracy: 90.53%\n",
      "Loss: 0.34\n"
     ]
    }
   ],
   "source": [
    "# evaluate the model\n",
    "scores = model.evaluate(\n",
    "        [X_train[model_ans_col], X_train[ans_col], X_train[['LengthRatio']]], y_train, verbose=0)\n",
    "\n",
    "print(\"Accuracy: %.2f%%\" % (scores[1]*100))\n",
    "print(\"Loss: %.2f\" % scores[0])\n"
   ]
  },
  {
   "cell_type": "code",
   "execution_count": 150,
   "metadata": {},
   "outputs": [
    {
     "name": "stdout",
     "output_type": "stream",
     "text": [
      "16/16 [==============================] - 11s 667ms/step - loss: 0.8365 - accuracy: 0.7505\n",
      "Test Accuracy: 75.05%\n"
     ]
    }
   ],
   "source": [
    "print(\"Test Accuracy: %.2f%%\" % (model.evaluate(\n",
    "        [X_test[model_ans_col], X_test[ans_col], np.asarray(X_test[['LengthRatio']]).astype(np.float32)], y_test, verbose=1)[1]*100))"
   ]
  },
  {
   "cell_type": "code",
   "execution_count": 90,
   "metadata": {},
   "outputs": [
    {
     "data": {
      "text/plain": [
       "[<KerasTensor: shape=(None, 1) dtype=string (created by layer 'input_5')>,\n",
       " <KerasTensor: shape=(None, 1) dtype=string (created by layer 'input_6')>,\n",
       " <KerasTensor: shape=(None, 2) dtype=float32 (created by layer 'input_7')>]"
      ]
     },
     "execution_count": 90,
     "metadata": {},
     "output_type": "execute_result"
    }
   ],
   "source": [
    "model.input"
   ]
  },
  {
   "cell_type": "code",
   "execution_count": 112,
   "metadata": {},
   "outputs": [
    {
     "data": {
      "text/plain": [
       "(1, 2)"
      ]
     },
     "execution_count": 112,
     "metadata": {},
     "output_type": "execute_result"
    }
   ],
   "source": [
    "np.asarray(X_test[['LengthRatio', 'Cosine_Similarity']].iloc[0:1]).astype(np.float32).shape"
   ]
  },
  {
   "cell_type": "code",
   "execution_count": 181,
   "metadata": {},
   "outputs": [
    {
     "name": "stdout",
     "output_type": "stream",
     "text": [
      "Category: 1\n"
     ]
    }
   ],
   "source": [
    "model_ans_p = \"Narendra Modi is the prime minister of India\"\n",
    "ans_p = \"OOP is very important in programming\"\n",
    "\n",
    "cosine_similarity_p = 0.912\n",
    "length_ration_p = get_length_ration(model_ans_p, ans_p)\n",
    "\n",
    "testdf = pd.DataFrame(columns=['Model_Answer', 'Answer', 'LengthRatio', 'Cosine_Similarity'])\n",
    "testdf.loc[0] = [model_ans_p, ans_p, length_ration_p, cosine_similarity_p]\n",
    "\n",
    "prediction = model.predict([testdf[model_ans_col].iloc[0:1], testdf[ans_col].iloc[0:1], np.asarray(testdf[['LengthRatio']].iloc[0:1]).astype(np.float32)])\n",
    "print(\"Category:\", np.argmax(prediction))"
   ]
  },
  {
   "cell_type": "code",
   "execution_count": 171,
   "metadata": {},
   "outputs": [],
   "source": [
    "def get_length_ration(model_ans, ans):\n",
    "    return len(ans)/len(model_ans)"
   ]
  },
  {
   "cell_type": "code",
   "execution_count": 172,
   "metadata": {},
   "outputs": [],
   "source": [
    "import re\n",
    "\n",
    "def preprocess_text_for_inferencing(model_ans, ans):\n",
    "    model_ans = str(model_ans).lower()\n",
    "    ans = str(ans).lower()\n",
    "\n",
    "    #remove punctuation\n",
    "    model_ans = re.sub('[^a-zA-Z0-9]', ' ', model_ans)\n",
    "    ans = re.sub('[^a-zA-Z0-9]', ' ', ans)\n",
    "\n",
    "    #strip whitespace\n",
    "    model_ans = model_ans.strip()\n",
    "    ans = ans.strip()\n",
    "\n",
    "    return model_ans, ans"
   ]
  },
  {
   "cell_type": "code",
   "execution_count": 173,
   "metadata": {},
   "outputs": [
    {
     "ename": "NameError",
     "evalue": "name 'datetime' is not defined",
     "output_type": "error",
     "traceback": [
      "\u001b[1;31m---------------------------------------------------------------------------\u001b[0m",
      "\u001b[1;31mNameError\u001b[0m                                 Traceback (most recent call last)",
      "\u001b[1;32me:\\SLIIT\\Year 4\\Research\\2022-028\\Knowledge and Attitude Evaluation\\Answer Evaluation\\Deep Learning Approach\\withBertEncodingLayer.ipynb Cell 33'\u001b[0m in \u001b[0;36m<cell line: 1>\u001b[1;34m()\u001b[0m\n\u001b[1;32m----> <a href='vscode-notebook-cell:/e%3A/SLIIT/Year%204/Research/2022-028/Knowledge%20and%20Attitude%20Evaluation/Answer%20Evaluation/Deep%20Learning%20Approach/withBertEncodingLayer.ipynb#ch0000042?line=0'>1</a>\u001b[0m datetime\u001b[39m.\u001b[39mdatetime\u001b[39m.\u001b[39mnow()\u001b[39m.\u001b[39mtimestamp()\u001b[39m.\u001b[39m\u001b[39m__round__\u001b[39m()\n",
      "\u001b[1;31mNameError\u001b[0m: name 'datetime' is not defined"
     ]
    }
   ],
   "source": [
    "datetime.datetime.now().timestamp().__round__()"
   ]
  },
  {
   "cell_type": "code",
   "execution_count": null,
   "metadata": {},
   "outputs": [],
   "source": [
    "# save the model\n",
    "import datetime\n",
    "isSave = 'y'\n",
    "\n",
    "if isSave == 'y':\n",
    "    model.save('./Models/model' + str(datetime.datetime.now().timestamp().__round__()) + '.h5')\n",
    "    print(\"Model saved\")"
   ]
  }
 ],
 "metadata": {
  "interpreter": {
   "hash": "2a8875a9de9d7ae50992e4bd370660b778ec8ba762c63430b991b7684d493a6c"
  },
  "kernelspec": {
   "display_name": "Python 3.9.12 ('research')",
   "language": "python",
   "name": "python3"
  },
  "language_info": {
   "codemirror_mode": {
    "name": "ipython",
    "version": 3
   },
   "file_extension": ".py",
   "mimetype": "text/x-python",
   "name": "python",
   "nbconvert_exporter": "python",
   "pygments_lexer": "ipython3",
   "version": "3.9.12"
  },
  "orig_nbformat": 4
 },
 "nbformat": 4,
 "nbformat_minor": 2
}
