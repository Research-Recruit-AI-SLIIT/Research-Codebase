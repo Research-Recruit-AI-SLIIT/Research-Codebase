{
 "cells": [
  {
   "cell_type": "code",
   "execution_count": 1,
   "metadata": {},
   "outputs": [
    {
     "name": "stderr",
     "output_type": "stream",
     "text": [
      "C:\\Users\\USER\\anaconda3\\envs\\research\\lib\\site-packages\\tqdm\\auto.py:22: TqdmWarning: IProgress not found. Please update jupyter and ipywidgets. See https://ipywidgets.readthedocs.io/en/stable/user_install.html\n",
      "  from .autonotebook import tqdm as notebook_tqdm\n"
     ]
    }
   ],
   "source": [
    "from tensorflow.keras.preprocessing.text import Tokenizer\n",
    "from tensorflow.keras.preprocessing.sequence import pad_sequences\n",
    "from tensorflow.keras.models import Sequential\n",
    "from tensorflow.keras.layers import Dense, LSTM, Dropout, Embedding, Bidirectional, Flatten, Input, Lambda, concatenate\n",
    "from tensorflow.keras.models import Model\n",
    "from tensorflow.keras.optimizers import Adam\n",
    "from tensorflow.keras.losses import sparse_categorical_crossentropy\n",
    "from tensorflow.keras.metrics import sparse_categorical_accuracy\n",
    "from tensorflow.keras.callbacks import EarlyStopping\n",
    "from tensorflow.keras.utils import to_categorical\n",
    "import tensorflow as tf\n",
    "import tensorflow_hub as hub\n",
    "import tensorflow_text as text \n",
    "from sklearn.model_selection import train_test_split\n",
    "from transformers import BertTokenizer, TFBertModel, BertConfig\n",
    "import numpy as np\n",
    "import string\n",
    "import pandas as pd\n",
    "import os"
   ]
  },
  {
   "cell_type": "code",
   "execution_count": 2,
   "metadata": {},
   "outputs": [],
   "source": [
    "data = pd.read_csv('../Data/new_ds.csv')"
   ]
  },
  {
   "cell_type": "code",
   "execution_count": 3,
   "metadata": {},
   "outputs": [],
   "source": [
    "model_ans_col = 'Model_Answer'\n",
    "ans_col = 'Answer'\n",
    "label_col = 'Category'"
   ]
  },
  {
   "cell_type": "code",
   "execution_count": 4,
   "metadata": {},
   "outputs": [],
   "source": [
    "def preprocess_data_for_model_training(df, model_ans_col='Model_Answer', ans_col='Answer'):\n",
    "    \"\"\"\n",
    "    Preprocess data\n",
    "    \"\"\"\n",
    "    print(\"Preprocessing data...\")\n",
    "    df[model_ans_col] = data[model_ans_col].apply(lambda x: str(x).lower())\n",
    "    df[ans_col] = data[ans_col].apply(lambda x: str(x).lower())\n",
    "\n",
    "    df[model_ans_col] = df[model_ans_col].apply(lambda x: x.strip())\n",
    "    df[ans_col] = df[ans_col].apply(lambda x: x.strip())\n",
    "\n",
    "    df[model_ans_col] = df[model_ans_col].apply(lambda x: x.translate(str.maketrans('', '', string.punctuation)))\n",
    "    df[ans_col] = df[ans_col].apply(lambda x: x.translate(str.maketrans('', '', string.punctuation)))\n",
    "\n",
    "    print(\"Data preprocessing is done\")\n",
    "    return df\n"
   ]
  },
  {
   "cell_type": "code",
   "execution_count": 5,
   "metadata": {},
   "outputs": [],
   "source": [
    "# split data for deep learning model training and testing\n",
    "X_train, X_test, y_train, y_test = train_test_split(\n",
    "    data[[model_ans_col, ans_col, 'LengthRatio', 'Cosine_Similarity']], data[label_col], test_size=0.2, random_state=176)\n",
    "\n",
    "# convert to one-hot encoding\n",
    "y_train = to_categorical(y_train, num_classes=None)\n",
    "y_test = to_categorical(y_test, num_classes=None)\n"
   ]
  },
  {
   "cell_type": "code",
   "execution_count": 6,
   "metadata": {},
   "outputs": [],
   "source": [
    "text_input = tf.keras.layers.Input(shape=(), dtype=tf.string)\n",
    "preprocessor = hub.KerasLayer(\n",
    "    \"https://tfhub.dev/tensorflow/bert_en_uncased_preprocess/3\")\n",
    "encoder_inputs = preprocessor(text_input)\n",
    "encoder = hub.KerasLayer(\n",
    "    \"https://tfhub.dev/tensorflow/bert_en_uncased_L-12_H-768_A-12/4\",\n",
    "    trainable=False)\n",
    "outputs = encoder(encoder_inputs)\n",
    "pooled_output = outputs[\"pooled_output\"]      # [batch_size, 768].\n",
    "sequence_output = outputs[\"sequence_output\"]  # [batch_size, seq_length, 768]."
   ]
  },
  {
   "cell_type": "code",
   "execution_count": 7,
   "metadata": {},
   "outputs": [],
   "source": [
    "embedding_model = tf.keras.Model(text_input, sequence_output)"
   ]
  },
  {
   "cell_type": "code",
   "execution_count": 8,
   "metadata": {},
   "outputs": [],
   "source": [
    "# Define Input Layers\n",
    "input_model_answer = Input(shape=(1,), dtype=tf.string)\n",
    "input_answer = Input(shape=(1,), dtype=tf.string)\n",
    "input_text_features = Input(shape=(1,) , dtype=tf.float32)"
   ]
  },
  {
   "cell_type": "code",
   "execution_count": 9,
   "metadata": {},
   "outputs": [],
   "source": [
    "embedding_model_answer = embedding_model(input_model_answer)\n",
    "embedding_answer = embedding_model(input_answer)"
   ]
  },
  {
   "cell_type": "code",
   "execution_count": 10,
   "metadata": {},
   "outputs": [],
   "source": [
    "# get the differnce of the embedding vectors\n",
    "diff_model_ans = Lambda(\n",
    "        lambda x: x[0] - x[1])([embedding_model_answer, embedding_answer])"
   ]
  },
  {
   "cell_type": "code",
   "execution_count": 11,
   "metadata": {},
   "outputs": [],
   "source": [
    "# apply the LSTM layer\n",
    "lstm_model_answer = Bidirectional(\n",
    "    LSTM(100, return_sequences=True))(diff_model_ans)\n",
    "\n",
    "lstm_answer = Bidirectional(\n",
    "    LSTM(100, return_sequences=True))(embedding_answer)\n"
   ]
  },
  {
   "cell_type": "code",
   "execution_count": 12,
   "metadata": {},
   "outputs": [],
   "source": [
    "# apply dropout\n",
    "dropout_model_answer = Dropout(0.2)(lstm_model_answer)\n",
    "dropout_answer = Dropout(0.2)(lstm_answer)"
   ]
  },
  {
   "cell_type": "code",
   "execution_count": 13,
   "metadata": {},
   "outputs": [],
   "source": [
    "# apply the Dense layer\n",
    "dense_model_answer = Dense(100, activation='relu')(dropout_model_answer)\n",
    "dense_answer = Dense(100, activation='relu')(dropout_answer)"
   ]
  },
  {
   "cell_type": "code",
   "execution_count": 14,
   "metadata": {},
   "outputs": [],
   "source": [
    "feature_layer = Dense(100, activation='relu')(input_text_features)"
   ]
  },
  {
   "cell_type": "code",
   "execution_count": 15,
   "metadata": {},
   "outputs": [],
   "source": [
    "# concatenate the outputs\n",
    "concatenate_model_answer = concatenate([dense_model_answer, dense_answer])"
   ]
  },
  {
   "cell_type": "code",
   "execution_count": 16,
   "metadata": {},
   "outputs": [],
   "source": [
    "# apply Dense layer\n",
    "dense_model1 = Dense(500, activation='relu')(concatenate_model_answer)\n",
    "\n",
    "# apply dropout\n",
    "dropout_model1 = Dropout(0.2)(dense_model1)"
   ]
  },
  {
   "cell_type": "code",
   "execution_count": 17,
   "metadata": {},
   "outputs": [],
   "source": [
    "# reduce the dimensionality\n",
    "dense_model2 = Dense(250, activation='relu')(dropout_model1)"
   ]
  },
  {
   "cell_type": "code",
   "execution_count": 18,
   "metadata": {},
   "outputs": [],
   "source": [
    "# include Flatten layer\n",
    "flatten_model_answer = Flatten()(dense_model2)"
   ]
  },
  {
   "cell_type": "code",
   "execution_count": 19,
   "metadata": {},
   "outputs": [],
   "source": [
    "concat_layer = concatenate([flatten_model_answer, feature_layer])"
   ]
  },
  {
   "cell_type": "code",
   "execution_count": 20,
   "metadata": {},
   "outputs": [],
   "source": [
    "final_layer = Dense(50, activation='relu')(concat_layer)"
   ]
  },
  {
   "cell_type": "code",
   "execution_count": 21,
   "metadata": {},
   "outputs": [],
   "source": [
    "# apply Dense layer - output layer\n",
    "output_model_answer = Dense(3, activation='softmax')(final_layer)"
   ]
  },
  {
   "cell_type": "code",
   "execution_count": 22,
   "metadata": {},
   "outputs": [],
   "source": [
    "# create the model\n",
    "model = Model(inputs=[input_model_answer, input_answer, input_text_features], outputs=output_model_answer)"
   ]
  },
  {
   "cell_type": "code",
   "execution_count": 23,
   "metadata": {},
   "outputs": [
    {
     "name": "stderr",
     "output_type": "stream",
     "text": [
      "C:\\Users\\USER\\anaconda3\\envs\\research\\lib\\site-packages\\keras\\optimizer_v2\\adam.py:105: UserWarning: The `lr` argument is deprecated, use `learning_rate` instead.\n",
      "  super(Adam, self).__init__(name, **kwargs)\n"
     ]
    }
   ],
   "source": [
    "# compile the model\n",
    "model.compile(loss='categorical_crossentropy',\n",
    "                  optimizer=Adam(lr=0.0001), metrics=['accuracy'])"
   ]
  },
  {
   "cell_type": "code",
   "execution_count": 24,
   "metadata": {},
   "outputs": [],
   "source": [
    "# define class weights according to the number of samples in each class\n",
    "num_samples_class_0 = len(X_train[y_train[:, 0] == 1])\n",
    "num_samples_class_1 = len(X_train[y_train[:, 1] == 1])\n",
    "num_samples_class_2 = len(X_train[y_train[:, 2] == 1])\n",
    "\n",
    "\n",
    "class_weights = {0: num_samples_class_0 / (num_samples_class_0 + num_samples_class_1 + num_samples_class_2),\n",
    "                    1: num_samples_class_1 / (num_samples_class_0 + num_samples_class_1 + num_samples_class_2),                                                     \n",
    "                    2: num_samples_class_2 / (num_samples_class_0 + num_samples_class_1 + num_samples_class_2)}     "
   ]
  },
  {
   "cell_type": "code",
   "execution_count": 25,
   "metadata": {},
   "outputs": [
    {
     "name": "stdout",
     "output_type": "stream",
     "text": [
      "Epoch 1/100\n",
      "662/662 [==============================] - 691s 1s/step - loss: 0.0822 - accuracy: 0.8268 - val_loss: 0.2402 - val_accuracy: 0.9253\n",
      "Epoch 2/100\n",
      "662/662 [==============================] - 684s 1s/step - loss: 0.0296 - accuracy: 0.9315 - val_loss: 0.1129 - val_accuracy: 0.9692\n",
      "Epoch 3/100\n",
      "662/662 [==============================] - 683s 1s/step - loss: 0.0136 - accuracy: 0.9700 - val_loss: 0.0654 - val_accuracy: 0.9820\n",
      "Epoch 4/100\n",
      "662/662 [==============================] - 684s 1s/step - loss: 0.0082 - accuracy: 0.9822 - val_loss: 0.0817 - val_accuracy: 0.9763\n",
      "Epoch 5/100\n",
      "662/662 [==============================] - 940s 1s/step - loss: 0.0080 - accuracy: 0.9839 - val_loss: 0.0800 - val_accuracy: 0.9829\n",
      "Epoch 6/100\n",
      "662/662 [==============================] - 680s 1s/step - loss: 0.0040 - accuracy: 0.9924 - val_loss: 0.1249 - val_accuracy: 0.9624\n",
      "Epoch 7/100\n",
      "662/662 [==============================] - 699s 1s/step - loss: 0.0032 - accuracy: 0.9933 - val_loss: 0.0415 - val_accuracy: 0.9895\n",
      "Epoch 8/100\n",
      "662/662 [==============================] - 683s 1s/step - loss: 0.0067 - accuracy: 0.9862 - val_loss: 0.0332 - val_accuracy: 0.9913\n",
      "Epoch 9/100\n",
      "662/662 [==============================] - 673s 1s/step - loss: 7.1595e-04 - accuracy: 0.9974 - val_loss: 0.0307 - val_accuracy: 0.9914\n",
      "Epoch 10/100\n",
      "662/662 [==============================] - 674s 1s/step - loss: 3.2584e-04 - accuracy: 0.9987 - val_loss: 0.0290 - val_accuracy: 0.9932\n",
      "Epoch 11/100\n",
      "662/662 [==============================] - 698s 1s/step - loss: 2.5101e-04 - accuracy: 0.9989 - val_loss: 0.0334 - val_accuracy: 0.9933\n",
      "Epoch 12/100\n",
      "662/662 [==============================] - 687s 1s/step - loss: 0.0070 - accuracy: 0.9873 - val_loss: 0.0277 - val_accuracy: 0.9927\n",
      "Epoch 13/100\n",
      "662/662 [==============================] - 784s 1s/step - loss: 4.4206e-04 - accuracy: 0.9987 - val_loss: 0.0241 - val_accuracy: 0.9948\n",
      "Epoch 14/100\n",
      "662/662 [==============================] - 4620s 7s/step - loss: 0.0063 - accuracy: 0.9878 - val_loss: 0.0252 - val_accuracy: 0.9941\n",
      "Epoch 15/100\n",
      "662/662 [==============================] - 694s 1s/step - loss: 2.8226e-04 - accuracy: 0.9988 - val_loss: 0.0230 - val_accuracy: 0.9941\n",
      "Epoch 16/100\n",
      "662/662 [==============================] - 678s 1s/step - loss: 2.0327e-04 - accuracy: 0.9991 - val_loss: 0.0223 - val_accuracy: 0.9953\n",
      "Epoch 17/100\n",
      "662/662 [==============================] - 676s 1s/step - loss: 1.5614e-04 - accuracy: 0.9989 - val_loss: 0.0231 - val_accuracy: 0.9945\n",
      "Epoch 18/100\n",
      "662/662 [==============================] - 679s 1s/step - loss: 1.5546e-04 - accuracy: 0.9990 - val_loss: 0.0254 - val_accuracy: 0.9954\n",
      "Epoch 19/100\n",
      "662/662 [==============================] - 685s 1s/step - loss: 0.0069 - accuracy: 0.9869 - val_loss: 0.0835 - val_accuracy: 0.9777\n",
      "Epoch 20/100\n",
      "662/662 [==============================] - 679s 1s/step - loss: 0.0028 - accuracy: 0.9953 - val_loss: 0.0766 - val_accuracy: 0.9840\n",
      "Epoch 21/100\n",
      "662/662 [==============================] - 687s 1s/step - loss: 0.0025 - accuracy: 0.9952 - val_loss: 0.0304 - val_accuracy: 0.9913\n"
     ]
    },
    {
     "data": {
      "text/plain": [
       "<keras.callbacks.History at 0x145a340c670>"
      ]
     },
     "execution_count": 25,
     "metadata": {},
     "output_type": "execute_result"
    }
   ],
   "source": [
    "# fit the model\n",
    "model.fit([X_train[model_ans_col], X_train[ans_col], X_train['LengthRatio']], y_train, epochs=100, batch_size=32,\n",
    "              validation_split=0.3, callbacks=[EarlyStopping(monitor='val_loss', patience=5)], class_weight=class_weights)"
   ]
  },
  {
   "cell_type": "code",
   "execution_count": 26,
   "metadata": {},
   "outputs": [
    {
     "name": "stdout",
     "output_type": "stream",
     "text": [
      "Accuracy: 99.66%\n",
      "Loss: 0.01\n"
     ]
    }
   ],
   "source": [
    "# evaluate the model\n",
    "scores = model.evaluate(\n",
    "        [X_train[model_ans_col], X_train[ans_col], X_train[['LengthRatio']]], y_train, verbose=0)\n",
    "\n",
    "print(\"Accuracy: %.2f%%\" % (scores[1]*100))\n",
    "print(\"Loss: %.2f\" % scores[0])\n"
   ]
  },
  {
   "cell_type": "code",
   "execution_count": 27,
   "metadata": {},
   "outputs": [
    {
     "name": "stdout",
     "output_type": "stream",
     "text": [
      "237/237 [==============================] - 168s 708ms/step - loss: 0.0264 - accuracy: 0.9929\n",
      "Test Accuracy: 99.29%\n"
     ]
    }
   ],
   "source": [
    "print(\"Test Accuracy: %.2f%%\" % (model.evaluate(\n",
    "        [X_test[model_ans_col], X_test[ans_col], np.asarray(X_test[['LengthRatio']]).astype(np.float32)], y_test, verbose=1)[1]*100))"
   ]
  },
  {
   "cell_type": "code",
   "execution_count": 28,
   "metadata": {},
   "outputs": [
    {
     "data": {
      "text/plain": [
       "[<KerasTensor: shape=(None, 1) dtype=string (created by layer 'input_2')>,\n",
       " <KerasTensor: shape=(None, 1) dtype=string (created by layer 'input_3')>,\n",
       " <KerasTensor: shape=(None, 1) dtype=float32 (created by layer 'input_4')>]"
      ]
     },
     "execution_count": 28,
     "metadata": {},
     "output_type": "execute_result"
    }
   ],
   "source": [
    "model.input"
   ]
  },
  {
   "cell_type": "code",
   "execution_count": 29,
   "metadata": {},
   "outputs": [
    {
     "data": {
      "text/plain": [
       "(1, 2)"
      ]
     },
     "execution_count": 29,
     "metadata": {},
     "output_type": "execute_result"
    }
   ],
   "source": [
    "np.asarray(X_test[['LengthRatio', 'Cosine_Similarity']].iloc[0:1]).astype(np.float32).shape"
   ]
  },
  {
   "cell_type": "code",
   "execution_count": 32,
   "metadata": {},
   "outputs": [
    {
     "name": "stdout",
     "output_type": "stream",
     "text": [
      "Category: 1\n"
     ]
    }
   ],
   "source": [
    "model_ans_p = \"\"\n",
    "ans_p = \"OOP is very important in programming\"\n",
    "\n",
    "cosine_similarity_p = 0.912\n",
    "length_ration_p = get_length_ration(model_ans_p, ans_p)\n",
    "\n",
    "testdf = pd.DataFrame(columns=['Model_Answer', 'Answer', 'LengthRatio', 'Cosine_Similarity'])\n",
    "testdf.loc[0] = [model_ans_p, ans_p, length_ration_p, cosine_similarity_p]\n",
    "\n",
    "prediction = model.predict([testdf[model_ans_col].iloc[0:1], testdf[ans_col].iloc[0:1], np.asarray(testdf[['LengthRatio']].iloc[0:1]).astype(np.float32)])\n",
    "print(\"Category:\", np.argmax(prediction))"
   ]
  },
  {
   "cell_type": "code",
   "execution_count": 31,
   "metadata": {},
   "outputs": [],
   "source": [
    "def get_length_ration(model_ans, ans):\n",
    "    return len(ans)/len(model_ans)"
   ]
  },
  {
   "cell_type": "code",
   "execution_count": null,
   "metadata": {},
   "outputs": [],
   "source": [
    "# save the model\n",
    "import datetime\n",
    "isSave = 'y'\n",
    "\n",
    "if isSave == 'y':\n",
    "    model.save('./Models/model' + str(datetime.datetime.now().timestamp().__round__()) + '.h5')\n",
    "    print(\"Model saved\")"
   ]
  }
 ],
 "metadata": {
  "interpreter": {
   "hash": "2a8875a9de9d7ae50992e4bd370660b778ec8ba762c63430b991b7684d493a6c"
  },
  "kernelspec": {
   "display_name": "Python 3.9.12 ('research')",
   "language": "python",
   "name": "python3"
  },
  "language_info": {
   "codemirror_mode": {
    "name": "ipython",
    "version": 3
   },
   "file_extension": ".py",
   "mimetype": "text/x-python",
   "name": "python",
   "nbconvert_exporter": "python",
   "pygments_lexer": "ipython3",
   "version": "3.9.12"
  },
  "orig_nbformat": 4
 },
 "nbformat": 4,
 "nbformat_minor": 2
}
