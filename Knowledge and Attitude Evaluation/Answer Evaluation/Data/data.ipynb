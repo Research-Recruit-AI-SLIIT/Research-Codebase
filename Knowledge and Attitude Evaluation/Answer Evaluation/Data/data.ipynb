{
 "cells": [
  {
   "cell_type": "code",
   "execution_count": 2,
   "metadata": {},
   "outputs": [],
   "source": [
    "import pandas as pd "
   ]
  },
  {
   "cell_type": "code",
   "execution_count": 17,
   "metadata": {},
   "outputs": [],
   "source": [
    "# load questions.csv dataset\n",
    "questions = pd.read_csv('./questions.csv')\n",
    "answers = pd.read_csv('./answerss.csv')"
   ]
  },
  {
   "cell_type": "code",
   "execution_count": 13,
   "metadata": {},
   "outputs": [],
   "source": [
    "# loop through all the records in answers\n",
    "i = 1.1\n",
    "newValue = 1\n",
    "for index, row in answers.iterrows():\n",
    "    qId = row['Question_ID']\n",
    "    if(qId == i):\n",
    "        # update the value of the column\n",
    "        answers.at[index, 'Question_ID'] = newValue\n",
    "    else:\n",
    "        newValue += 1\n",
    "        i = qId\n",
    "        answers.at[index, 'Question_ID'] = newValue"
   ]
  },
  {
   "cell_type": "code",
   "execution_count": 18,
   "metadata": {},
   "outputs": [],
   "source": [
    "#merge the two datasets\n",
    "merged = pd.merge(questions, answers, on='id')"
   ]
  },
  {
   "cell_type": "code",
   "execution_count": 20,
   "metadata": {},
   "outputs": [],
   "source": [
    "merged.to_csv('./merged.csv', index=False)"
   ]
  },
  {
   "cell_type": "code",
   "execution_count": 65,
   "metadata": {},
   "outputs": [
    {
     "name": "stdout",
     "output_type": "stream",
     "text": [
      "     Question_ID                                             Answer\n",
      "0            1.1  High risk problems are address in the prototyp...\n",
      "1            1.1  To simulate portions of the desired final prod...\n",
      "2            1.1  A prototype program simulates the behaviors of...\n",
      "3            1.1  Defined in the Specification phase a prototype...\n",
      "4            1.1  It is used to let the users have a first idea ...\n",
      "...          ...                                                ...\n",
      "2437       12.10                                            log n\\n\n",
      "2438       12.10                           ( n(n-1) ) / 2<br><br>\\n\n",
      "2439       12.10                                             2n-1\\n\n",
      "2440       12.10  it takes at most h steps, where h is the heigh...\n",
      "2441       12.10  it depends on the install search tree then fro...\n",
      "\n",
      "[2442 rows x 2 columns]\n"
     ]
    }
   ],
   "source": [
    "import pandas as pd\n",
    "\n",
    "answers = pd.DataFrame(columns=['Question_ID', 'Answer'])\n",
    "\n",
    "with open('./all.txt', 'r') as f:\n",
    "    for line in f:\n",
    "        # split by space \n",
    "        line = line.split(' ')\n",
    "        # get the id of the question\n",
    "        id = line[0]\n",
    "        # create the sentence from reset of the line\n",
    "        sentence = ' '.join(line[1:])\n",
    "        # create a new row\n",
    "        answers.loc[len(answers)] = [id, sentence]\n",
    "\n",
    "print(answers)"
   ]
  },
  {
   "cell_type": "code",
   "execution_count": 66,
   "metadata": {},
   "outputs": [
    {
     "name": "stdout",
     "output_type": "stream",
     "text": [
      "   Question_ID                                           Question\n",
      "0          1.1  What is the role of a prototype program in pro...\n",
      "1          1.2  What stages in the software life cycle are inf...\n",
      "2          1.3  What are the main advantages associated with o...\n",
      "3          1.4                     Where do C++ programs begin to\n",
      "4          1.5                                          What is a\n",
      "..         ...                                                ...\n",
      "82        12.6                                          What is a\n",
      "83        12.7     What are the main operations associated with a\n",
      "84        12.8              What is the Euler tour traversal of a\n",
      "85        12.9      How do you delete a node from a binary search\n",
      "86       12.10  How many steps does it take to search a node i...\n",
      "\n",
      "[87 rows x 2 columns]\n"
     ]
    }
   ],
   "source": [
    "questions = pd.DataFrame(columns=['Question_ID', 'Question'])\n",
    "\n",
    "with open('./questions', 'r') as f:\n",
    "    for line in f:\n",
    "        # split by space \n",
    "        line = line.split(' ')\n",
    "        # get the id of the question\n",
    "        id = line[0]\n",
    "        # create the sentence from reset of the line\n",
    "        sentence = ' '.join(line[1:-1])\n",
    "        # create a new row\n",
    "        questions.loc[len(questions)] = [id, sentence]\n",
    "\n",
    "print(questions)"
   ]
  },
  {
   "cell_type": "code",
   "execution_count": 67,
   "metadata": {},
   "outputs": [
    {
     "name": "stdout",
     "output_type": "stream",
     "text": [
      "   Question_ID                                       Model_Answer\n",
      "0          1.1  To simulate the behaviour of portions of the d...\n",
      "1          1.2  The testing stage can influence both the codin...\n",
      "2          1.3                                    Abstraction and\n",
      "3          1.4                                        At the main\n",
      "4          1.5              A location in memory that can store a\n",
      "..         ...                                                ...\n",
      "82        12.6  A data structure that stores elements followin...\n",
      "83        12.7                                           push and\n",
      "84        12.8  A walk around the tree, starting with the root...\n",
      "85        12.9  Find the node, then replace it with the leftmo...\n",
      "86       12.10                                  The height of the\n",
      "\n",
      "[87 rows x 2 columns]\n"
     ]
    }
   ],
   "source": [
    "modelAnswer = pd.DataFrame(columns=['Question_ID', 'Model_Answer'])\n",
    "\n",
    "with open('./answers', 'r') as f:\n",
    "    for line in f:\n",
    "        # split by space \n",
    "        line = line.split(' ')\n",
    "        # get the id of the question\n",
    "        id = line[0]\n",
    "        # create the sentence from reset of the line\n",
    "        sentence = ' '.join(line[1:-1])\n",
    "        # create a new row\n",
    "        modelAnswer.loc[len(modelAnswer)] = [id, sentence]\n",
    "\n",
    "print(modelAnswer)"
   ]
  },
  {
   "cell_type": "code",
   "execution_count": 68,
   "metadata": {},
   "outputs": [
    {
     "name": "stdout",
     "output_type": "stream",
     "text": [
      "  Question_ID                                           Question  \\\n",
      "0         1.1  What is the role of a prototype program in pro...   \n",
      "1         1.1  What is the role of a prototype program in pro...   \n",
      "2         1.1  What is the role of a prototype program in pro...   \n",
      "3         1.1  What is the role of a prototype program in pro...   \n",
      "4         1.1  What is the role of a prototype program in pro...   \n",
      "\n",
      "                                        Model_Answer  \\\n",
      "0  To simulate the behaviour of portions of the d...   \n",
      "1  To simulate the behaviour of portions of the d...   \n",
      "2  To simulate the behaviour of portions of the d...   \n",
      "3  To simulate the behaviour of portions of the d...   \n",
      "4  To simulate the behaviour of portions of the d...   \n",
      "\n",
      "                                              Answer  \n",
      "0  High risk problems are address in the prototyp...  \n",
      "1  To simulate portions of the desired final prod...  \n",
      "2  A prototype program simulates the behaviors of...  \n",
      "3  Defined in the Specification phase a prototype...  \n",
      "4  It is used to let the users have a first idea ...  \n"
     ]
    }
   ],
   "source": [
    "# merge the dataFrames \n",
    "merged = pd.merge(questions, modelAnswer, on='Question_ID')\n",
    "merged = pd.merge(merged, answers, on='Question_ID')\n",
    "print(merged.head())"
   ]
  },
  {
   "cell_type": "code",
   "execution_count": 61,
   "metadata": {},
   "outputs": [
    {
     "name": "stdout",
     "output_type": "stream",
     "text": [
      "Question_ID\n",
      "1.1    41\n",
      "1.2    46\n",
      "1.3    60\n",
      "1.4    29\n",
      "1.5    33\n",
      "       ..\n",
      "9.3    40\n",
      "9.4    39\n",
      "9.5    35\n",
      "9.6    29\n",
      "9.7    29\n",
      "Length: 87, dtype: int64\n"
     ]
    }
   ],
   "source": [
    "# num of records with each question id\n",
    "print(merged.groupby('Question_ID').size())"
   ]
  },
  {
   "cell_type": "code",
   "execution_count": 69,
   "metadata": {},
   "outputs": [],
   "source": [
    "#get the unique question_id\n",
    "unique_id = merged['Question_ID'].unique()\n",
    "\n",
    "# add column to the merged dataframe\n",
    "merged['Score'] = 0.0\n",
    "row = 0\n",
    "\n",
    "for id in unique_id:\n",
    "    files += 1\n",
    "    numScores = 0\n",
    "    with open('./scores/' + id + \"/ave\", 'r') as f:\n",
    "        for line in f:\n",
    "            # add the score to the column\n",
    "            # remove non integer values\n",
    "            line = line.replace('\\n', '')\n",
    "            merged.at[row, 'Score'] += float(line)\n",
    "            row += 1\n"
   ]
  },
  {
   "cell_type": "code",
   "execution_count": 70,
   "metadata": {},
   "outputs": [],
   "source": [
    "merged.to_csv('./merged.csv', index=False)"
   ]
  }
 ],
 "metadata": {
  "interpreter": {
   "hash": "42588fd11209419b7c81abe23e31a1d2101f60811b02170c268e57ebb57d5d9a"
  },
  "kernelspec": {
   "display_name": "Python 3.9.7 ('base')",
   "language": "python",
   "name": "python3"
  },
  "language_info": {
   "codemirror_mode": {
    "name": "ipython",
    "version": 3
   },
   "file_extension": ".py",
   "mimetype": "text/x-python",
   "name": "python",
   "nbconvert_exporter": "python",
   "pygments_lexer": "ipython3",
   "version": "3.9.7"
  },
  "orig_nbformat": 4
 },
 "nbformat": 4,
 "nbformat_minor": 2
}
