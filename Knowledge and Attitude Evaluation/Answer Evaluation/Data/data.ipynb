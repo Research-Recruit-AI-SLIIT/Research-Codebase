{
 "cells": [
  {
   "cell_type": "code",
   "execution_count": null,
   "metadata": {},
   "outputs": [],
   "source": [
    "import pandas as pd "
   ]
  },
  {
   "cell_type": "code",
   "execution_count": null,
   "metadata": {},
   "outputs": [],
   "source": [
    "# load questions.csv dataset\n",
    "questions = pd.read_csv('./questions.csv')\n",
    "answers = pd.read_csv('./answerss.csv')"
   ]
  },
  {
   "cell_type": "code",
   "execution_count": null,
   "metadata": {},
   "outputs": [],
   "source": [
    "# loop through all the records in answers\n",
    "i = 1.1\n",
    "newValue = 1\n",
    "for index, row in answers.iterrows():\n",
    "    qId = row['Question_ID']\n",
    "    if(qId == i):\n",
    "        # update the value of the column\n",
    "        answers.at[index, 'Question_ID'] = newValue\n",
    "    else:\n",
    "        newValue += 1\n",
    "        i = qId\n",
    "        answers.at[index, 'Question_ID'] = newValue"
   ]
  },
  {
   "cell_type": "code",
   "execution_count": null,
   "metadata": {},
   "outputs": [],
   "source": [
    "#merge the two datasets\n",
    "merged = pd.merge(questions, answers, on='id')"
   ]
  },
  {
   "cell_type": "code",
   "execution_count": null,
   "metadata": {},
   "outputs": [],
   "source": [
    "merged.to_csv('./merged.csv', index=False)"
   ]
  },
  {
   "cell_type": "code",
   "execution_count": 22,
   "metadata": {},
   "outputs": [
    {
     "name": "stdout",
     "output_type": "stream",
     "text": [
      "     Question_ID                                             Answer\n",
      "0            1.1  High risk problems are address in the prototyp...\n",
      "1            1.1  To simulate portions of the desired final prod...\n",
      "2            1.1  A prototype program simulates the behaviors of...\n",
      "3            1.1  Defined in the Specification phase a prototype...\n",
      "4            1.1  It is used to let the users have a first idea ...\n",
      "...          ...                                                ...\n",
      "2437       12.10                                            log n\\n\n",
      "2438       12.10                           ( n(n-1) ) / 2<br><br>\\n\n",
      "2439       12.10                                             2n-1\\n\n",
      "2440       12.10  it takes at most h steps, where h is the heigh...\n",
      "2441       12.10  it depends on the install search tree then fro...\n",
      "\n",
      "[2442 rows x 2 columns]\n"
     ]
    }
   ],
   "source": [
    "import pandas as pd\n",
    "\n",
    "answers = pd.DataFrame(columns=['Question_ID', 'Answer'])\n",
    "\n",
    "with open('./all', 'r', encoding=\"ISO-8859-1\") as f:\n",
    "    for line in f:\n",
    "        # split by space \n",
    "        line = line.split(' ')\n",
    "        # get the id of the question\n",
    "        id = line[0]\n",
    "        # create the sentence from reset of the line\n",
    "        sentence = ' '.join(line[1:])\n",
    "        # create a new row\n",
    "        answers.loc[len(answers)] = [id, sentence]\n",
    "\n",
    "print(answers)"
   ]
  },
  {
   "cell_type": "code",
   "execution_count": 23,
   "metadata": {},
   "outputs": [
    {
     "name": "stdout",
     "output_type": "stream",
     "text": [
      "   Question_ID                                           Question\n",
      "0          1.1  What is the role of a prototype program in pro...\n",
      "1          1.2  What stages in the software life cycle are inf...\n",
      "2          1.3  What are the main advantages associated with o...\n",
      "3          1.4          Where do C++ programs begin to execute?\\n\n",
      "4          1.5                              What is a variable?\\n\n",
      "..         ...                                                ...\n",
      "82        12.6                                 What is a queue?\\n\n",
      "83        12.7  What are the main operations associated with a...\n",
      "84        12.8      What is the Euler tour traversal of a tree?\\n\n",
      "85        12.9  How do you delete a node from a binary search ...\n",
      "86       12.10  How many steps does it take to search a node i...\n",
      "\n",
      "[87 rows x 2 columns]\n"
     ]
    }
   ],
   "source": [
    "questions = pd.DataFrame(columns=['Question_ID', 'Question'])\n",
    "\n",
    "with open('./questions', 'r', encoding=\"ISO-8859-1\") as f:\n",
    "    for line in f:\n",
    "        # split by space \n",
    "        line = line.split(' ')\n",
    "        # get the id of the question\n",
    "        id = line[0]\n",
    "        # create the sentence from reset of the line\n",
    "        sentence = ' '.join(line[1:])\n",
    "        # create a new row\n",
    "        questions.loc[len(questions)] = [id, sentence]\n",
    "\n",
    "print(questions)"
   ]
  },
  {
   "cell_type": "code",
   "execution_count": 24,
   "metadata": {},
   "outputs": [
    {
     "name": "stdout",
     "output_type": "stream",
     "text": [
      "   Question_ID                                       Model_Answer\n",
      "0          1.1  To simulate the behaviour of portions of the d...\n",
      "1          1.2  The testing stage can influence both the codin...\n",
      "2          1.3                     Abstraction and reusability.\\n\n",
      "3          1.4                            At the main function.\\n\n",
      "4          1.5     A location in memory that can store a value.\\n\n",
      "..         ...                                                ...\n",
      "82        12.6  A data structure that stores elements followin...\n",
      "83        12.7                                     push and pop\\n\n",
      "84        12.8  A walk around the tree, starting with the root...\n",
      "85        12.9  Find the node, then replace it with the leftmo...\n",
      "86       12.10                          The height of the tree.\\n\n",
      "\n",
      "[87 rows x 2 columns]\n"
     ]
    }
   ],
   "source": [
    "modelAnswer = pd.DataFrame(columns=['Question_ID', 'Model_Answer'])\n",
    "\n",
    "with open('./answers', 'r', encoding=\"ISO-8859-1\") as f:\n",
    "    for line in f:\n",
    "        # split by space \n",
    "        line = line.split(' ')\n",
    "        # get the id of the question\n",
    "        id = line[0]\n",
    "        # create the sentence from reset of the line\n",
    "        sentence = ' '.join(line[1:])\n",
    "        # create a new row\n",
    "        modelAnswer.loc[len(modelAnswer)] = [id, sentence]\n",
    "\n",
    "print(modelAnswer)"
   ]
  },
  {
   "cell_type": "code",
   "execution_count": 25,
   "metadata": {},
   "outputs": [
    {
     "name": "stdout",
     "output_type": "stream",
     "text": [
      "  Question_ID                                           Question  \\\n",
      "0         1.1  What is the role of a prototype program in pro...   \n",
      "1         1.1  What is the role of a prototype program in pro...   \n",
      "2         1.1  What is the role of a prototype program in pro...   \n",
      "3         1.1  What is the role of a prototype program in pro...   \n",
      "4         1.1  What is the role of a prototype program in pro...   \n",
      "\n",
      "                                        Model_Answer  \\\n",
      "0  To simulate the behaviour of portions of the d...   \n",
      "1  To simulate the behaviour of portions of the d...   \n",
      "2  To simulate the behaviour of portions of the d...   \n",
      "3  To simulate the behaviour of portions of the d...   \n",
      "4  To simulate the behaviour of portions of the d...   \n",
      "\n",
      "                                              Answer  \n",
      "0  High risk problems are address in the prototyp...  \n",
      "1  To simulate portions of the desired final prod...  \n",
      "2  A prototype program simulates the behaviors of...  \n",
      "3  Defined in the Specification phase a prototype...  \n",
      "4  It is used to let the users have a first idea ...  \n"
     ]
    }
   ],
   "source": [
    "# merge the dataFrames \n",
    "merged = pd.merge(questions, modelAnswer, on='Question_ID')\n",
    "merged = pd.merge(merged, answers, on='Question_ID')\n",
    "print(merged.head())"
   ]
  },
  {
   "cell_type": "code",
   "execution_count": 17,
   "metadata": {},
   "outputs": [
    {
     "name": "stdout",
     "output_type": "stream",
     "text": [
      "Question_ID\n",
      "1.1    29\n",
      "1.2    29\n",
      "1.3    29\n",
      "1.4    29\n",
      "1.5    29\n",
      "       ..\n",
      "9.3    27\n",
      "9.4    27\n",
      "9.5    27\n",
      "9.6    27\n",
      "9.7    27\n",
      "Length: 87, dtype: int64\n"
     ]
    }
   ],
   "source": [
    "# num of records with each question id\n",
    "print(merged.groupby('Question_ID').size())"
   ]
  },
  {
   "cell_type": "code",
   "execution_count": 27,
   "metadata": {},
   "outputs": [],
   "source": [
    "#get the unique question_id\n",
    "unique_id = merged['Question_ID'].unique()\n",
    "\n",
    "# add column to the merged dataframe\n",
    "merged['Score'] = 0.0\n",
    "row = 0\n",
    "\n",
    "for id in unique_id:\n",
    "    numScores = 0\n",
    "    with open('./scores/' + id + \"/ave\", 'r') as f:\n",
    "        for line in f:\n",
    "            # add the score to the column\n",
    "            # remove non integer values\n",
    "            line = line.replace('\\n', '')\n",
    "            merged.at[row, 'Score'] += float(line)\n",
    "            row += 1\n"
   ]
  },
  {
   "cell_type": "code",
   "execution_count": 33,
   "metadata": {},
   "outputs": [
    {
     "name": "stdout",
     "output_type": "stream",
     "text": [
      "(2442, 5)\n"
     ]
    }
   ],
   "source": [
    "print(merged.shape)"
   ]
  },
  {
   "cell_type": "code",
   "execution_count": 32,
   "metadata": {},
   "outputs": [],
   "source": [
    "#drop if any NaN values\n",
    "merged = merged.dropna()"
   ]
  },
  {
   "cell_type": "code",
   "execution_count": 23,
   "metadata": {},
   "outputs": [],
   "source": [
    "data.to_csv('./merged.csv', index=False)"
   ]
  },
  {
   "cell_type": "code",
   "execution_count": 1,
   "metadata": {},
   "outputs": [],
   "source": [
    "import pandas as pd"
   ]
  },
  {
   "cell_type": "code",
   "execution_count": 34,
   "metadata": {},
   "outputs": [],
   "source": [
    "data = pd.read_csv('./merged.csv')"
   ]
  },
  {
   "cell_type": "code",
   "execution_count": 22,
   "metadata": {},
   "outputs": [],
   "source": [
    "# Categorize data according to the score\n",
    "# if socre <= 2 then it is bad\n",
    "# if score > 2 and score <= 3.5 then it is ok\n",
    "# else good\n",
    "data['Category'] = 0\n",
    "data.loc[data['Score'] > 2, 'Category'] = 1\n",
    "data.loc[data['Score'] > 3.5, 'Category'] = 2\n"
   ]
  },
  {
   "cell_type": "code",
   "execution_count": 6,
   "metadata": {},
   "outputs": [],
   "source": [
    "data['LengthRatio'] = data['Answer'].apply(len) / data['Model_Answer'].apply(len)"
   ]
  },
  {
   "cell_type": "code",
   "execution_count": 37,
   "metadata": {},
   "outputs": [],
   "source": [
    "import numpy as np\n",
    "\n",
    "#cast string to numpy array\n",
    "data['Answer_Embedding'] = np.array(data['Answer_Embedding'])"
   ]
  },
  {
   "cell_type": "code",
   "execution_count": null,
   "metadata": {},
   "outputs": [],
   "source": [
    "# define a colun word_embeddings which has numpy array\n",
    "data['Word_Embeddings'] = [np.zeros(300) for i in range(len(data))]"
   ]
  },
  {
   "cell_type": "code",
   "execution_count": 38,
   "metadata": {},
   "outputs": [
    {
     "data": {
      "text/plain": [
       "'[ 2.45764181e-01  3.74277160e-02  1.37753510e+00  1.88031822e-01\\n  4.37010080e-01 -3.81419957e-01  3.26232076e-01 -3.59086692e-01\\n  8.63410294e-01 -9.43328261e-01  1.35742515e-01  1.59671217e-01\\n  4.70152080e-01  3.31531733e-01 -9.97451186e-01 -2.48287901e-01\\n -1.13625750e-01 -6.07623696e-01  1.98806897e-01 -8.45184922e-02\\n -5.38330317e-01 -4.27915990e-01  1.46040320e-01 -4.09013033e-02\\n  1.85132280e-01  1.14993714e-01 -4.32976395e-01  3.71872008e-01\\n -1.19500067e-02  4.59286839e-01 -3.13184798e-01 -5.82070835e-02\\n -3.63786012e-01 -5.67544222e-01 -1.04238725e+00  7.77788818e-01\\n  1.02068770e+00  4.69774723e-01  7.23718107e-02  2.82218933e-01\\n -5.32838285e-01 -4.67798412e-01  8.38011980e-01  1.49164334e-01\\n -1.08754063e+00 -8.58076215e-01 -3.00603330e-01  1.83647364e-01\\n  1.88644439e-01 -2.08400562e-01 -3.63305151e-01  8.24637055e-01\\n -3.29104245e-01  2.38555908e-01 -4.13962185e-01  4.17726249e-01\\n  4.38357949e-01 -1.88133645e+00 -5.54033160e-01  2.54872203e-01\\n -7.41605043e-01  2.92534888e-01  6.19579613e-01  1.99520528e-01\\n  3.13981146e-01 -3.48316692e-02  4.78818417e-01 -6.50186181e-01\\n -4.51207876e-01 -7.36288071e-01 -5.10779247e-02 -3.56403440e-01\\n -5.24954617e-01  1.65759116e-01 -6.62989438e-01 -1.39345124e-01\\n  1.26467094e-01  7.36706376e-01  7.96780407e-01  6.06798470e-01\\n  1.24013662e-01  1.14464834e-01  4.27851379e-01  7.22498894e-02\\n  8.03004861e-01  3.45518067e-02  8.61225307e-01  3.06555599e-01\\n -9.91794705e-01  4.73113865e-01  3.69274467e-01 -5.91257066e-02\\n  6.84083223e-01 -2.52399862e-01  3.27139385e-02 -1.47457927e-01\\n -2.40815923e-01 -1.83346257e-01 -1.71107873e-02  3.18024755e-01\\n -1.80723533e-01 -3.67196620e-01 -4.81349468e-01 -3.78811121e-01\\n  2.46077195e-01  3.62152070e-01  2.39614159e-01 -7.64070094e-01\\n -8.12530935e-01  3.25456709e-01  2.12147653e-01  1.21751785e-01\\n  1.19001590e-01  1.14041314e-01 -6.60711110e-01  5.02578139e-01\\n -1.14450157e+00  1.21229254e-01  7.91087627e-01  3.28288585e-01\\n  4.56278957e-02  5.19529760e-01 -6.89574003e-01 -3.47347140e-01\\n  9.94805276e-01  3.04623961e-01  7.21285045e-01  1.27013409e+00\\n -1.82926640e-01 -1.21074878e-02  1.19757146e-01  4.78966027e-01\\n  7.06743538e-01 -1.05339813e+00 -3.89961720e-01  6.15311146e-01\\n -2.57253170e-01 -6.55111432e-01 -6.28771305e-01  8.96772861e-01\\n -6.60017878e-02 -1.62166446e-01  1.16069770e+00 -6.88031554e-01\\n -2.89775789e-01 -4.91469085e-01  2.12728769e-01 -1.33237571e-01\\n -7.34516203e-01  3.93724918e-01 -7.97267675e-01  3.83912027e-01\\n -1.60682058e+00 -5.11318564e-01 -7.11642355e-02  6.07104152e-02\\n -2.01078728e-01  1.84678227e-01 -4.94005978e-01  4.89323139e-01\\n -1.52894780e-01  1.12565589e+00 -2.63758898e-01  3.02166015e-01\\n -1.61792580e-02 -5.60858130e-01  7.93131113e-01 -5.78125417e-01\\n  1.95055038e-01 -7.32555464e-02  9.45055246e-01 -1.48493975e-01\\n  5.60476780e-01  2.18419299e-01  1.48250747e+00 -8.25965524e-01\\n  6.76963568e-01 -3.15484613e-01 -8.28913450e-02 -8.28225374e-01\\n -1.08856946e-01 -1.72439694e-01 -7.09559023e-01  1.43972337e-01\\n -1.28832567e+00 -1.24663258e+00 -7.04514235e-02 -2.77265251e-01\\n  1.75208658e-01 -6.87284470e-01 -2.14160934e-01  2.99708784e-01\\n -7.12460130e-02 -9.01453733e-01  1.92071602e-01  3.35725576e-01\\n -1.23977423e-01  1.56367922e+00 -6.74417853e-01  7.35732913e-01\\n  4.83717799e-01 -4.46446896e-01  2.13933736e-01 -1.64893717e-01\\n  2.51475610e-02  3.53976995e-01  4.53010350e-01  1.34389296e-01\\n -1.03305817e+00 -1.15637946e+00 -2.15920553e-01  1.05877399e+00\\n  4.73429441e-01 -2.35505641e-01  4.45592135e-01 -5.97540617e-01\\n  3.92222703e-01  8.43317211e-02  7.11176991e-01  2.22085401e-01\\n  1.71021914e+00  6.83982670e-03  4.32341039e-01  7.42971897e-01\\n -1.67941257e-01  2.51764745e-01  1.41592219e-01 -5.74808300e-01\\n  6.22830749e-01  9.54925656e-01  3.77303004e-01  1.89890042e-01\\n -9.68641564e-02 -3.96130800e-01  7.07235485e-02 -4.18497384e-01\\n -1.30280268e+00  7.00410455e-02  6.73085093e-01 -1.15476683e-01\\n  4.42071885e-01  1.56277847e+00 -1.02043524e-01  2.95477748e-01\\n -3.57030004e-01 -8.66846800e-01  2.48288289e-01  4.30617273e-01\\n -4.88218397e-01  4.11435127e-01 -1.07712865e+00 -4.91550624e-01\\n -1.16106749e-01 -8.17724943e-01 -6.00780964e-01 -4.18634079e-02\\n -6.10818088e-01 -4.85310525e-01 -9.87789035e-01 -2.27673560e-01\\n  1.01024784e-01 -1.32885724e-02 -1.09964311e+00  1.52786314e-01\\n -6.32161796e-02 -5.88394046e-01 -4.27119792e-01  1.20285198e-01\\n -1.96399823e-01  2.48063982e-01 -2.39130497e-01 -2.07482904e-01\\n -2.15194419e-01 -1.02144733e-01  5.38185596e-01 -4.62050319e-01\\n  5.64155757e-01  5.54678664e-02 -1.17305759e-02  6.53243005e-01\\n -4.30604309e-01  5.03506422e-01 -1.35190010e+00  4.37094085e-02\\n  6.08226359e-01  1.20639563e-01  2.63058394e-01 -1.61712795e-01\\n -4.32606518e-01 -7.91915134e-02 -2.13290974e-01 -1.45176932e-01\\n -6.19154632e-01 -3.35186809e-01  1.16575122e+00 -3.90566230e-01\\n  4.82896477e-01 -3.16093266e-02 -3.86237577e-02 -3.87234449e-01\\n -1.22468770e+00  2.88184762e-01 -6.66863322e-01  1.14573434e-01\\n  3.57305288e-01 -6.89245239e-02  1.68978125e-01 -1.61600262e-01\\n -3.48775208e-01 -8.99389386e-01  3.81161332e-01 -7.85665035e-01\\n -2.05222860e-01  3.01213861e-01 -4.82851803e-01  2.04975039e-01\\n  3.75740111e-01 -6.88769966e-02  6.64661050e-01 -1.95252329e-01\\n -2.46091142e-01  7.14911968e-02  2.86583722e-01  7.57213235e-01\\n  2.50867456e-01  8.00450087e-01  4.84598964e-01  3.49066645e-01\\n -1.15038082e-01  2.79935896e-01  1.39245957e-01 -1.67847499e-01\\n -3.95995021e-01  6.54171467e-01 -8.56781542e-01  1.23064160e+00\\n -8.74583125e-01 -2.09601834e-01  5.86892962e-01  1.32450938e-01\\n -6.65996224e-04  1.59995854e-01 -4.08546150e-01  2.43707746e-01\\n  1.39545083e-01 -3.39092314e-01 -2.88077027e-01 -3.18653822e-01\\n -5.34418941e-01  4.46159422e-01  7.61350036e-01 -3.53753805e-01\\n  2.25286230e-01 -4.91892397e-02 -6.25990331e-01  6.55158088e-02\\n  3.71302813e-01  5.51365376e-01 -1.83166370e-01  1.62013769e-02\\n  7.06376076e-01  5.37350237e-01 -1.07066500e+00 -2.66242534e-01\\n  7.51237571e-01 -8.82535696e-01 -2.46829614e-01  3.22772175e-01\\n  1.58457190e-01  6.62229061e-02 -2.26641923e-01 -7.44663537e-01\\n  2.33612821e-01 -2.68994570e-01 -6.42877936e-01 -3.39812309e-01\\n -7.58446574e-01 -8.12702298e-01  2.76210487e-01  4.93736193e-02\\n -8.90076160e-02 -4.44059134e-01  1.67503953e-02 -6.03586078e-01\\n  2.36429855e-01 -1.68273911e-01  5.07018805e-01  6.18487895e-01\\n -6.02171458e-02  1.41665135e-02  3.80623549e-01 -1.23647660e-01\\n  5.19215822e-01 -1.38590429e-02  1.69355094e-01 -6.53971314e-01\\n -5.98797977e-01  4.36804116e-01  3.14909726e-01 -5.07791638e-01\\n  2.10478485e-01  3.32175970e-01  9.03672516e-01  2.21026659e-01\\n  2.55001694e-01  2.58150160e-01  7.65753865e-01 -3.17920387e-01\\n -6.74917459e-01 -8.92764747e-01 -5.21613121e-01  4.39664274e-02\\n  3.50766063e-01  4.70993876e-01 -2.52702653e-01 -2.43035674e-01\\n  5.52886486e-01 -1.53892708e+00  3.26481640e-01  2.69347757e-01\\n -1.72276497e-01 -5.33960581e-01 -4.47784483e-01  2.21829191e-01\\n -2.21611738e-01  9.78770137e-01  4.06707704e-01 -4.84465629e-01\\n -7.16136098e-01 -5.47285855e-01 -2.60190189e-01  3.21560353e-01\\n -1.07557511e+00  3.05952430e-01  2.84523666e-01  5.12778223e-01\\n  5.95875561e-01  5.58533132e-01  6.93977714e-01  2.62342513e-01\\n -9.90447998e-02 -4.68673170e-01  2.13540643e-01  3.94018441e-01\\n  2.07063124e-01  5.71267605e-01 -1.02395520e-01  1.42491296e-01\\n  5.43834083e-02  2.48385429e-01  5.77211261e-01 -2.15457520e-03\\n -2.82873690e-01  1.05725542e-01 -7.98686892e-02  1.43188381e+00\\n -3.08327287e-01 -2.46409357e-01 -2.97099322e-01 -3.19430530e-01\\n -3.60049367e-01 -9.61882249e-02 -9.92008299e-02 -3.79304588e-01\\n  9.91851091e-01  6.51718974e-01 -4.53380823e-01 -2.88511097e-01\\n  2.33945563e-01  7.31544375e-01 -7.19731599e-02  4.09935117e-02\\n -1.74491167e-01  3.71754438e-01  6.08295798e-01 -5.62002778e-01\\n -9.32261586e-01  7.88436711e-01  1.38812676e-01 -5.67318022e-01\\n  2.47786000e-01 -1.21297196e-01  8.70109349e-02 -5.29745221e-02\\n -1.73798963e-01 -3.79363298e-01 -1.45538226e-01  2.52494425e-01\\n  2.83083320e-01 -3.96189570e-01  5.35857528e-02  2.27999210e-01\\n -1.30472553e+00 -5.41921735e-01 -6.63528442e-02 -1.15119886e+00\\n -5.76935887e-01  6.15953878e-02  2.62944773e-02  7.82139659e-01\\n  1.24455467e-01  9.67508435e-01  3.13588321e-01  3.64392877e-01\\n  2.26397842e-01  2.14877218e-01 -1.10232145e-01 -7.22949982e-01\\n -5.93456998e-02  1.83660001e-01 -2.10737437e-01  4.66599107e-01\\n  7.50137925e-01  3.75093520e-03 -6.49485886e-02  3.14018846e-01\\n -3.18456978e-01 -6.28784746e-02 -3.90053928e-01 -2.74611294e-01\\n -1.36422157e-01 -2.87966281e-01  3.64368409e-01 -1.61216402e+00\\n  2.63663918e-01  4.15261537e-01  7.36501038e-01  4.12468046e-01\\n  5.28000832e-01  1.70714259e-01  5.82633018e-01  5.99500299e-01\\n -4.83582675e-01 -3.61061215e-01 -1.66898832e-01  2.70591140e-01\\n -1.65023103e-01 -3.34702671e-01  4.81549323e-01 -3.14310491e-01\\n  4.56849664e-01  6.10844791e-03 -2.23507941e-01 -4.07051265e-01\\n -1.42241168e+00 -3.83917481e-01  2.48319492e-01 -3.21826786e-01\\n -8.38780761e-01 -4.74368960e-01 -4.23393458e-01 -3.07312682e-02\\n -4.33655679e-02 -3.68245155e-01 -9.08135772e-01 -7.35788941e-02\\n -7.86939859e-01  5.29704034e-01  9.33474451e-02  2.68118501e-01\\n  4.24630642e-02  6.71323121e-01 -2.41514653e-01  7.02786565e-01\\n -3.23618621e-01 -8.95152986e-01 -3.63806039e-01  2.10374862e-01\\n -1.20324440e-01  1.64562404e-01 -2.49971971e-01 -7.12543845e-01\\n  5.32350183e-01  7.72105098e-01 -4.79190946e-01 -6.48437679e-01\\n -5.34468055e-01 -9.01956797e-01 -5.37853062e-01  2.79675364e-01\\n  6.20799541e-01  6.77238464e-01 -3.59676361e-01  2.02963397e-01\\n -1.83112323e-02 -2.02449635e-01 -3.91084075e-01  4.52870727e-01\\n  2.47343630e-03 -4.76481318e-01  6.64812803e-01 -2.68576115e-01\\n  2.57047176e-01  3.89151335e-01  3.09157014e-01 -1.40013367e-01\\n  6.09351039e-01  7.62830079e-02  4.73594487e-01  2.17123523e-01\\n -1.04471266e-01 -3.74368012e-01 -7.09337473e-01  2.20801681e-01\\n -6.22434020e-01  1.21597737e-01  5.38433641e-02  1.21455878e-01\\n -2.42236018e-01  7.08729863e-01  3.48132670e-01 -6.74204826e-01\\n  1.93128332e-01  8.21606889e-02 -1.85602810e-02 -8.63912344e-01\\n -6.48097754e-01 -7.44115859e-02 -2.31744498e-02  1.59888156e-02\\n  4.14842337e-01  3.79684091e-01 -4.59037602e-01  3.49314332e-01\\n  4.43521291e-02 -1.19854414e+00 -1.49371941e-02  1.08806647e-01\\n -2.93953508e-01  1.48139074e-01  1.10193563e+00  4.64722812e-01\\n  2.46577382e-01 -4.43000615e-01  2.29082838e-01  4.59380209e-01\\n -1.02151334e+00  1.60798654e-01  3.51428926e-01 -3.45144808e-01\\n -4.69028056e-01  8.88613582e-01 -5.33313900e-02  5.68323731e-01\\n -3.43253016e-01  3.83729756e-01  2.51805037e-01  6.83755159e-01\\n  5.89946806e-01  3.32375139e-01  3.57987821e-01  2.56686658e-02\\n  1.41889825e-01  8.95780474e-02  4.17646050e-01 -5.16355157e-01\\n -5.12908101e-01  3.82415831e-01 -3.83573696e-02  3.61169279e-02\\n  1.62429586e-01  5.54104224e-02  5.47409415e-01 -2.14906797e-01\\n  1.13965273e+00  5.74010134e-01  2.17050135e-01  2.26820648e-01\\n  4.66478676e-01 -6.52384043e-01  5.83260715e-01 -3.25436950e-01\\n -9.34438527e-01 -1.62415594e-01  8.37677360e-01 -2.45390385e-01\\n  1.45130575e+00 -1.99718803e-01 -6.70263529e-01 -6.68267965e-01\\n -1.05774626e-01 -1.41390860e-01 -1.02063760e-01 -2.31714994e-01\\n  3.36812675e-01  1.60157591e-01 -6.80741072e-01 -4.48864162e-01\\n  7.44913340e-01  6.40561819e-01  1.58706129e-01 -1.61901549e-01\\n -8.53678823e-01 -5.88589668e-01 -1.87587902e-01 -3.26930851e-01\\n -8.28927875e-01  1.75175756e-01 -2.73831308e-01 -5.82976341e-01\\n  2.45729059e-01  7.40056694e-01 -6.10705197e-01 -9.36469853e-01\\n -4.02061164e-01 -5.51809311e-01 -1.43835694e-01  6.57078922e-01\\n  4.53742743e-02 -7.04161882e-01  1.92540467e-01  8.01595867e-01\\n  5.78005791e-01  1.66528746e-02 -3.77874523e-01  8.00458372e-01\\n -4.71087784e-01 -4.93322223e-01  3.95044446e-01  3.32705796e-01\\n  5.31112030e-02  1.62329957e-01 -5.93922436e-01 -3.57639849e-01\\n  5.43452024e-01  1.89989895e-01  6.59769535e-01  1.14878699e-01\\n  2.48607248e-02 -8.69281173e-01  9.01508331e-01  5.33526018e-03\\n -4.24229354e-01  3.69910747e-01  2.84725487e-01  6.68753326e-01\\n -3.52714896e-01 -4.51291531e-01  3.04044187e-02 -4.38724607e-01\\n  1.47368703e-02  1.06240964e+00 -6.99640512e-01 -6.07281744e-01\\n  1.18218437e-01 -2.71403998e-01  2.10265011e-01 -4.25729990e-01\\n  2.33014226e-01  1.56561881e-01  8.87338400e-01 -4.90693480e-01\\n  1.27259851e-01  4.30007249e-01 -4.86164689e-01  2.43016243e-01\\n -1.14900088e+00 -9.13762599e-02 -3.89051586e-02 -3.34997892e-01\\n -1.58359900e-01 -1.20430577e+00 -1.00740063e+00 -4.14300978e-01\\n -4.22495931e-01 -1.21277034e+00 -1.60713828e+00  9.02213007e-02]'"
      ]
     },
     "execution_count": 38,
     "metadata": {},
     "output_type": "execute_result"
    }
   ],
   "source": [
    "data['Answer_Embedding'][0]"
   ]
  }
 ],
 "metadata": {
  "interpreter": {
   "hash": "42588fd11209419b7c81abe23e31a1d2101f60811b02170c268e57ebb57d5d9a"
  },
  "kernelspec": {
   "display_name": "Python 3.9.7 ('base')",
   "language": "python",
   "name": "python3"
  },
  "language_info": {
   "codemirror_mode": {
    "name": "ipython",
    "version": 3
   },
   "file_extension": ".py",
   "mimetype": "text/x-python",
   "name": "python",
   "nbconvert_exporter": "python",
   "pygments_lexer": "ipython3",
   "version": "3.9.7"
  },
  "orig_nbformat": 4
 },
 "nbformat": 4,
 "nbformat_minor": 2
}
