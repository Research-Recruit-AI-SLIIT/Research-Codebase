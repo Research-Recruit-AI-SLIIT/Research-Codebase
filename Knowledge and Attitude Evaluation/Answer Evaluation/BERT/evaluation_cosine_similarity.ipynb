{
 "cells": [
  {
   "cell_type": "code",
   "execution_count": 1,
   "metadata": {},
   "outputs": [],
   "source": [
    "import nltk\n",
    "from nltk.corpus import stopwords\n",
    "from nltk.tokenize import word_tokenize\n",
    "from nltk.stem import PorterStemmer\n",
    "from nltk.stem import WordNetLemmatizer\n",
    "from nltk.corpus import wordnet as wn\n",
    "from nltk.corpus import wordnet_ic\n",
    "from nltk.corpus import sentiwordnet as swn\n",
    "from nltk.corpus import opinion_lexicon"
   ]
  },
  {
   "cell_type": "code",
   "execution_count": 2,
   "metadata": {},
   "outputs": [],
   "source": [
    "text1 = \"The movie was terrible. The acting was awful. I would never watch a movie by that director again.\"\n",
    "text2 = \"The movie was okay. The acting was decent. I would watch a movie by that director again.\""
   ]
  },
  {
   "cell_type": "code",
   "execution_count": null,
   "metadata": {},
   "outputs": [],
   "source": [
    "nltk.download('stopwords')\n",
    "nltk.download('punkt')\n",
    "nltk.download('wordnet')\n",
    "nltk.download('wordnet_ic')\n",
    "nltk.download('sentiwordnet')\n",
    "nltk.download('opinion_lexicon')"
   ]
  },
  {
   "cell_type": "code",
   "execution_count": 14,
   "metadata": {},
   "outputs": [
    {
     "name": "stdout",
     "output_type": "stream",
     "text": [
      "terribl\n",
      "terrible\n"
     ]
    }
   ],
   "source": [
    "ps = PorterStemmer()\n",
    "lemmatizer = WordNetLemmatizer()\n",
    "\n",
    "print(ps.stem('terrible'))\n",
    "print(lemmatizer.lemmatize('terrible'))"
   ]
  },
  {
   "cell_type": "code",
   "execution_count": 15,
   "metadata": {},
   "outputs": [],
   "source": [
    "#text preprocess\n",
    "def text_preprocess(text):\n",
    "    stop_words = set(stopwords.words('english'))\n",
    "\n",
    "    word_tokens = word_tokenize(text)\n",
    "\n",
    "    filtered_sentence = [w for w in word_tokens if not w in stop_words]\n",
    "    filtered_sentence_original = filtered_sentence.copy()\n",
    "\n",
    "    for w in filtered_sentence:\n",
    "        filtered_sentence[filtered_sentence_original.index(w)] = ps.stem(w)\n",
    "        filtered_sentence[filtered_sentence_original.index(w)] = lemmatizer.lemmatize(w)\n",
    "        \n",
    "    return filtered_sentence"
   ]
  },
  {
   "cell_type": "code",
   "execution_count": 16,
   "metadata": {},
   "outputs": [],
   "source": [
    "text1_preprocess = text_preprocess(text1)\n",
    "text2_preprocess = text_preprocess(text2)"
   ]
  },
  {
   "cell_type": "code",
   "execution_count": 17,
   "metadata": {},
   "outputs": [
    {
     "name": "stdout",
     "output_type": "stream",
     "text": [
      "['In', 'point', 'view', 'actually', 'good', '.']\n"
     ]
    }
   ],
   "source": [
    "print(text_preprocess(\"In my point of view actually it is very good.\"))"
   ]
  },
  {
   "cell_type": "code",
   "execution_count": 9,
   "metadata": {},
   "outputs": [],
   "source": [
    "#import keywordextraction.py\n",
    "from keywordsextraction import keyPhraseExtraction_yake"
   ]
  },
  {
   "cell_type": "code",
   "execution_count": 11,
   "metadata": {},
   "outputs": [
    {
     "name": "stdout",
     "output_type": "stream",
     "text": [
      "{'myself', \"weren't\", 'ours', \"wouldn't\", 'him', \"mustn't\", 'you', \"haven't\", 'so', \"hasn't\", 'll', 'itself', 'it', \"it's\", 'once', \"you'd\", 'is', \"couldn't\", 'doing', 'my', 'her', 'these', 'hasn', 'will', 'are', 'now', 'why', \"doesn't\", 's', 'with', 'wasn', 'did', 'we', 'where', 'into', 'have', 'too', 'yours', 'needn', 'themselves', \"wasn't\", 'his', 'being', 'nor', 't', 'over', \"she's\", 'its', \"you've\", 'y', 'of', 'from', 'they', 'during', \"should've\", 'aren', 'there', 'o', 'through', 'ma', 'm', 'few', 'this', 'was', 'as', 'because', 'any', 'she', 'after', 'or', 'very', 'again', 'while', 'to', 'won', 'more', 'am', 'shouldn', 'against', 'each', 'in', 're', 'yourselves', 'd', 'haven', 'that', \"aren't\", \"hadn't\", 'how', 'can', 'does', 'those', 'he', 'hadn', 'some', 'herself', 'yourself', 'all', 'no', 'for', 'hers', 'most', \"that'll\", 'out', 'doesn', 'other', 'me', 'had', 'having', 'shan', 'theirs', \"shouldn't\", \"didn't\", 'mightn', 'if', 'own', \"you're\", 'has', 'and', 'mustn', 'be', 'between', 'been', 'than', 'wouldn', 'before', 'i', 'not', \"you'll\", 'at', 'then', 'by', \"needn't\", 'were', 'them', \"don't\", 'don', 'isn', 'which', 'their', 'under', 've', 'himself', 'couldn', 'an', 'when', 'such', 'both', 'whom', 'above', 'do', 'same', 'further', 'up', 'ain', 'should', 'didn', \"isn't\", 'just', \"mightn't\", 'until', 'on', 'your', 'our', 'below', 'but', 'here', 'weren', 'about', 'ourselves', \"shan't\", 'only', 'who', 'down', 'what', 'the', 'off', 'a', \"won't\"}\n",
      "Keyphrase:  okay : score 0.1741869991708147\n",
      "Keyphrase:  movie was okay : score 0.21302533871623272\n",
      "Keyphrase:  movie : score 0.297171168694245\n",
      "Keyphrase:  acting was decent : score 0.31435915659547037\n",
      "Keyphrase:  decent : score 0.4228215398365824\n",
      "Keyphrase:  acting : score 0.5656593320778536\n",
      "Keyphrase:  would : score 0.6548660208866818\n",
      "Keyphrase:  watch : score 0.6548660208866818\n",
      "Keyphrase:  director : score 0.6548660208866818\n",
      "Keyphrase:  would watch : score 0.750852024642277\n"
     ]
    }
   ],
   "source": [
    "keyPhraseExtraction_yake(text2)"
   ]
  },
  {
   "cell_type": "code",
   "execution_count": 10,
   "metadata": {},
   "outputs": [
    {
     "name": "stdout",
     "output_type": "stream",
     "text": [
      "{'myself', \"weren't\", 'ours', \"wouldn't\", 'him', \"mustn't\", 'you', \"haven't\", 'so', \"hasn't\", 'll', 'itself', 'it', \"it's\", 'once', \"you'd\", 'is', \"couldn't\", 'doing', 'my', 'her', 'these', 'hasn', 'will', 'are', 'now', 'why', \"doesn't\", 's', 'with', 'wasn', 'did', 'we', 'where', 'into', 'have', 'too', 'yours', 'needn', 'themselves', \"wasn't\", 'his', 'being', 'nor', 't', 'over', \"she's\", 'its', \"you've\", 'y', 'of', 'from', 'they', 'during', \"should've\", 'aren', 'there', 'o', 'through', 'ma', 'm', 'few', 'this', 'was', 'as', 'because', 'any', 'she', 'after', 'or', 'very', 'again', 'while', 'to', 'won', 'more', 'am', 'shouldn', 'against', 'each', 'in', 're', 'yourselves', 'd', 'haven', 'that', \"aren't\", \"hadn't\", 'how', 'can', 'does', 'those', 'he', 'hadn', 'some', 'herself', 'yourself', 'all', 'no', 'for', 'hers', 'most', \"that'll\", 'out', 'doesn', 'other', 'me', 'had', 'having', 'shan', 'theirs', \"shouldn't\", \"didn't\", 'mightn', 'if', 'own', \"you're\", 'has', 'and', 'mustn', 'be', 'between', 'been', 'than', 'wouldn', 'before', 'i', 'not', \"you'll\", 'at', 'then', 'by', \"needn't\", 'were', 'them', \"don't\", 'don', 'isn', 'which', 'their', 'under', 've', 'himself', 'couldn', 'an', 'when', 'such', 'both', 'whom', 'above', 'do', 'same', 'further', 'up', 'ain', 'should', 'didn', \"isn't\", 'just', \"mightn't\", 'until', 'on', 'your', 'our', 'below', 'but', 'here', 'weren', 'about', 'ourselves', \"shan't\", 'only', 'who', 'down', 'what', 'the', 'off', 'a', \"won't\"}\n",
      "Keyphrase:  terrible : score 0.17177521569455717\n",
      "Keyphrase:  movie was terrible : score 0.20864896200212515\n",
      "Keyphrase:  movie : score 0.29513563902538753\n",
      "Keyphrase:  acting was awful : score 0.3073818373902559\n",
      "Keyphrase:  awful : score 0.4187126706439023\n",
      "Keyphrase:  acting : score 0.5615127884067688\n",
      "Keyphrase:  would : score 0.6510457398118691\n",
      "Keyphrase:  never : score 0.6510457398118691\n",
      "Keyphrase:  watch : score 0.6510457398118691\n",
      "Keyphrase:  director : score 0.6510457398118691\n"
     ]
    }
   ],
   "source": [
    "keyPhraseExtraction_yake(text1)"
   ]
  }
 ],
 "metadata": {
  "interpreter": {
   "hash": "42588fd11209419b7c81abe23e31a1d2101f60811b02170c268e57ebb57d5d9a"
  },
  "kernelspec": {
   "display_name": "Python 3.9.7 ('base')",
   "language": "python",
   "name": "python3"
  },
  "language_info": {
   "codemirror_mode": {
    "name": "ipython",
    "version": 3
   },
   "file_extension": ".py",
   "mimetype": "text/x-python",
   "name": "python",
   "nbconvert_exporter": "python",
   "pygments_lexer": "ipython3",
   "version": "3.9.7"
  },
  "orig_nbformat": 4
 },
 "nbformat": 4,
 "nbformat_minor": 2
}
