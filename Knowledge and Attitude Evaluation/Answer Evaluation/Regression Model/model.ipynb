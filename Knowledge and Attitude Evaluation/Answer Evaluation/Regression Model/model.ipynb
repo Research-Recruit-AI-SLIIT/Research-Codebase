{
 "cells": [
  {
   "cell_type": "code",
   "execution_count": 5,
   "metadata": {},
   "outputs": [],
   "source": [
    "import pandas as pd\n",
    "import numpy as np\n",
    "import matplotlib.pyplot as plt\n",
    "import seaborn as sns\n",
    "from sklearn.model_selection import train_test_split\n",
    "from sklearn.linear_model import LinearRegression\n",
    "from sklearn.metrics import mean_squared_error\n",
    "from sklearn.metrics import r2_score\n",
    "from sklearn.metrics import mean_absolute_error\n",
    "from sklearn.metrics import explained_variance_score\n",
    "from sklearn.metrics import accuracy_score"
   ]
  },
  {
   "cell_type": "code",
   "execution_count": 9,
   "metadata": {},
   "outputs": [],
   "source": [
    "data = pd.read_csv('../Data/merged.csv')"
   ]
  },
  {
   "cell_type": "code",
   "execution_count": 10,
   "metadata": {},
   "outputs": [
    {
     "data": {
      "text/html": [
       "<div>\n",
       "<style scoped>\n",
       "    .dataframe tbody tr th:only-of-type {\n",
       "        vertical-align: middle;\n",
       "    }\n",
       "\n",
       "    .dataframe tbody tr th {\n",
       "        vertical-align: top;\n",
       "    }\n",
       "\n",
       "    .dataframe thead th {\n",
       "        text-align: right;\n",
       "    }\n",
       "</style>\n",
       "<table border=\"1\" class=\"dataframe\">\n",
       "  <thead>\n",
       "    <tr style=\"text-align: right;\">\n",
       "      <th></th>\n",
       "      <th>Question_ID</th>\n",
       "      <th>Question</th>\n",
       "      <th>Model_Answer</th>\n",
       "      <th>Answer</th>\n",
       "      <th>Score</th>\n",
       "      <th>LengthRatio</th>\n",
       "      <th>Cosine_Similarity</th>\n",
       "    </tr>\n",
       "  </thead>\n",
       "  <tbody>\n",
       "    <tr>\n",
       "      <th>0</th>\n",
       "      <td>1.1</td>\n",
       "      <td>What is the role of a prototype program in pro...</td>\n",
       "      <td>To simulate the behaviour of portions of the d...</td>\n",
       "      <td>High risk problems are address in the prototyp...</td>\n",
       "      <td>3.5</td>\n",
       "      <td>2.791667</td>\n",
       "      <td>0.764501</td>\n",
       "    </tr>\n",
       "    <tr>\n",
       "      <th>1</th>\n",
       "      <td>1.1</td>\n",
       "      <td>What is the role of a prototype program in pro...</td>\n",
       "      <td>To simulate the behaviour of portions of the d...</td>\n",
       "      <td>To simulate portions of the desired final prod...</td>\n",
       "      <td>5.0</td>\n",
       "      <td>2.819444</td>\n",
       "      <td>0.710008</td>\n",
       "    </tr>\n",
       "    <tr>\n",
       "      <th>2</th>\n",
       "      <td>1.1</td>\n",
       "      <td>What is the role of a prototype program in pro...</td>\n",
       "      <td>To simulate the behaviour of portions of the d...</td>\n",
       "      <td>A prototype program simulates the behaviors of...</td>\n",
       "      <td>4.0</td>\n",
       "      <td>1.625000</td>\n",
       "      <td>0.830750</td>\n",
       "    </tr>\n",
       "    <tr>\n",
       "      <th>3</th>\n",
       "      <td>1.1</td>\n",
       "      <td>What is the role of a prototype program in pro...</td>\n",
       "      <td>To simulate the behaviour of portions of the d...</td>\n",
       "      <td>Defined in the Specification phase a prototype...</td>\n",
       "      <td>5.0</td>\n",
       "      <td>3.513889</td>\n",
       "      <td>0.835635</td>\n",
       "    </tr>\n",
       "    <tr>\n",
       "      <th>4</th>\n",
       "      <td>1.1</td>\n",
       "      <td>What is the role of a prototype program in pro...</td>\n",
       "      <td>To simulate the behaviour of portions of the d...</td>\n",
       "      <td>It is used to let the users have a first idea ...</td>\n",
       "      <td>3.0</td>\n",
       "      <td>3.194444</td>\n",
       "      <td>0.771588</td>\n",
       "    </tr>\n",
       "  </tbody>\n",
       "</table>\n",
       "</div>"
      ],
      "text/plain": [
       "   Question_ID                                           Question  \\\n",
       "0          1.1  What is the role of a prototype program in pro...   \n",
       "1          1.1  What is the role of a prototype program in pro...   \n",
       "2          1.1  What is the role of a prototype program in pro...   \n",
       "3          1.1  What is the role of a prototype program in pro...   \n",
       "4          1.1  What is the role of a prototype program in pro...   \n",
       "\n",
       "                                        Model_Answer  \\\n",
       "0  To simulate the behaviour of portions of the d...   \n",
       "1  To simulate the behaviour of portions of the d...   \n",
       "2  To simulate the behaviour of portions of the d...   \n",
       "3  To simulate the behaviour of portions of the d...   \n",
       "4  To simulate the behaviour of portions of the d...   \n",
       "\n",
       "                                              Answer  Score  LengthRatio  \\\n",
       "0  High risk problems are address in the prototyp...    3.5     2.791667   \n",
       "1  To simulate portions of the desired final prod...    5.0     2.819444   \n",
       "2  A prototype program simulates the behaviors of...    4.0     1.625000   \n",
       "3  Defined in the Specification phase a prototype...    5.0     3.513889   \n",
       "4  It is used to let the users have a first idea ...    3.0     3.194444   \n",
       "\n",
       "   Cosine_Similarity  \n",
       "0           0.764501  \n",
       "1           0.710008  \n",
       "2           0.830750  \n",
       "3           0.835635  \n",
       "4           0.771588  "
      ]
     },
     "execution_count": 10,
     "metadata": {},
     "output_type": "execute_result"
    }
   ],
   "source": [
    "data.head()"
   ]
  },
  {
   "cell_type": "code",
   "execution_count": 28,
   "metadata": {},
   "outputs": [],
   "source": [
    "# model to predict the Score using LengthRatio and CosineSimilarity\n",
    "def model(data):\n",
    "    X = data[['Cosine_Similarity']]\n",
    "    y = data['Score']\n",
    "    X_train, X_test, y_train, y_test = train_test_split(X, y, test_size=0.3, random_state=0)\n",
    "    regressor = LinearRegression()\n",
    "    regressor.fit(X_train, y_train)\n",
    "    y_pred = regressor.predict(X_test)\n",
    "    print('Mean Absolute Error:', mean_absolute_error(y_test, y_pred))\n",
    "    print('Mean Squared Error:', mean_squared_error(y_test, y_pred))\n",
    "    print('Explained Variance Score:', explained_variance_score(y_test, y_pred))\n",
    "    print('R2 Score:', r2_score(y_test, y_pred))\n",
    "    print('Accuracy Score for Regression Model : ', regressor.score(X_test, y_test))"
   ]
  },
  {
   "cell_type": "code",
   "execution_count": 22,
   "metadata": {},
   "outputs": [],
   "source": [
    "def RandomForestForRegression(data):\n",
    "    from sklearn.ensemble import RandomForestRegressor\n",
    "    X = data[['LengthRatio', 'Cosine_Similarity']]\n",
    "    y = data['Score']\n",
    "    X_train, X_test, y_train, y_test = train_test_split(X, y, test_size=0.3, random_state=0)\n",
    "    regressor = RandomForestRegressor(n_estimators=100)\n",
    "    regressor.fit(X_train, y_train)\n",
    "    y_pred = regressor.predict(X_test)\n",
    "    print('Mean Absolute Error:', mean_absolute_error(y_test, y_pred))\n",
    "    print('Mean Squared Error:', mean_squared_error(y_test, y_pred))\n",
    "    print('Explained Variance Score:', explained_variance_score(y_test, y_pred))\n",
    "    print('R2 Score:', r2_score(y_test, y_pred))\n",
    "    print('Accuracy Score for Regression Model : ', regressor.score(X_test, y_test))\n",
    "    return regressor"
   ]
  },
  {
   "cell_type": "code",
   "execution_count": 29,
   "metadata": {},
   "outputs": [
    {
     "name": "stdout",
     "output_type": "stream",
     "text": [
      "Mean Absolute Error: 0.797480457323552\n",
      "Mean Squared Error: 1.0777935166399026\n",
      "Explained Variance Score: 0.11627329267013475\n",
      "R2 Score: 0.11586794849909077\n",
      "Accuracy Score for Regression Model :  0.11586794849909077\n"
     ]
    }
   ],
   "source": [
    "model(data)"
   ]
  },
  {
   "cell_type": "code",
   "execution_count": 23,
   "metadata": {},
   "outputs": [
    {
     "name": "stdout",
     "output_type": "stream",
     "text": [
      "Mean Absolute Error: 0.8261851978171895\n",
      "Mean Squared Error: 1.2058343771316506\n",
      "Explained Variance Score: 0.010845319739036574\n",
      "R2 Score: 0.010833888714211315\n",
      "Accuracy Score for Regression Model :  0.010833888714211315\n"
     ]
    }
   ],
   "source": [
    "model = RandomForestForRegression(data)"
   ]
  }
 ],
 "metadata": {
  "interpreter": {
   "hash": "2a8875a9de9d7ae50992e4bd370660b778ec8ba762c63430b991b7684d493a6c"
  },
  "kernelspec": {
   "display_name": "Python 3.9.12 ('research')",
   "language": "python",
   "name": "python3"
  },
  "language_info": {
   "codemirror_mode": {
    "name": "ipython",
    "version": 3
   },
   "file_extension": ".py",
   "mimetype": "text/x-python",
   "name": "python",
   "nbconvert_exporter": "python",
   "pygments_lexer": "ipython3",
   "version": "3.9.12"
  },
  "orig_nbformat": 4
 },
 "nbformat": 4,
 "nbformat_minor": 2
}
