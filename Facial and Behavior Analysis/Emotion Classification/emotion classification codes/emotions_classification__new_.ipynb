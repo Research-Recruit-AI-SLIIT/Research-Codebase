{
  "metadata": {
    "kernelspec": {
      "language": "python",
      "display_name": "Python 3",
      "name": "python3"
    },
    "language_info": {
      "pygments_lexer": "ipython3",
      "nbconvert_exporter": "python",
      "version": "3.6.4",
      "file_extension": ".py",
      "codemirror_mode": {
        "name": "ipython",
        "version": 3
      },
      "name": "python",
      "mimetype": "text/x-python"
    },
    "colab": {
      "name": "emotions-classification (new).ipynb",
      "provenance": []
    }
  },
  "nbformat_minor": 0,
  "nbformat": 4,
  "cells": [
    {
      "cell_type": "code",
      "source": [
        "import matplotlib.pyplot as plt\n",
        "import numpy as np\n",
        "import pandas as pd\n",
        "import seaborn as sns\n",
        "import os\n",
        "\n",
        "# Importing Deep Learning Libraries\n",
        "\n",
        "from keras.preprocessing.image import load_img, img_to_array\n",
        "from keras.preprocessing.image import ImageDataGenerator\n",
        "from keras.layers import Dense,Input,Dropout,GlobalAveragePooling2D,Flatten,Conv2D,BatchNormalization,Activation,MaxPooling2D\n",
        "from keras.models import Model,Sequential\n",
        "from tensorflow.keras.optimizers import Adam,SGD,RMSprop"
      ],
      "metadata": {
        "execution": {
          "iopub.status.busy": "2022-03-29T12:56:23.414164Z",
          "iopub.execute_input": "2022-03-29T12:56:23.414817Z",
          "iopub.status.idle": "2022-03-29T12:56:30.618693Z",
          "shell.execute_reply.started": "2022-03-29T12:56:23.414711Z",
          "shell.execute_reply": "2022-03-29T12:56:30.617556Z"
        },
        "trusted": true,
        "id": "_-FB17YuX2B5"
      },
      "execution_count": null,
      "outputs": []
    },
    {
      "cell_type": "code",
      "source": [
        "import matplotlib.pyplot as plt\n",
        "import numpy as np\n",
        "import pandas as pd\n",
        "import seaborn as sns\n",
        "import os\n",
        "\n",
        "# Importing Deep Learning Libraries\n",
        "from tensorflow.keras.optimizers import Adam\n",
        "\n",
        "from keras.preprocessing.image import load_img, img_to_array\n",
        "from keras.preprocessing.image import ImageDataGenerator\n",
        "from keras.layers import Dense,Input,Dropout,GlobalAveragePooling2D,Flatten,Conv2D,BatchNormalization,Activation,MaxPooling2D\n",
        "from keras.models import Model,Sequential\n",
        "from tensorflow.keras.optimizers import SGD,RMSprop"
      ],
      "metadata": {
        "execution": {
          "iopub.status.busy": "2022-03-29T12:56:34.364207Z",
          "iopub.execute_input": "2022-03-29T12:56:34.364558Z",
          "iopub.status.idle": "2022-03-29T12:56:34.372152Z",
          "shell.execute_reply.started": "2022-03-29T12:56:34.364521Z",
          "shell.execute_reply": "2022-03-29T12:56:34.371227Z"
        },
        "trusted": true,
        "id": "dqGeYZ51X2B7"
      },
      "execution_count": null,
      "outputs": []
    },
    {
      "cell_type": "code",
      "source": [
        "picture_size = 48\n",
        "folder_path = \"../input/face-expression-recognition-dataset/images/\""
      ],
      "metadata": {
        "execution": {
          "iopub.status.busy": "2022-03-29T12:56:37.669056Z",
          "iopub.execute_input": "2022-03-29T12:56:37.669416Z",
          "iopub.status.idle": "2022-03-29T12:56:37.674734Z",
          "shell.execute_reply.started": "2022-03-29T12:56:37.669384Z",
          "shell.execute_reply": "2022-03-29T12:56:37.673741Z"
        },
        "trusted": true,
        "id": "F8hf8aveX2B8"
      },
      "execution_count": null,
      "outputs": []
    },
    {
      "cell_type": "code",
      "source": [
        "expression = 'happy'\n",
        "\n",
        "plt.figure(figsize= (12,12))\n",
        "for i in range(1, 10, 1):\n",
        "    plt.subplot(3,3,i)\n",
        "    img = load_img(folder_path+\"train/\"+expression+\"/\"+\n",
        "                  os.listdir(folder_path + \"train/\" + expression)[i], target_size=(picture_size, picture_size))\n",
        "    plt.imshow(img)   \n",
        "plt.show()"
      ],
      "metadata": {
        "execution": {
          "iopub.status.busy": "2022-03-29T12:56:40.209378Z",
          "iopub.execute_input": "2022-03-29T12:56:40.21028Z",
          "iopub.status.idle": "2022-03-29T12:56:41.758747Z",
          "shell.execute_reply.started": "2022-03-29T12:56:40.210228Z",
          "shell.execute_reply": "2022-03-29T12:56:41.757662Z"
        },
        "trusted": true,
        "id": "R6Kz5FNIX2B-"
      },
      "execution_count": null,
      "outputs": []
    },
    {
      "cell_type": "code",
      "source": [
        "batch_size  = 128\n",
        "\n",
        "datagen_train  = ImageDataGenerator()\n",
        "datagen_val = ImageDataGenerator()\n",
        "\n",
        "train_set = datagen_train.flow_from_directory(folder_path+\"train\",\n",
        "                                              target_size = (picture_size,picture_size),\n",
        "                                              color_mode = \"grayscale\",\n",
        "                                              batch_size=batch_size,\n",
        "                                              class_mode='categorical',\n",
        "                                              shuffle=True)\n",
        "\n",
        "\n",
        "test_set = datagen_val.flow_from_directory(folder_path+\"validation\",\n",
        "                                              target_size = (picture_size,picture_size),\n",
        "                                              color_mode = \"grayscale\",\n",
        "                                              batch_size=batch_size,\n",
        "                                              class_mode='categorical',\n",
        "                                              shuffle=False)"
      ],
      "metadata": {
        "execution": {
          "iopub.status.busy": "2022-03-29T12:56:45.224449Z",
          "iopub.execute_input": "2022-03-29T12:56:45.225671Z",
          "iopub.status.idle": "2022-03-29T12:57:05.466871Z",
          "shell.execute_reply.started": "2022-03-29T12:56:45.22561Z",
          "shell.execute_reply": "2022-03-29T12:57:05.465851Z"
        },
        "trusted": true,
        "id": "pViGneroX2B_"
      },
      "execution_count": null,
      "outputs": []
    },
    {
      "cell_type": "code",
      "source": [
        "from tensorflow.keras.optimizers import Adam,SGD,RMSprop\n",
        "\n",
        "\n",
        "no_of_classes = 7\n",
        "\n",
        "model = Sequential()\n",
        "\n",
        "#1st CNN layer\n",
        "model.add(Conv2D(64,(3,3),padding = 'same',input_shape = (48,48,1)))\n",
        "model.add(BatchNormalization())\n",
        "model.add(Activation('relu'))\n",
        "model.add(MaxPooling2D(pool_size = (2,2)))\n",
        "model.add(Dropout(0.25))\n",
        "\n",
        "#2nd CNN layer\n",
        "model.add(Conv2D(128,(5,5),padding = 'same'))\n",
        "model.add(BatchNormalization())\n",
        "model.add(Activation('relu'))\n",
        "model.add(MaxPooling2D(pool_size = (2,2)))\n",
        "model.add(Dropout (0.25))\n",
        "\n",
        "#3rd CNN layer\n",
        "model.add(Conv2D(512,(3,3),padding = 'same'))\n",
        "model.add(BatchNormalization())\n",
        "model.add(Activation('relu'))\n",
        "model.add(MaxPooling2D(pool_size = (2,2)))\n",
        "model.add(Dropout (0.25))\n",
        "\n",
        "#4th CNN layer\n",
        "model.add(Conv2D(512,(3,3), padding='same'))\n",
        "model.add(BatchNormalization())\n",
        "model.add(Activation('relu'))\n",
        "model.add(MaxPooling2D(pool_size=(2, 2)))\n",
        "model.add(Dropout(0.25))\n",
        "\n",
        "model.add(Flatten())\n",
        "\n",
        "#Fully connected 1st layer\n",
        "model.add(Dense(256))\n",
        "model.add(BatchNormalization())\n",
        "model.add(Activation('relu'))\n",
        "model.add(Dropout(0.25))\n",
        "\n",
        "\n",
        "# Fully connected layer 2nd layer\n",
        "model.add(Dense(512))\n",
        "model.add(BatchNormalization())\n",
        "model.add(Activation('relu'))\n",
        "model.add(Dropout(0.25))\n",
        "\n",
        "model.add(Dense(no_of_classes, activation='softmax'))\n",
        "\n",
        "\n",
        "\n",
        "opt = Adam(lr = 0.0001)\n",
        "model.compile(optimizer=opt,loss='categorical_crossentropy', metrics=['accuracy'])\n",
        "model.summary()"
      ],
      "metadata": {
        "execution": {
          "iopub.status.busy": "2022-03-29T12:57:29.655106Z",
          "iopub.execute_input": "2022-03-29T12:57:29.655462Z",
          "iopub.status.idle": "2022-03-29T12:57:29.935366Z",
          "shell.execute_reply.started": "2022-03-29T12:57:29.655429Z",
          "shell.execute_reply": "2022-03-29T12:57:29.934343Z"
        },
        "trusted": true,
        "id": "3ON0aq_1X2CB"
      },
      "execution_count": null,
      "outputs": []
    },
    {
      "cell_type": "code",
      "source": [
        "from tensorflow.keras.optimizers import RMSprop,SGD,Adam\n",
        "from keras.callbacks import ModelCheckpoint, EarlyStopping, ReduceLROnPlateau\n",
        "\n",
        "checkpoint = ModelCheckpoint(\"./model.h5\", monitor='val_acc', verbose=1, save_best_only=True, mode='max')\n",
        "\n",
        "early_stopping = EarlyStopping(monitor='val_loss',\n",
        "                          min_delta=0,\n",
        "                          patience=3,\n",
        "                          verbose=1,\n",
        "                          restore_best_weights=True\n",
        "                          )\n",
        "\n",
        "reduce_learningrate = ReduceLROnPlateau(monitor='val_loss',\n",
        "                              factor=0.2,\n",
        "                              patience=3,\n",
        "                              verbose=1,\n",
        "                              min_delta=0.0001)\n",
        "\n",
        "callbacks_list = [early_stopping,checkpoint,reduce_learningrate]\n",
        "\n",
        "epochs = 48\n",
        "\n",
        "model.compile(loss='categorical_crossentropy',\n",
        "              optimizer = Adam(lr=0.001),\n",
        "              metrics=['accuracy'])"
      ],
      "metadata": {
        "execution": {
          "iopub.status.busy": "2022-03-29T12:57:44.054041Z",
          "iopub.execute_input": "2022-03-29T12:57:44.054398Z",
          "iopub.status.idle": "2022-03-29T12:57:44.069715Z",
          "shell.execute_reply.started": "2022-03-29T12:57:44.05436Z",
          "shell.execute_reply": "2022-03-29T12:57:44.068918Z"
        },
        "trusted": true,
        "id": "TrL-EJKcX2CD"
      },
      "execution_count": null,
      "outputs": []
    },
    {
      "cell_type": "code",
      "source": [
        "history = model.fit_generator(generator=train_set,\n",
        "                                steps_per_epoch=train_set.n//train_set.batch_size,\n",
        "                                epochs=epochs,\n",
        "                                validation_data = test_set,\n",
        "                                validation_steps = test_set.n//test_set.batch_size,\n",
        "                                callbacks=callbacks_list\n",
        "                                )"
      ],
      "metadata": {
        "execution": {
          "iopub.status.busy": "2022-03-29T12:57:57.389896Z",
          "iopub.execute_input": "2022-03-29T12:57:57.390375Z"
        },
        "trusted": true,
        "id": "K4Lx0MGeX2CF"
      },
      "execution_count": null,
      "outputs": []
    }
  ]
}