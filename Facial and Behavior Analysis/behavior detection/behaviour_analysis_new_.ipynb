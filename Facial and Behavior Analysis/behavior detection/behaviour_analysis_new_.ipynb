{
  "metadata": {
    "kernelspec": {
      "language": "python",
      "display_name": "Python 3",
      "name": "python3"
    },
    "language_info": {
      "name": "python",
      "version": "3.7.12",
      "mimetype": "text/x-python",
      "codemirror_mode": {
        "name": "ipython",
        "version": 3
      },
      "pygments_lexer": "ipython3",
      "nbconvert_exporter": "python",
      "file_extension": ".py"
    },
    "colab": {
      "name": "behaviour-analysis(new).ipynb",
      "provenance": []
    }
  },
  "nbformat_minor": 0,
  "nbformat": 4,
  "cells": [
    {
      "cell_type": "code",
      "source": [
        "# This Python 3 environment comes with many helpful analytics libraries installed\n",
        "# It is defined by the kaggle/python Docker image: https://github.com/kaggle/docker-python\n",
        "# For example, here's several helpful packages to load\n",
        "\n",
        "import numpy as np # linear algebra\n",
        "import pandas as pd # data processing, CSV file I/O (e.g. pd.read_csv)\n",
        "\n",
        "# Input data files are available in the read-only \"../input/\" directory\n",
        "# For example, running this (by clicking run or pressing Shift+Enter) will list all files under the input directory\n",
        "\n",
        "import os\n",
        "for dirname, _, filenames in os.walk('/kaggle/input'):\n",
        "    for filename in filenames:\n",
        "        print(os.path.join(dirname, filename))\n",
        "\n",
        "# You can write up to 20GB to the current directory (/kaggle/working/) that gets preserved as output when you create a version using \"Save & Run All\" \n",
        "# You can also write temporary files to /kaggle/temp/, but they won't be saved outside of the current session"
      ],
      "metadata": {
        "_uuid": "8f2839f25d086af736a60e9eeb907d3b93b6e0e5",
        "_cell_guid": "b1076dfc-b9ad-4769-8c92-a6c4dae69d19",
        "trusted": true,
        "id": "VslPcmhChf5s"
      },
      "execution_count": null,
      "outputs": []
    },
    {
      "cell_type": "code",
      "source": [
        "import matplotlib.pyplot as plt\n",
        "import numpy as np\n",
        "import pandas as pd\n",
        "import seaborn as sns\n",
        "import os\n",
        "\n",
        "# Importing Deep Learning Libraries\n",
        "\n",
        "from keras.preprocessing.image import load_img, img_to_array\n",
        "from keras.preprocessing.image import ImageDataGenerator\n",
        "from keras.layers import Dense,Input,Dropout,GlobalAveragePooling2D,Flatten,Conv2D,BatchNormalization,Activation,MaxPooling2D\n",
        "from keras.models import Model,Sequential\n",
        "from tensorflow.keras.optimizers import Adam,SGD,RMSprop"
      ],
      "metadata": {
        "execution": {
          "iopub.status.busy": "2022-04-26T15:23:36.447797Z",
          "iopub.execute_input": "2022-04-26T15:23:36.448071Z",
          "iopub.status.idle": "2022-04-26T15:23:36.453880Z",
          "shell.execute_reply.started": "2022-04-26T15:23:36.448032Z",
          "shell.execute_reply": "2022-04-26T15:23:36.453309Z"
        },
        "trusted": true,
        "id": "YsXzO0kwhf5w"
      },
      "execution_count": null,
      "outputs": []
    },
    {
      "cell_type": "code",
      "source": [
        "picture_size = 48\n",
        "folder_path = \"../input/behaviour-data-set/behavior dataset/\""
      ],
      "metadata": {
        "execution": {
          "iopub.status.busy": "2022-04-26T15:23:39.931153Z",
          "iopub.execute_input": "2022-04-26T15:23:39.931659Z",
          "iopub.status.idle": "2022-04-26T15:23:39.936263Z",
          "shell.execute_reply.started": "2022-04-26T15:23:39.931617Z",
          "shell.execute_reply": "2022-04-26T15:23:39.935075Z"
        },
        "trusted": true,
        "id": "QUe4n3C_hf5w"
      },
      "execution_count": null,
      "outputs": []
    },
    {
      "cell_type": "code",
      "source": [
        "behavior = 'Scratching head'\n",
        "\n",
        "plt.figure(figsize= (12,12))\n",
        "for i in range(1, 10, 1):\n",
        "    plt.subplot(3,3,i)\n",
        "    img = load_img(folder_path+\"Training/\"+behavior+\"/\"+\n",
        "                  os.listdir(folder_path + \"Training/\" + behavior)[i], target_size=(picture_size, picture_size))\n",
        "    plt.imshow(img)   \n",
        "plt.show()"
      ],
      "metadata": {
        "execution": {
          "iopub.status.busy": "2022-04-26T15:23:41.657999Z",
          "iopub.execute_input": "2022-04-26T15:23:41.658843Z",
          "iopub.status.idle": "2022-04-26T15:23:42.548911Z",
          "shell.execute_reply.started": "2022-04-26T15:23:41.658804Z",
          "shell.execute_reply": "2022-04-26T15:23:42.548065Z"
        },
        "trusted": true,
        "id": "oVjAHDK_hf5x"
      },
      "execution_count": null,
      "outputs": []
    },
    {
      "cell_type": "code",
      "source": [
        "batch_size  = 32\n",
        "\n",
        "datagen_train  = ImageDataGenerator()\n",
        "datagen_val = ImageDataGenerator()\n",
        "\n",
        "train_set = datagen_train.flow_from_directory(folder_path+\"Training\",\n",
        "                                              target_size = (picture_size,picture_size),\n",
        "                                              color_mode = \"grayscale\",\n",
        "                                              batch_size=batch_size,\n",
        "                                              class_mode='categorical',\n",
        "                                              shuffle=True)\n",
        "\n",
        "\n",
        "test_set = datagen_val.flow_from_directory(folder_path+\"validation\",\n",
        "                                              target_size = (picture_size,picture_size),\n",
        "                                              color_mode = \"grayscale\",\n",
        "                                              batch_size=batch_size,\n",
        "                                              class_mode='categorical',\n",
        "                                              shuffle=False)"
      ],
      "metadata": {
        "execution": {
          "iopub.status.busy": "2022-04-26T15:23:46.683186Z",
          "iopub.execute_input": "2022-04-26T15:23:46.683649Z",
          "iopub.status.idle": "2022-04-26T15:23:46.898306Z",
          "shell.execute_reply.started": "2022-04-26T15:23:46.683611Z",
          "shell.execute_reply": "2022-04-26T15:23:46.897462Z"
        },
        "trusted": true,
        "id": "I8z0x_bGhf5y"
      },
      "execution_count": null,
      "outputs": []
    },
    {
      "cell_type": "code",
      "source": [
        "from tensorflow.keras.optimizers import Adam,SGD,RMSprop\n",
        "\n",
        "\n",
        "no_of_classes = 2\n",
        "\n",
        "model = Sequential()\n",
        "\n",
        "#1st CNN layer\n",
        "model.add(Conv2D(64,(3,3),padding = 'same',input_shape = (48,48,1)))\n",
        "model.add(BatchNormalization())\n",
        "model.add(Activation('relu'))\n",
        "model.add(MaxPooling2D(pool_size = (2,2)))\n",
        "model.add(Dropout(0.25))\n",
        "\n",
        "#2nd CNN layer\n",
        "model.add(Conv2D(128,(5,5),padding = 'same'))\n",
        "model.add(BatchNormalization())\n",
        "model.add(Activation('relu'))\n",
        "model.add(MaxPooling2D(pool_size = (2,2)))\n",
        "model.add(Dropout (0.25))\n",
        "\n",
        "#3rd CNN layer\n",
        "model.add(Conv2D(512,(3,3),padding = 'same'))\n",
        "model.add(BatchNormalization())\n",
        "model.add(Activation('relu'))\n",
        "model.add(MaxPooling2D(pool_size = (2,2)))\n",
        "model.add(Dropout (0.25))\n",
        "\n",
        "#4th CNN layer\n",
        "model.add(Conv2D(512,(3,3), padding='same'))\n",
        "model.add(BatchNormalization())\n",
        "model.add(Activation('relu'))\n",
        "model.add(MaxPooling2D(pool_size=(2, 2)))\n",
        "model.add(Dropout(0.25))\n",
        "\n",
        "model.add(Flatten())\n",
        "\n",
        "#Fully connected 1st layer\n",
        "model.add(Dense(256))\n",
        "model.add(BatchNormalization())\n",
        "model.add(Activation('relu'))\n",
        "model.add(Dropout(0.25))\n",
        "\n",
        "\n",
        "# Fully connected layer 2nd layer\n",
        "model.add(Dense(512))\n",
        "model.add(BatchNormalization())\n",
        "model.add(Activation('relu'))\n",
        "model.add(Dropout(0.25))\n",
        "\n",
        "model.add(Dense(no_of_classes, activation='softmax'))\n",
        "\n",
        "\n",
        "\n",
        "opt = Adam(lr = 0.0001)\n",
        "model.compile(optimizer=opt,loss='categorical_crossentropy', metrics=['accuracy'])\n",
        "model.summary()"
      ],
      "metadata": {
        "execution": {
          "iopub.status.busy": "2022-04-26T15:23:49.819519Z",
          "iopub.execute_input": "2022-04-26T15:23:49.820083Z",
          "iopub.status.idle": "2022-04-26T15:23:50.051133Z",
          "shell.execute_reply.started": "2022-04-26T15:23:49.820034Z",
          "shell.execute_reply": "2022-04-26T15:23:50.050108Z"
        },
        "trusted": true,
        "id": "-tzRz_Nphf5y"
      },
      "execution_count": null,
      "outputs": []
    },
    {
      "cell_type": "code",
      "source": [
        "from tensorflow.keras.optimizers import RMSprop,SGD,Adam\n",
        "from keras.callbacks import ModelCheckpoint, EarlyStopping, ReduceLROnPlateau\n",
        "\n",
        "checkpoint = ModelCheckpoint(\"./model.h5\", monitor='val_acc', verbose=1, save_best_only=True, mode='max')\n",
        "\n",
        "early_stopping = EarlyStopping(monitor='val_loss',\n",
        "                          min_delta=0,\n",
        "                          patience=3,\n",
        "                          verbose=1,\n",
        "                          restore_best_weights=True\n",
        "                          )\n",
        "\n",
        "reduce_learningrate = ReduceLROnPlateau(monitor='val_loss',\n",
        "                              factor=0.2,\n",
        "                              patience=3,\n",
        "                              verbose=1,\n",
        "                              min_delta=0.0001)\n",
        "\n",
        "callbacks_list = [early_stopping,checkpoint,reduce_learningrate]\n",
        "\n",
        "epochs = 2\n",
        "\n",
        "model.compile(loss='categorical_crossentropy',\n",
        "              optimizer = Adam(lr=0.001),\n",
        "              metrics=['accuracy'])"
      ],
      "metadata": {
        "execution": {
          "iopub.status.busy": "2022-04-26T15:23:54.938297Z",
          "iopub.execute_input": "2022-04-26T15:23:54.938573Z",
          "iopub.status.idle": "2022-04-26T15:23:54.953479Z",
          "shell.execute_reply.started": "2022-04-26T15:23:54.938545Z",
          "shell.execute_reply": "2022-04-26T15:23:54.952460Z"
        },
        "trusted": true,
        "id": "KnFgu4yxhf5z"
      },
      "execution_count": null,
      "outputs": []
    },
    {
      "cell_type": "code",
      "source": [
        "history = model.fit_generator(generator=train_set,\n",
        "                                steps_per_epoch=train_set.n//train_set.batch_size,\n",
        "                                epochs=epochs,\n",
        "                                validation_data = test_set,\n",
        "                                validation_steps = test_set.n//test_set.batch_size,\n",
        "                                callbacks=callbacks_list\n",
        "                                )"
      ],
      "metadata": {
        "execution": {
          "iopub.status.busy": "2022-04-26T15:23:58.092994Z",
          "iopub.execute_input": "2022-04-26T15:23:58.093308Z",
          "iopub.status.idle": "2022-04-26T15:24:03.845781Z",
          "shell.execute_reply.started": "2022-04-26T15:23:58.093277Z",
          "shell.execute_reply": "2022-04-26T15:24:03.844900Z"
        },
        "trusted": true,
        "id": "iOnjR4Hdhf50"
      },
      "execution_count": null,
      "outputs": []
    },
    {
      "cell_type": "code",
      "source": [
        "model.save_weights('behaviour_detection_model.h5')"
      ],
      "metadata": {
        "execution": {
          "iopub.status.busy": "2022-04-26T15:24:07.743813Z",
          "iopub.execute_input": "2022-04-26T15:24:07.744587Z",
          "iopub.status.idle": "2022-04-26T15:24:07.817099Z",
          "shell.execute_reply.started": "2022-04-26T15:24:07.744550Z",
          "shell.execute_reply": "2022-04-26T15:24:07.816116Z"
        },
        "trusted": true,
        "id": "K8w0_KR4hf51"
      },
      "execution_count": null,
      "outputs": []
    }
  ]
}